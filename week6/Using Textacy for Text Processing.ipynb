{
 "cells": [
  {
   "cell_type": "markdown",
   "id": "cultural-netherlands",
   "metadata": {},
   "source": [
    "### What is Textacy?\n",
    "\n",
    "[textacy](https://github.com/chartbeat-labs/textacy) is a text pre/post-processing framework that will help make many of the tasks we performed in this course significantly easier. As its [Github description](https://github.com/chartbeat-labs/textacy) states:\n",
    "> textacy is a Python library for performing a variety of natural language processing (NLP) tasks, built on the high-performance spaCy library. With the fundamentals --- tokenization, part-of-speech tagging, dependency parsing, etc. --- delegated to another library, textacy focuses primarily on the tasks that come before and follow after.\n",
    "\n",
    "While `spacy` focuses on tokenization, part of speech tagging, named entity recognition, etc., `textacy` focuses on all the different tasks that come before and after."
   ]
  },
  {
   "cell_type": "code",
   "execution_count": null,
   "id": "magnetic-context",
   "metadata": {},
   "outputs": [],
   "source": [
    "# install library\n",
    "!pip install textacy"
   ]
  },
  {
   "cell_type": "markdown",
   "id": "ignored-stage",
   "metadata": {},
   "source": [
    "### Import Data"
   ]
  },
  {
   "cell_type": "code",
   "execution_count": 1,
   "id": "olympic-record",
   "metadata": {},
   "outputs": [],
   "source": [
    "import pandas as pd\n",
    "\n",
    "sms_df = pd.read_csv(\"../week4/SMS_train.csv\")"
   ]
  },
  {
   "cell_type": "markdown",
   "id": "downtown-front",
   "metadata": {},
   "source": [
    "### Cleaning Text\n",
    "One of the most common tasks that we perform during text preprocessing is normalizing entity tokens like URLs, phone numbers, currency, etc. In the past, we wrote our own custom regex to perform these tasks. With `textacy`, we can use some of its library methods."
   ]
  },
  {
   "cell_type": "code",
   "execution_count": null,
   "id": "noble-wrestling",
   "metadata": {},
   "outputs": [],
   "source": [
    "from textacy.preprocessing import normalize_hyphenated_words"
   ]
  },
  {
   "cell_type": "code",
   "execution_count": null,
   "id": "strategic-attempt",
   "metadata": {},
   "outputs": [],
   "source": []
  },
  {
   "cell_type": "code",
   "execution_count": null,
   "id": "formal-guess",
   "metadata": {},
   "outputs": [],
   "source": []
  },
  {
   "cell_type": "code",
   "execution_count": null,
   "id": "appreciated-money",
   "metadata": {},
   "outputs": [],
   "source": []
  }
 ],
 "metadata": {
  "kernelspec": {
   "display_name": "Python 3",
   "language": "python",
   "name": "python3"
  },
  "language_info": {
   "codemirror_mode": {
    "name": "ipython",
    "version": 3
   },
   "file_extension": ".py",
   "mimetype": "text/x-python",
   "name": "python",
   "nbconvert_exporter": "python",
   "pygments_lexer": "ipython3",
   "version": "3.8.5"
  },
  "toc": {
   "base_numbering": 1,
   "nav_menu": {},
   "number_sections": true,
   "sideBar": true,
   "skip_h1_title": false,
   "title_cell": "Table of Contents",
   "title_sidebar": "Contents",
   "toc_cell": false,
   "toc_position": {},
   "toc_section_display": true,
   "toc_window_display": false
  }
 },
 "nbformat": 4,
 "nbformat_minor": 5
}
