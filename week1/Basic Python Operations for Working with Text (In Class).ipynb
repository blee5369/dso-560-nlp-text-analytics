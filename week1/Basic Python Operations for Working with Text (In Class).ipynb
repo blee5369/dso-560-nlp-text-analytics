{
 "cells": [
  {
   "cell_type": "markdown",
   "metadata": {
    "toc": true
   },
   "source": [
    "<h1>Table of Contents<span class=\"tocSkip\"></span></h1>\n",
    "<div class=\"toc\"><ul class=\"toc-item\"><li><ul class=\"toc-item\"><li><span><a href=\"#Installing-Required-Libraries\" data-toc-modified-id=\"Installing-Required-Libraries-0.1\"><span class=\"toc-item-num\">0.1&nbsp;&nbsp;</span>Installing Required Libraries</a></span><ul class=\"toc-item\"><li><ul class=\"toc-item\"><li><span><a href=\"#Getting-Familiar-With-Jupyter-Notebooks\" data-toc-modified-id=\"Getting-Familiar-With-Jupyter-Notebooks-0.1.0.1\"><span class=\"toc-item-num\">0.1.0.1&nbsp;&nbsp;</span>Getting Familiar With Jupyter Notebooks</a></span></li></ul></li></ul></li></ul></li><li><span><a href=\"#Week-1:-Basic-Python-Operations-for-Working-with-Text\" data-toc-modified-id=\"Week-1:-Basic-Python-Operations-for-Working-with-Text-1\"><span class=\"toc-item-num\">1&nbsp;&nbsp;</span>Week 1: Basic Python Operations for Working with Text</a></span></li><li><span><a href=\"#The-Scale-of-Data-in-the-21st-Century\" data-toc-modified-id=\"The-Scale-of-Data-in-the-21st-Century-2\"><span class=\"toc-item-num\">2&nbsp;&nbsp;</span>The Scale of Data in the 21st Century</a></span><ul class=\"toc-item\"><li><span><a href=\"#Overview\" data-toc-modified-id=\"Overview-2.1\"><span class=\"toc-item-num\">2.1&nbsp;&nbsp;</span>Overview</a></span><ul class=\"toc-item\"><li><ul class=\"toc-item\"><li><span><a href=\"#Text-Analytics\" data-toc-modified-id=\"Text-Analytics-2.1.0.1\"><span class=\"toc-item-num\">2.1.0.1&nbsp;&nbsp;</span>Text Analytics</a></span></li><li><span><a href=\"#Data-Engineering\" data-toc-modified-id=\"Data-Engineering-2.1.0.2\"><span class=\"toc-item-num\">2.1.0.2&nbsp;&nbsp;</span>Data Engineering</a></span></li><li><span><a href=\"#Statistics-/-Machine-Learning\" data-toc-modified-id=\"Statistics-/-Machine-Learning-2.1.0.3\"><span class=\"toc-item-num\">2.1.0.3&nbsp;&nbsp;</span>Statistics / Machine Learning</a></span></li></ul></li></ul></li><li><span><a href=\"#Loading-Text-into-Memory\" data-toc-modified-id=\"Loading-Text-into-Memory-2.2\"><span class=\"toc-item-num\">2.2&nbsp;&nbsp;</span>Loading Text into Memory</a></span><ul class=\"toc-item\"><li><ul class=\"toc-item\"><li><span><a href=\"#Opening-Files\" data-toc-modified-id=\"Opening-Files-2.2.0.1\"><span class=\"toc-item-num\">2.2.0.1&nbsp;&nbsp;</span>Opening Files</a></span></li></ul></li><li><span><a href=\"#An-Aside:-List-Comprehension\" data-toc-modified-id=\"An-Aside:-List-Comprehension-2.2.1\"><span class=\"toc-item-num\">2.2.1&nbsp;&nbsp;</span>An Aside: List Comprehension</a></span></li><li><span><a href=\"#Visualizing-Summary-Metrics-Using-Matplotlib\" data-toc-modified-id=\"Visualizing-Summary-Metrics-Using-Matplotlib-2.2.2\"><span class=\"toc-item-num\">2.2.2&nbsp;&nbsp;</span>Visualizing Summary Metrics Using Matplotlib</a></span></li><li><span><a href=\"#First-Method:-Create-a-Dictionary-to-Store-Word-Count\" data-toc-modified-id=\"First-Method:-Create-a-Dictionary-to-Store-Word-Count-2.2.3\"><span class=\"toc-item-num\">2.2.3&nbsp;&nbsp;</span>First Method: Create a Dictionary to Store Word Count</a></span></li><li><span><a href=\"#Using-Python's-Built-In-Counter\" data-toc-modified-id=\"Using-Python's-Built-In-Counter-2.2.4\"><span class=\"toc-item-num\">2.2.4&nbsp;&nbsp;</span>Using Python's Built-In Counter</a></span></li><li><span><a href=\"#In-Class-Question\" data-toc-modified-id=\"In-Class-Question-2.2.5\"><span class=\"toc-item-num\">2.2.5&nbsp;&nbsp;</span>In-Class Question</a></span></li></ul></li><li><span><a href=\"#Zipf's-Law\" data-toc-modified-id=\"Zipf's-Law-2.3\"><span class=\"toc-item-num\">2.3&nbsp;&nbsp;</span>Zipf's Law</a></span><ul class=\"toc-item\"><li><span><a href=\"#General-Definition\" data-toc-modified-id=\"General-Definition-2.3.1\"><span class=\"toc-item-num\">2.3.1&nbsp;&nbsp;</span>General Definition</a></span></li><li><span><a href=\"#Approximation-in-NLP\" data-toc-modified-id=\"Approximation-in-NLP-2.3.2\"><span class=\"toc-item-num\">2.3.2&nbsp;&nbsp;</span>Approximation in NLP</a></span></li><li><span><a href=\"#Zipf-Distributions\" data-toc-modified-id=\"Zipf-Distributions-2.3.3\"><span class=\"toc-item-num\">2.3.3&nbsp;&nbsp;</span>Zipf Distributions</a></span></li></ul></li></ul></li><li><span><a href=\"#Regular-Expressions\" data-toc-modified-id=\"Regular-Expressions-3\"><span class=\"toc-item-num\">3&nbsp;&nbsp;</span>Regular Expressions</a></span><ul class=\"toc-item\"><li><ul class=\"toc-item\"><li><span><a href=\"#Match-the-first-time-a-capital-letter-appears-in-the-tweet\" data-toc-modified-id=\"Match-the-first-time-a-capital-letter-appears-in-the-tweet-3.0.1\"><span class=\"toc-item-num\">3.0.1&nbsp;&nbsp;</span>Match the first time a capital letter appears in the tweet</a></span></li><li><span><a href=\"#Match-all-capital-letters-that-appears-in-the-tweet\" data-toc-modified-id=\"Match-all-capital-letters-that-appears-in-the-tweet-3.0.2\"><span class=\"toc-item-num\">3.0.2&nbsp;&nbsp;</span>Match all capital letters that appears in the tweet</a></span></li><li><span><a href=\"#Match-all-words-that-are-at-least-3-characters-long\" data-toc-modified-id=\"Match-all-words-that-are-at-least-3-characters-long-3.0.3\"><span class=\"toc-item-num\">3.0.3&nbsp;&nbsp;</span>Match all words that are at least 3 characters long</a></span></li><li><span><a href=\"#Word-Boundaries\" data-toc-modified-id=\"Word-Boundaries-3.0.4\"><span class=\"toc-item-num\">3.0.4&nbsp;&nbsp;</span>Word Boundaries</a></span></li><li><span><a href=\"#Removing-Stopwords-Using-Regex\" data-toc-modified-id=\"Removing-Stopwords-Using-Regex-3.0.5\"><span class=\"toc-item-num\">3.0.5&nbsp;&nbsp;</span>Removing Stopwords Using Regex</a></span></li><li><span><a href=\"#Regex-Exercises\" data-toc-modified-id=\"Regex-Exercises-3.0.6\"><span class=\"toc-item-num\">3.0.6&nbsp;&nbsp;</span>Regex Exercises</a></span></li></ul></li></ul></li><li><span><a href=\"#Encoding-Schemes\" data-toc-modified-id=\"Encoding-Schemes-4\"><span class=\"toc-item-num\">4&nbsp;&nbsp;</span>Encoding Schemes</a></span><ul class=\"toc-item\"><li><ul class=\"toc-item\"><li><span><a href=\"#Implications-for-Data-Science\" data-toc-modified-id=\"Implications-for-Data-Science-4.0.1\"><span class=\"toc-item-num\">4.0.1&nbsp;&nbsp;</span>Implications for Data Science</a></span></li></ul></li><li><span><a href=\"#World-Languages,-in-Context\" data-toc-modified-id=\"World-Languages,-in-Context-4.1\"><span class=\"toc-item-num\">4.1&nbsp;&nbsp;</span>World Languages, in Context</a></span></li><li><span><a href=\"#Bits-and-Bytes\" data-toc-modified-id=\"Bits-and-Bytes-4.2\"><span class=\"toc-item-num\">4.2&nbsp;&nbsp;</span>Bits and Bytes</a></span><ul class=\"toc-item\"><li><span><a href=\"#Exercises\" data-toc-modified-id=\"Exercises-4.2.1\"><span class=\"toc-item-num\">4.2.1&nbsp;&nbsp;</span>Exercises</a></span></li></ul></li><li><span><a href=\"#ASCII\" data-toc-modified-id=\"ASCII-4.3\"><span class=\"toc-item-num\">4.3&nbsp;&nbsp;</span>ASCII</a></span><ul class=\"toc-item\"><li><span><a href=\"#Encoding/Decoding-Words\" data-toc-modified-id=\"Encoding/Decoding-Words-4.3.1\"><span class=\"toc-item-num\">4.3.1&nbsp;&nbsp;</span>Encoding/Decoding Words</a></span><ul class=\"toc-item\"><li><span><a href=\"#Steps:\" data-toc-modified-id=\"Steps:-4.3.1.1\"><span class=\"toc-item-num\">4.3.1.1&nbsp;&nbsp;</span>Steps:</a></span></li><li><span><a href=\"#Exercises\" data-toc-modified-id=\"Exercises-4.3.1.2\"><span class=\"toc-item-num\">4.3.1.2&nbsp;&nbsp;</span>Exercises</a></span></li></ul></li><li><span><a href=\"#Python-Code\" data-toc-modified-id=\"Python-Code-4.3.2\"><span class=\"toc-item-num\">4.3.2&nbsp;&nbsp;</span>Python Code</a></span></li><li><span><a href=\"#Extended-ASCII\" data-toc-modified-id=\"Extended-ASCII-4.3.3\"><span class=\"toc-item-num\">4.3.3&nbsp;&nbsp;</span>Extended ASCII</a></span><ul class=\"toc-item\"><li><span><a href=\"#Latin-1\" data-toc-modified-id=\"Latin-1-4.3.3.1\"><span class=\"toc-item-num\">4.3.3.1&nbsp;&nbsp;</span>Latin-1</a></span></li><li><span><a href=\"#Excel-on-Macs\" data-toc-modified-id=\"Excel-on-Macs-4.3.3.2\"><span class=\"toc-item-num\">4.3.3.2&nbsp;&nbsp;</span>Excel on Macs</a></span></li></ul></li><li><span><a href=\"#Turning-Strings-into-Bytes\" data-toc-modified-id=\"Turning-Strings-into-Bytes-4.3.4\"><span class=\"toc-item-num\">4.3.4&nbsp;&nbsp;</span>Turning Strings into Bytes</a></span></li><li><span><a href=\"#Turning-Bytes-into-Strings\" data-toc-modified-id=\"Turning-Bytes-into-Strings-4.3.5\"><span class=\"toc-item-num\">4.3.5&nbsp;&nbsp;</span>Turning Bytes into Strings</a></span><ul class=\"toc-item\"><li><span><a href=\"#Exercises\" data-toc-modified-id=\"Exercises-4.3.5.1\"><span class=\"toc-item-num\">4.3.5.1&nbsp;&nbsp;</span>Exercises</a></span></li></ul></li></ul></li><li><span><a href=\"#Unicode\" data-toc-modified-id=\"Unicode-4.4\"><span class=\"toc-item-num\">4.4&nbsp;&nbsp;</span>Unicode</a></span><ul class=\"toc-item\"><li><span><a href=\"#UTF-8\" data-toc-modified-id=\"UTF-8-4.4.1\"><span class=\"toc-item-num\">4.4.1&nbsp;&nbsp;</span>UTF-8</a></span><ul class=\"toc-item\"><li><span><a href=\"#Getting-the-Codepoint-of-a-Character\" data-toc-modified-id=\"Getting-the-Codepoint-of-a-Character-4.4.1.1\"><span class=\"toc-item-num\">4.4.1.1&nbsp;&nbsp;</span>Getting the Codepoint of a Character</a></span></li><li><span><a href=\"#Getting-the-Character-from-a-Codepoint\" data-toc-modified-id=\"Getting-the-Character-from-a-Codepoint-4.4.1.2\"><span class=\"toc-item-num\">4.4.1.2&nbsp;&nbsp;</span>Getting the Character from a Codepoint</a></span></li></ul></li><li><span><a href=\"#Variable-Length-Encoding-/Digitalization-and-Internationalization\" data-toc-modified-id=\"Variable-Length-Encoding-/Digitalization-and-Internationalization-4.4.2\"><span class=\"toc-item-num\">4.4.2&nbsp;&nbsp;</span>Variable Length Encoding /Digitalization and Internationalization</a></span><ul class=\"toc-item\"><li><span><a href=\"#Data-Science-Implications\" data-toc-modified-id=\"Data-Science-Implications-4.4.2.1\"><span class=\"toc-item-num\">4.4.2.1&nbsp;&nbsp;</span>Data Science Implications</a></span></li></ul></li></ul></li></ul></li><li><span><a href=\"#Homework-1-(Due-Thursday,-October-28th,-2021-at-6:29pm-PST)\" data-toc-modified-id=\"Homework-1-(Due-Thursday,-October-28th,-2021-at-6:29pm-PST)-5\"><span class=\"toc-item-num\">5&nbsp;&nbsp;</span>Homework 1 (Due Thursday, October 28th, 2021 at 6:29pm PST)</a></span><ul class=\"toc-item\"><li><span><a href=\"#Next-Week\" data-toc-modified-id=\"Next-Week-5.1\"><span class=\"toc-item-num\">5.1&nbsp;&nbsp;</span>Next Week</a></span><ul class=\"toc-item\"><li><span><a href=\"#Check-for-Understanding\" data-toc-modified-id=\"Check-for-Understanding-5.1.1\"><span class=\"toc-item-num\">5.1.1&nbsp;&nbsp;</span>Check for Understanding</a></span></li></ul></li></ul></li></ul></div>"
   ]
  },
  {
   "cell_type": "markdown",
   "metadata": {},
   "source": [
    "## Installing Required Libraries"
   ]
  },
  {
   "cell_type": "code",
   "execution_count": 1,
   "metadata": {
    "ExecuteTime": {
     "end_time": "2021-10-22T01:45:51.484202Z",
     "start_time": "2021-10-22T01:45:45.033193Z"
    }
   },
   "outputs": [
    {
     "name": "stdout",
     "output_type": "stream",
     "text": [
      "Requirement already satisfied: matplotlib in c:\\users\\drpow\\anaconda3\\lib\\site-packages (3.2.2)\n",
      "Requirement already satisfied: kiwisolver>=1.0.1 in c:\\users\\drpow\\anaconda3\\lib\\site-packages (from matplotlib) (1.3.1)\n",
      "Requirement already satisfied: pyparsing!=2.0.4,!=2.1.2,!=2.1.6,>=2.0.1 in c:\\users\\drpow\\anaconda3\\lib\\site-packages (from matplotlib) (2.4.7)\n",
      "Requirement already satisfied: numpy>=1.11 in c:\\users\\drpow\\anaconda3\\lib\\site-packages (from matplotlib) (1.21.2+mkl)\n",
      "Requirement already satisfied: python-dateutil>=2.1 in c:\\users\\drpow\\anaconda3\\lib\\site-packages (from matplotlib) (2.8.1)\n",
      "Requirement already satisfied: cycler>=0.10 in c:\\users\\drpow\\anaconda3\\lib\\site-packages (from matplotlib) (0.10.0)\n",
      "Requirement already satisfied: six in c:\\users\\drpow\\anaconda3\\lib\\site-packages (from cycler>=0.10->matplotlib) (1.16.0)\n",
      "Requirement already satisfied: pandas in c:\\users\\drpow\\anaconda3\\lib\\site-packages (1.3.0)\n",
      "Requirement already satisfied: pytz>=2017.3 in c:\\users\\drpow\\anaconda3\\lib\\site-packages (from pandas) (2021.1)\n",
      "Requirement already satisfied: python-dateutil>=2.7.3 in c:\\users\\drpow\\anaconda3\\lib\\site-packages (from pandas) (2.8.1)\n",
      "Requirement already satisfied: numpy>=1.17.3 in c:\\users\\drpow\\anaconda3\\lib\\site-packages (from pandas) (1.21.2+mkl)\n",
      "Requirement already satisfied: six>=1.5 in c:\\users\\drpow\\anaconda3\\lib\\site-packages (from python-dateutil>=2.7.3->pandas) (1.16.0)\n"
     ]
    }
   ],
   "source": [
    "!pip3 install matplotlib\n",
    "!pip3 install pandas"
   ]
  },
  {
   "cell_type": "markdown",
   "metadata": {},
   "source": [
    "#### Getting Familiar With Jupyter Notebooks"
   ]
  },
  {
   "cell_type": "markdown",
   "metadata": {},
   "source": [
    "Jupyter keyboard shortcuts:\n",
    "- Press `Esc` to go into **Command Mode**. Your cell should turn from green highlights to blue highlights.\n",
    "- In **Command Mode**, press `M` to go into `Markdown` mode. This turns your cell into Markdown text so you can type text.\n",
    "- Press `Y` to go into `Code` mode. This then allows you to begin typing Python code.\n",
    "- Press `A` to insert a cell above your current cell.\n",
    "- Press `B` to insert a cell below your current cell.\n",
    "- Press `D` twice to delete your current cell.\n",
    "- Press `Shift` + `Enter` to save your cell."
   ]
  },
  {
   "cell_type": "markdown",
   "metadata": {},
   "source": [
    "# Week 1: Basic Python Operations for Working with Text"
   ]
  },
  {
   "cell_type": "markdown",
   "metadata": {},
   "source": [
    "# The Scale of Data in the 21st Century\n",
    "<figure>\n",
    "  <img src=\"images/scale.png\" alt=\"my alt text\"/>\n",
    "    <figcaption><i>ASCII table converting numbers to characters.<b>(Wikipedia)</b></i></figcaption>\n",
    "</figure>"
   ]
  },
  {
   "cell_type": "markdown",
   "metadata": {},
   "source": [
    "## Overview\n",
    "\n",
    "By the end of this week, you should be able to perform the following operations:\n",
    "\n",
    "\n",
    "#### Text Analytics\n",
    "- **load a text file into memory** using Python's built-in streaming libraries\n",
    "- **visualize word count and line length distributions** as histograms using Matplotlib\n",
    "\n",
    "#### Data Engineering\n",
    "- **read strings from a text input/output stream** using `readline()` and `readlines()`\n",
    "- **use both native Python dictionaries and `collections.Counter` objects** to produce word counts for a text corpus\n",
    "- perform basic search/replace operations using **regular expressions**\n",
    "- encode/decode text from bytes to support internationalization and digital-native characters (such as **emojis**).\n",
    "\n",
    "#### Statistics / Machine Learning\n",
    "- **create a word transition matrix using Numpy arrays**, which can be used for probabilistic inference and text generation (we will cover Week 2)\n",
    "\n",
    "\n",
    "## Loading Text into Memory\n",
    "\n",
    "There are a variety of ways to hold data within memory. For text analytics and natural language processing purposes, we'll be most concerned with the following:\n",
    "\n",
    "- **list**\n",
    "- **set**\n",
    "- **dictionary**\n",
    "- **tuple**\n",
    "- **Numpy array**\n",
    "\n",
    "Imagine that we would like to find the most commonly used words in ***A Tale of Two Cities***, by the famed English novelist Charles Dickens, stored in a text file called **`tale-of-two-cities.txt`**, in the same directory as this Jupyter notebook. Later on, we'll use 3rd-party libraries to automate much of the processing, but for now, we'll explore Python's built-in functions for text processing.\n",
    "\n",
    "#### Opening Files"
   ]
  },
  {
   "cell_type": "markdown",
   "metadata": {},
   "source": [
    "The **`open()`** function takes *two* parameters; **filename**, and **mode**. In our case, `mode` is set to `r` for **read**, since we plan to read the file's contents, as opposed to `w` (write), or `a` (append)."
   ]
  },
  {
   "cell_type": "code",
<<<<<<< HEAD
   "execution_count": 2,
   "metadata": {
    "ExecuteTime": {
     "end_time": "2021-10-22T02:09:04.234961Z",
     "start_time": "2021-10-22T02:09:04.230959Z"
    }
   },
=======
   "execution_count": 30,
   "metadata": {},
>>>>>>> 49893f1efd88573d5690756d970064fdaa6b5eec
   "outputs": [
    {
     "name": "stdout",
     "output_type": "stream",
     "text": [
<<<<<<< HEAD
      "<_io.TextIOWrapper name='tale-of-two-cities.txt' mode='r' encoding='cp1252'>\n"
=======
      "<_io.TextIOWrapper name='tale-of-two-cities.txt' mode='r' encoding='UTF-8'>\n"
>>>>>>> 49893f1efd88573d5690756d970064fdaa6b5eec
     ]
    }
   ],
   "source": [
    "# Open Tale of Two Cities\n",
    "text_file = open(\"tale-of-two-cities.txt\", \"r\")\n",
    "print(text_file)"
   ]
  },
  {
   "cell_type": "markdown",
   "metadata": {},
   "source": [
    "Typically, a text character is **1 byte** in size. One byte is equal to **8 bits**. This means conceptually, the size of a string should be $N$ bytes, where $N$ is the number of characters. However, you'll see that in Python, the size of a string is larger:"
   ]
  },
  {
   "cell_type": "code",
<<<<<<< HEAD
   "execution_count": 3,
   "metadata": {
    "ExecuteTime": {
     "end_time": "2021-10-22T02:09:05.197591Z",
     "start_time": "2021-10-22T02:09:05.181063Z"
    }
   },
=======
   "execution_count": 31,
   "metadata": {},
>>>>>>> 49893f1efd88573d5690756d970064fdaa6b5eec
   "outputs": [
    {
     "name": "stdout",
     "output_type": "stream",
     "text": [
<<<<<<< HEAD
      "The size of EMPTY_STRING is 51 bytes.\n",
=======
      "The size of EMPTY_STRING is 49 bytes.\n",
>>>>>>> 49893f1efd88573d5690756d970064fdaa6b5eec
      "The size of ONE_CHAR_STRING is 50 bytes.\n",
      "The size of TWO_CHAR_STRING is 51 bytes.\n"
     ]
    }
   ],
   "source": [
    "import sys\n",
    "EMPTY_STRING = \"\"\n",
    "ONE_CHAR_STRING = \"a\"\n",
    "TWO_CHAR_STRING = \"ab\"\n",
    "print(f\"The size of EMPTY_STRING is {sys.getsizeof(EMPTY_STRING)} bytes.\")\n",
    "print(f\"The size of ONE_CHAR_STRING is {sys.getsizeof(ONE_CHAR_STRING)} bytes.\")\n",
    "print(f\"The size of TWO_CHAR_STRING is {sys.getsizeof(TWO_CHAR_STRING)} bytes.\")"
   ]
  },
  {
   "cell_type": "markdown",
   "metadata": {},
   "source": [
    "The **`open()`** function returns a **`TextIOWrapper`** object from Python's `io` module, which handles common input/output streaming operations. \n",
    "\n",
    "A **stream** is a potentially infinite sequence of elements (in our case, characters) arriving over time. You'll use streams to model data that is **unbounded** (it's undetermined the volume, the length, and frequency of the data). A stream has a pointer to its current position within the sequence. \n",
    "\n",
    "This object has an extremely helpful **`readline()`** method that reads from a text file until encountering an **`EOF`** marker or a new line symbol."
   ]
  },
  {
   "cell_type": "code",
<<<<<<< HEAD
   "execution_count": 4,
   "metadata": {
    "ExecuteTime": {
     "end_time": "2021-10-22T02:09:06.337231Z",
     "start_time": "2021-10-22T02:09:06.330232Z"
    }
   },
=======
   "execution_count": 35,
   "metadata": {},
   "outputs": [
    {
     "data": {
      "text/plain": [
       "0"
      ]
     },
     "execution_count": 35,
     "metadata": {},
     "output_type": "execute_result"
    }
   ],
   "source": [
    "text_file.seek(0)"
   ]
  },
  {
   "cell_type": "code",
   "execution_count": 36,
   "metadata": {},
>>>>>>> 49893f1efd88573d5690756d970064fdaa6b5eec
   "outputs": [
    {
     "data": {
      "text/plain": [
       "'  IT WAS the best of times, it was the worst of times, it was the\\n'"
      ]
     },
<<<<<<< HEAD
     "execution_count": 4,
=======
     "execution_count": 36,
>>>>>>> 49893f1efd88573d5690756d970064fdaa6b5eec
     "metadata": {},
     "output_type": "execute_result"
    }
   ],
   "source": [
    "text_file.readline()"
   ]
  },
  {
   "cell_type": "markdown",
   "metadata": {},
   "source": [
    "You can pass in a parameter to **`readline()`** to control how many bytes of input stream data you'll receive. For instance, **`readline(2)`** returns at most 2 bytes of text input data. You might use this, for instance, if your Python application is reading not from a flat text file, but from a socket, which supplies a continuous stream of data with fixed length (ie., the messages all have the same number of characters).\n",
    "\n",
    "**In-Class Question**: *Assume you just opened the text file with **`open()`**. What output is returned when **`text_file.readline(5)`** is called the **second** time?*\n",
    "- **A)** The entire first line of the novel\n",
    "- **B)** The first 5 characters of the second line\n",
    "- **C)** The entire second line of the novel\n",
    "- **D)** The first 5 characters of the first line\n",
    "- **E)** The 6th-10th characters of the first line"
   ]
  },
  {
   "cell_type": "code",
<<<<<<< HEAD
   "execution_count": 5,
   "metadata": {
    "ExecuteTime": {
     "end_time": "2021-10-22T02:19:53.064367Z",
     "start_time": "2021-10-22T02:19:53.058397Z"
    }
   },
=======
   "execution_count": 37,
   "metadata": {},
>>>>>>> 49893f1efd88573d5690756d970064fdaa6b5eec
   "outputs": [
    {
     "name": "stdout",
     "output_type": "stream",
     "text": [
      "Iteration 1:   IT \n",
      "Iteration 2: WAS t\n"
     ]
    }
   ],
   "source": [
    "text_file.seek(0) #reset the stream position to the start of the text file\n",
    "for i in range(2): # repeat the below line twice\n",
    "    print(f\"Iteration {i + 1}: {text_file.readline(5)}\")"
   ]
  },
  {
   "cell_type": "markdown",
   "metadata": {},
   "source": [
    "Each time that you call **`readline()`**, a position marker within **`TextIOWrapper`** is moved forward:\n",
    "<img src=\"images/readline.png\" width=\"500\" height=\"300\" align=\"center\"/>\n",
    "We typically will use **`readlines()`** instead to read text files line by line. This returns a Python **list**:"
   ]
  },
  {
   "cell_type": "code",
<<<<<<< HEAD
   "execution_count": 6,
   "metadata": {
    "ExecuteTime": {
     "end_time": "2021-10-22T02:19:54.489172Z",
     "start_time": "2021-10-22T02:19:54.479957Z"
    }
   },
=======
   "execution_count": 38,
   "metadata": {},
>>>>>>> 49893f1efd88573d5690756d970064fdaa6b5eec
   "outputs": [],
   "source": [
    "text_file.seek(0) # reset the stream position to the start of the file\n",
    "lines = text_file.readlines() # read all the lines and return a list of strings"
   ]
  },
  {
   "cell_type": "markdown",
   "metadata": {},
   "source": [
    "We see that there are **12870** lines of text in the novel."
   ]
  },
  {
   "cell_type": "code",
<<<<<<< HEAD
   "execution_count": 7,
   "metadata": {
    "ExecuteTime": {
     "end_time": "2021-10-22T02:19:55.499622Z",
     "start_time": "2021-10-22T02:19:55.495618Z"
    }
   },
=======
   "execution_count": 44,
   "metadata": {},
>>>>>>> 49893f1efd88573d5690756d970064fdaa6b5eec
   "outputs": [
    {
     "name": "stdout",
     "output_type": "stream",
     "text": [
      "There are 12870 lines in the novel.\n"
     ]
    }
   ],
   "source": [
    "print(f\"There are {len(lines)} lines in the novel.\")"
   ]
  },
  {
   "cell_type": "code",
<<<<<<< HEAD
   "execution_count": 8,
   "metadata": {
    "ExecuteTime": {
     "end_time": "2021-10-22T02:19:56.026638Z",
     "start_time": "2021-10-22T02:19:56.021634Z"
    }
   },
=======
   "execution_count": 45,
   "metadata": {},
>>>>>>> 49893f1efd88573d5690756d970064fdaa6b5eec
   "outputs": [
    {
     "name": "stdout",
     "output_type": "stream",
     "text": [
      "On average, each line has 58.9 characters.\n"
     ]
    }
   ],
   "source": [
    "total_num_chars = 0\n",
    "for line in lines: # iterate through each line\n",
    "    total_num_chars += len(line) # add the number of characters in a line to the total count of characters\n",
    "\n",
    "avg_chars = round(total_num_chars / len(lines),1) # divide total character count by number of lines to get average\n",
    "print(f\"On average, each line has {avg_chars} characters.\")"
   ]
  },
  {
   "cell_type": "code",
<<<<<<< HEAD
   "execution_count": 9,
   "metadata": {
    "ExecuteTime": {
     "end_time": "2021-10-22T02:19:57.118049Z",
     "start_time": "2021-10-22T02:19:56.689473Z"
    }
   },
=======
   "execution_count": 46,
   "metadata": {},
>>>>>>> 49893f1efd88573d5690756d970064fdaa6b5eec
   "outputs": [],
   "source": [
    "import matplotlib.pyplot as plt # we are importing the pyplot module from matplotlib, and naming it as plt"
   ]
  },
  {
   "cell_type": "markdown",
   "metadata": {},
   "source": [
    "### An Aside: List Comprehension\n",
    "\n",
    "Sometimes, we need to iterate through a list and perform some sort of operation (sum all the elements, or remove a certain character). The traditional way to do this is using a for loop:\n",
    "\n",
    "```Python\n",
    "lengths = [] # declare an empty list\n",
    "for line in lines: # iterate through each line\n",
    "    lengths.append(len(line)) # add the length of each line to the list\n",
    "```\n",
    "\n",
    "A slightly less verbose way, called **list comprehension**, to write this is\n",
    "\n",
    "```Python\n",
    "lengths = [len(line) for line in lines]\n",
    "```\n",
    "\n",
    "List comprehension is **typically slightly faster**, since it avoids the additional `append()` call for each iteration of the for loop. See this example from StackOverflow:\n",
    "\n",
    "```Python\n",
    "def slower(): # using traditional iteration\n",
    "    result = []\n",
    "    for elem in some_iterable:\n",
    "        result.append(elem)\n",
    "    return result\n",
    "```\n",
    "\n",
    "```Python\n",
    "def faster(): # using list comprehension\n",
    "    return [elem for elem in some_iterable]\n",
    "```\n",
    "\n",
    "Within the Python REPL **(read-eval-print-loop)**:\n",
    "\n",
    "```Python\n",
    ">>> some_iterable = range(1000)\n",
    ">>> import timeit\n",
    ">>> timeit.timeit('f()', 'from __main__ import slower as f', number=10000)\n",
    "1.4456570148468018\n",
    ">>> timeit.timeit('f()', 'from __main__ import faster as f', number=10000)\n",
    "0.49323201179504395\n",
    "```"
   ]
  },
  {
   "cell_type": "markdown",
   "metadata": {},
   "source": [
    "### Visualizing Summary Metrics Using Matplotlib"
   ]
  },
  {
   "cell_type": "code",
<<<<<<< HEAD
   "execution_count": 10,
   "metadata": {
    "ExecuteTime": {
     "end_time": "2021-10-22T02:22:24.932330Z",
     "start_time": "2021-10-22T02:22:24.701257Z"
    }
   },
   "outputs": [
    {
     "data": {
      "image/png": "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\n",
=======
   "execution_count": 47,
   "metadata": {},
   "outputs": [
    {
     "data": {
      "image/png": "iVBORw0KGgoAAAANSUhEUgAAA4EAAAGDCAYAAACV/RXuAAAAOXRFWHRTb2Z0d2FyZQBNYXRwbG90bGliIHZlcnNpb24zLjMuNCwgaHR0cHM6Ly9tYXRwbG90bGliLm9yZy8QVMy6AAAACXBIWXMAAAsTAAALEwEAmpwYAAAtYUlEQVR4nO3debhkVX3v//fHBsQICkiHCw3YiDigP0XS4hhFjIhDhNwowesASiQaxzjikDiSoIlDNEqCgoBRkaD+bIWIiIiayNAgo8i1RZAmDTSCIA4o+L1/7HWk+nDG5tSZ9vv1PPWcqrX3XvtbtatOn0+vvVelqpAkSZIk9cPd5roASZIkSdLsMQRKkiRJUo8YAiVJkiSpRwyBkiRJktQjhkBJkiRJ6hFDoCRJkiT1iCFQku6iJP+a5G9nqK8dk9ySZEl7/M0kfzkTfbf+/jPJgTPV3zT2+54k1ye5ZprbzdhrOx8lOSbJe2agn1k9rkkqyf2H0O+fJbmqfQYeMdP9z5Qkf5zksgmWr/c5lqT5xhAoSRNIckWSXyX5eZKfJfnvJC9N8vvfn1X10qp69xT7+pOJ1qmqn1TVZlV1+wzU/o4k/z6q/6dV1bF3te9p1rEj8Dpg16r6X2Ms3zPJmrG2nepruwE1HZTkOzPd71ztc0OPawsqI7fftff6yOPnDaPWSfwT8Ir2GfjeQJ07jqq1kvxi4PEfz3QhSfZIcnL73N+Q5OwkLwKoqm9X1QMH1l3vsz2Tn2NJGgZDoCRN7k+ranPgvsDhwJuAo2Z6J0k2muk+54kdgZ9W1XVzXYjW14LKZlW1GfATuvf6SNun56Ck+wKXjG4cCFUjtQI8fKDt2zNZRJLHAN8AzgDuD9wHeBnwtJncjyTNFUOgJE1RVd1UVSuBvwAOTPJQWP+UviRbJ/nKwOjBt5PcLcmn6MLQl9vIxRuTLG8jGgcn+QnwjYG2wUC4cxuFuDnJl5Js1fZ1pxG0kRGJJPsAbwH+ou3vgrb896eXtrreluTKJNclOS7JvduykToOTPKTdirnW8d7bZLcu22/rvX3ttb/nwCnAtu1Oo6Zzms+6rXdM8maJK9r9a4dGZlpy++e5J9avdemO5X0HtPZX+vnQUlObcfvsiT7j6rno0lOaqPDZyXZeWD53m2bm5J8LMkZSf4yyYOBfwUe016Hnw3scsux+kvng+253pzkopH33Bg1Dx7Xg5J8p70WNyb5cZJphZc2Cvbd9j5em+RfkmwyzrpTft3He8+1Pm4BlgAXJPnRFOvcqdV4t/b440muG1j+qSSvafe3S7KyHdfVSV4yQdf/CBxbVe+tquurc25V7d/6+v1nLxN/tjdq69w7yVHttbw63enRI6d837+9T25qn7PPTeW5S9JdYQiUpGmqqrOBNcBYp6C9ri1bCmxDF8Sqql7A+iMt7xvY5onAg4GnjrPLFwIvBrYFbgM+PIUavwr8PfC5tr+Hj7HaQe32JOB+wGbAv4xa5/HAA4EnA3/XwsxYPgLcu/XzxFbzi6rq63SjJ//T6jhoston8b/afpYBBwMfTbJlW3Y48ABgN7rRm2XA302n8yT3pAutnwH+EDgA+FiSXQdWOwB4J7AlsBo4rG27NXAi8Ga6kaPLgMcCVNWlwEuB77bXYYvJ+gP2Bp7QntO9gf2Bn07xqTyq7X9r4H3AUUkyxW0Bbgf+pm3/GLrj/9fjrDud1/0gxnjPVdWto0b4dh578/VV1Y+Bm4GR6wefANwy8D59It1oHsDxdJ/N7YBnA3+fZK/RfSb5A7rnfOIUa5josz3iGLrP7v1brXsDI9f6vhv4Gt3x357usyRJQ2UIlKQN8z/AVmO0/5YurN23qn7brh2qSfp6R1X9oqp+Nc7yT1XVxVX1C+Bvgf0zMxNOPA/4QFVdXlW30IWXA7L+KOQ7q+pXVXUBcAFwpzDZajkAeHNV/byqrgDeD7xgBmoc7bfAu9prezJwC/DAFnAOAf6mqm6oqp/TheADptn/M4ErquqTVXVbuy7t88BzBtb5YlWdXVW3AZ+mCz8ATwcuqaovtGUfBqYyEc54/f0W2Bx4EJCqurSq1k7xeVxZVR9v16QdS/ee3GaK29JGvc5sr8EVwL/RBar1bMDrPpX33HSdATwxycj1pie2xzsB96IbWdwBeBzwpqr6dVWdD3yC7j8rRtuS7u+jqb7WE0qyDd174zXtc34d8EHueI1+S3ca7Hattlm9VlVSPxkCJWnDLANuGKP9H+lGc76W5PIkh06hr6umsfxKYGO6EZq7arvW32DfG7F+WBgMMb+kG7kZbetW0+i+ls1AjaP9tIWl0TUtBf4AOLedHvgz4KutfTruCzxqpI/Wz/PoRiBHjPeabMfAsWrhf8wJb0YZs7+q+gbdyOxHgeuSHJnkXlN8Hr/vs6p+2e6OdezGlOQB6U5rvibJzXTBbqz33HRf96m856brDGBPulHAbwHfpAusTwS+XVW/a/sdCamD+x7rPXoj8Du64DwT7kv3+Vg78Br9G91IM8AbgQBnJ7kkyYtnaL+SNC5DoCRNU5JH0v3xeKf/sW8jYa+rqvsBzwJem+TJI4vH6XKykcIdBu7vSDdycD3wC7o/wEfqWsL6f3xP1u//0P2BOtj3bcC1k2w32vXcMZox2NfV0+znrrge+BXwkKraot3uPXCK4VRdBZwx0McW7RS/l01h27V0p/MBvx8l235g+WTH406q6sNV9UfArnSnXL5hun1soCOAHwC7VNW96E5rHut00um+7jP1nht0Bt2p2Xu2+9+hG/UbPBX0f4Ctkmw+at93eo+20Pxd4M+nUcNEx/Yq4FZg64HX6F5V9ZC2v2uq6iVVtR3wV3SnH8/4129I0iBDoCRNUZJ7JXkm3bVF/15VF42xzjPbRA8BbqK7tup3bfG1dNdBTdfzk+zarlV6F3BiO83v/wKbJnlGko2BtwF3H9juWmB5Br7OYpTPAn/TJtfYjDuuIbxtnPXH1Go5ATgsyeZJ7gu8Fvj3ibdcX5JNR92mfA1bG+35OPDBJH/Y+luWZLzrLNsq6+8T+ArwgCQvSLJxuz1ygmshB50E/H9J9munN76c9UcQrwW2zzgTrIxR3COTPKod218Av+aO99KwbU53rd0tSR5ENzPmnWzA6z4j77lRNfyQLog+ny7A30z3Wv85LQRW1VXAfwP/0I71w+iuKR3vPfpG4KAkb0hyn/a8Hp7k+HHWH/ez3U7h/Rrw/vY75G5Jdk7yxNbvc5KM/GfBjXSBcraOs6SeMgRK0uS+nOTndP+j/1bgA8CLxll3F+DrdNeqfRf4WFWd3pb9A/C2dkrY66ex/0/RTSxxDbAp8CroZiulm6zjE3QjGr9g/dMP/6P9/GmS88bo9+jW97eAH9OFjFdOo65Br2z7v5xuJOYzrf+pWkb3h/zgbUqTgwx4E92puGe2Uxi/TjepzXgeO8Y+f0U3accBdKNH1wDvZf1wPaaqup7u2sH30U3gsiuwim4UCLqvHLgEuCbJ9VN4PveiC1g30p26+FO6041nw+uB/wP8vNUw0YyV03ndZ/I9N+gMulOFrxp4HGDwff9cYDndcf0i8PY2cdGdVNV/A3u12+VJbgCOBE4eZ/+TfbZfCGwCfJ/ueJ7IHaebPhI4K93sqCuBV1fV5ZM+Y0m6CzL5fAWSJGm62gjsGuB5A/8RIEnSnHMkUJKkGZLkqUm2SHJ37riO7sw5LkuSpPUYAiVJmjmPAX5EN2HKnwL7TfDVH5IkzQlPB5UkSZKkHnEkUJIkSZJ6xBAoSZIkST2y0VwXMAxbb711LV++fK7LkCRJkqQ5ce65515fVUvHWrYoQ+Dy5ctZtWrVXJchSZIkSXMiyZXjLfN0UEmSJEnqEUOgJEmSJPWIIVCSJEmSesQQKEmSJEk9YgiUJEmSpB4xBEqSJElSjxgCJUmSJKlHhhYCk2ya5OwkFyS5JMk7W/sxSX6c5Px22621J8mHk6xOcmGS3Qf6OjDJD9vtwGHVLEmSJEmL3TC/LP5WYK+quiXJxsB3kvxnW/aGqjpx1PpPA3Zpt0cBRwCPSrIV8HZgBVDAuUlWVtWNQ6xdkiRJkhaloY0EVueW9nDjdqsJNtkXOK5tdyawRZJtgacCp1bVDS34nQrsM6y6JUmSJGkxG+o1gUmWJDkfuI4uyJ3VFh3WTvn8YJK7t7ZlwFUDm69pbeO1S5IkSZKmaaghsKpur6rdgO2BPZI8FHgz8CDgkcBWwJtmYl9JDkmyKsmqdevWzUSXkiRJkrTozMrsoFX1M+B0YJ+qWttO+bwV+CSwR1vtamCHgc22b23jtY/ex5FVtaKqVixdunQIz0KSJEmSFr6hTQyTZCnw26r6WZJ7AE8B3ptk26pamyTAfsDFbZOVwCuSHE83McxNbb1TgL9PsmVbb2+60URJkiRJGtfyQ08a+j6uOPwZQ9/HTBvm7KDbAscmWUI34nhCVX0lyTdaQAxwPvDStv7JwNOB1cAvgRcBVNUNSd4NnNPWe1dV3TDEuiVJkiRp0RpaCKyqC4FHjNG+1zjrF/DycZYdDRw9owVKkiRJUg/NyjWBkiRJkqT5wRAoSZIkST1iCJQkSZKkHjEESpIkSVKPGAIlSZIkqUcMgZIkSZLUI4ZASZIkSeoRQ6AkSZIk9YghUJIkSZJ6xBAoSZIkST1iCJQkSZKkHjEESpIkSVKPGAIlSZIkqUcMgZIkSZLUI4ZASZIkSeoRQ6AkSZIk9YghUJIkSZJ6xBAoSZIkST1iCJQkSZKkHjEESpIkSVKPGAIlSZIkqUcMgZIkSZLUI4ZASZIkSeoRQ6AkSZIk9YghUJIkSZJ6xBAoSZIkST1iCJQkSZKkHjEESpIkSVKPGAIlSZIkqUcMgZIkSZLUI4ZASZIkSeoRQ6AkSZIk9YghUJIkSZJ6xBAoSZIkST1iCJQkSZKkHjEESpIkSVKPDC0EJtk0ydlJLkhySZJ3tvadkpyVZHWSzyXZpLXfvT1e3ZYvH+jrza39siRPHVbNkiRJkrTYDXMk8FZgr6p6OLAbsE+SRwPvBT5YVfcHbgQObusfDNzY2j/Y1iPJrsABwEOAfYCPJVkyxLolSZIkadEaWgiszi3t4cbtVsBewImt/Vhgv3Z/3/aYtvzJSdLaj6+qW6vqx8BqYI9h1S1JkiRJi9lQrwlMsiTJ+cB1wKnAj4CfVdVtbZU1wLJ2fxlwFUBbfhNwn8H2MbYZ3NchSVYlWbVu3bohPBtJkiRJWviGGgKr6vaq2g3Ynm707kFD3NeRVbWiqlYsXbp0WLuRJEmSpAVtVmYHraqfAacDjwG2SLJRW7Q9cHW7fzWwA0Bbfm/gp4PtY2wjSZIkSZqGYc4OujTJFu3+PYCnAJfShcFnt9UOBL7U7q9sj2nLv1FV1doPaLOH7gTsApw9rLolSZIkaTHbaPJVNti2wLFtJs+7ASdU1VeSfB84Psl7gO8BR7X1jwI+lWQ1cAPdjKBU1SVJTgC+D9wGvLyqbh9i3ZIkSZK0aA0tBFbVhcAjxmi/nDFm96yqXwPPGaevw4DDZrpGSZIkSeqbWbkmUJIkSZI0PxgCJUmSJKlHDIGSJEmS1COGQEmSJEnqEUOgJEmSJPWIIVCSJEmSesQQKEmSJEk9Mswvi5ckSZKkMS0/9KS5LqG3HAmUJEmSpB4xBEqSJElSjxgCJUmSJKlHDIGSJEmS1COGQEmSJEnqEUOgJEmSJPWIIVCSJEmSesQQKEmSJEk9YgiUJEmSpB4xBEqSJElSjxgCJUmSJKlHDIGSJEmS1COGQEmSJEnqEUOgJEmSJPWIIVCSJEmSesQQKEmSJEk9YgiUJEmSpB4xBEqSJElSjxgCJUmSJKlHDIGSJEmS1COGQEmSJEnqEUOgJEmSJPWIIVCSJEmSesQQKEmSJEk9YgiUJEmSpB4xBEqSJElSjxgCJUmSJKlHDIGSJEmS1CMbDavjJDsAxwHbAAUcWVX/nOQdwEuAdW3Vt1TVyW2bNwMHA7cDr6qqU1r7PsA/A0uAT1TV4cOqW5IkSeqz5YeeNNclaMiGFgKB24DXVdV5STYHzk1yalv2war6p8GVk+wKHAA8BNgO+HqSB7TFHwWeAqwBzkmysqq+P8TaJUmSJGlRGloIrKq1wNp2/+dJLgWWTbDJvsDxVXUr8OMkq4E92rLVVXU5QJLj27qGQEmSJEmaplm5JjDJcuARwFmt6RVJLkxydJItW9sy4KqBzda0tvHaR+/jkCSrkqxat27d6MWSJEmSJGYhBCbZDPg88Jqquhk4AtgZ2I1upPD9M7GfqjqyqlZU1YqlS5fORJeSJEmStOgM85pAkmxMFwA/XVVfAKiqaweWfxz4Snt4NbDDwObbtzYmaJckSZIkTcPQRgKTBDgKuLSqPjDQvu3Aan8GXNzurwQOSHL3JDsBuwBnA+cAuyTZKckmdJPHrBxW3ZIkSZK0mA1zJPBxwAuAi5Kc39reAjw3yW50XxtxBfBXAFV1SZIT6CZ8uQ14eVXdDpDkFcApdF8RcXRVXTLEuiVJkiRp0Rrm7KDfATLGopMn2OYw4LAx2k+eaDtJkiRJ0tTMyuygkiRJkqT5wRAoSZIkST1iCJQkSZKkHjEESpIkSVKPGAIlSZIkqUcMgZIkSZLUI4ZASZIkSeoRQ6AkSZIk9YghUJIkSZJ6xBAoSZIkST1iCJQkSZKkHjEESpIkSVKPGAIlSZIkqUcMgZIkSZLUI4ZASZIkSeoRQ6AkSZIk9YghUJIkSZJ6xBAoSZIkST1iCJQkSZKkHjEESpIkSVKPGAIlSZIkqUcmDYFJ3pfkXkk2TnJaknVJnj8bxUmSJEmSZtZURgL3rqqbgWcCVwD3B94wzKIkSZIkScMxlRC4Ufv5DOA/quqmIdYjSZIkSRqijSZfha8k+QHwK+BlSZYCvx5uWZIkSZKkYZh0JLCqDgUeC6yoqt8CvwT2HXZhkiRJkqSZN5WJYf4A+GvgiNa0HbBimEVJkiRJkoZjKtcEfhL4Dd1oIMDVwHuGVpEkSZIkaWimEgJ3rqr3Ab8FqKpfAhlqVZIkSZKkoZhKCPxNknsABZBkZ+DWoVYlSZIkSRqKqcwO+nbgq8AOST4NPA44aJhFSZIkSZKGY9IQWFWnJjkPeDTdaaCvrqrrh16ZJEmSJGnGTWUkEGBT4Ma2/q5JqKpvDa8sSZIkSdIwTBoCk7wX+AvgEuB3rbkAQ6AkSZIkLTBTGQncD3hgVTkZjCRJkiQtcFOZHfRyYOPpdpxkhySnJ/l+kkuSvLq1b5Xk1CQ/bD+3bO1J8uEkq5NcmGT3gb4ObOv/MMmB061FkiRJktSZykjgL4Hzk5zGwFdDVNWrJtnuNuB1VXVeks2Bc5OcSjez6GlVdXiSQ4FDgTcBTwN2abdHAUcAj0qyFd0MpSvoTkM9N8nKqrpxGs9TkiRJksTUQuDKdpuWqloLrG33f57kUmAZsC+wZ1vtWOCbdCFwX+C4qirgzCRbJNm2rXtqVd0A0ILkPsBnp1uTJEmSJPXdVL4i4ti7upMky4FHAGcB27SACHANsE27vwy4amCzNa1tvHZJkiRJ0jSNGwKTnFBV+ye5iO40zPVU1cOmsoMkmwGfB15TVTcnGeyjktyp7w2R5BDgEIAdd9xxJrqUJEmSpEVnopHAV7efz9zQzpNsTBcAP11VX2jN1ybZtqrWttM9r2vtVwM7DGy+fWu7mjtOHx1p/+bofVXVkcCRACtWrJiRYClJkiRJi824s4OOnLJZVVeOvgGfmazjdEN+RwGXVtUHBhatBEZm+DwQ+NJA+wvbLKGPBm5qNZwC7J1kyzaT6N6tTZIkSZI0TVOZGGYsUznf8nHAC4CLkpzf2t4CHA6ckORg4Epg/7bsZODpwGq6GUlfBFBVNyR5N3BOW+9dI5PESJIkSZKmZ0ND4KSnW1bVd4CMs/jJY6xfwMvH6eto4OjpFChJkiRJurOJJob53+MtAu4xnHIkSZIkScM00Ujgn06w7CszXYgkSZIkafjGDYFV9aLZLESSJEmSNHzjzg4qSZIkSVp8DIGSJEmS1CPjhsAkz2k/d5q9ciRJkiRJwzTRSOCb28/Pz0YhkiRJkqThm2h20J8m+RqwU5KVoxdW1bOGV5YkSZIkaRgmCoHPAHYHPgW8f3bKkSRJkiQN00RfEfEb4Mwkj62qdUk2a+23zFp1kiRJkqQZNZXZQbdJ8j3gEuD7Sc5N8tAh1yVJkiRJGoKphMAjgddW1X2rakfgda1NkiRJkrTATCUE3rOqTh95UFXfBO45tIokSZIkSUMz0cQwIy5P8rd0E8QAPB+4fHglSZIkSZKGZSojgS8GlgJfoPvOwK1bmyRJkiRpgZl0JLCqbgReNQu1SJIkSZKGbCojgZIkSZKkRcIQKEmSJEk9MmkITPK4qbRJkiRJkua/qYwEfmSKbZIkSZKkeW7ciWGSPAZ4LLA0yWsHFt0LWDLswiRJkiRJM2+i2UE3ATZr62w+0H4z8OxhFiVJkiRJGo5xQ2BVnQGckeSYqrpyFmuSJEmSJA3JpN8TCNw9yZHA8sH1q2qvYRUlSZIkSRqOqYTA/wD+FfgEcPtwy5EkSZIkDdNUQuBtVXXE0CuRJEmSJA3dVL4i4stJ/jrJtkm2GrkNvTJJkiRJ0oybykjgge3nGwbaCrjfzJcjSZIkSRqmSUNgVe00G4VIkiRJkoZv0hCY5IVjtVfVcTNfjiRJkiRpmKZyOugjB+5vCjwZOA8wBEqSJEnSAjOV00FfOfg4yRbA8cMqSJIkSZI0PFOZHXS0XwBeJyhJkiRJC9BUrgn8Mt1soABLgAcDJwyzKEmSJEnScEzlmsB/Grh/G3BlVa0ZUj2SJEmSpCGa9HTQqjoD+AGwObAl8JthFyVJkiRJGo5JQ2CS/YGzgecA+wNnJXn2FLY7Osl1SS4eaHtHkquTnN9uTx9Y9uYkq5NcluSpA+37tLbVSQ6d7hOUJEmSJN1hKqeDvhV4ZFVdB5BkKfB14MRJtjsG+Bfu/FUSH6yqwVNMSbIrcADwEGA74OtJHtAWfxR4CrAGOCfJyqr6/hTqliRJkiSNMpUQeLeRANj8lKmdRvqtJMunWMe+wPFVdSvw4ySrgT3astVVdTlAkuPbuoZASZIkSdoAU/mKiK8mOSXJQUkOAk4C/vMu7PMVSS5sp4tu2dqWAVcNrLOmtY3XLkmSJEnaAFMZ0XsD8G/Aw9rtyKp64wbu7whgZ2A3YC3w/g3s506SHJJkVZJV69atm6luJUmSJGlRGTcEJrl/kscBVNUXquq1VfVaYF2SnTdkZ1V1bVXdXlW/Az7OHad8Xg3sMLDq9q1tvPax+j6yqlZU1YqlS5duSHmSJEmStOhNNBL4IeDmMdpvasumLcm2Aw//DBiZOXQlcECSuyfZCdiFbkbSc4BdkuyUZBO6yWNWbsi+JUmSJEkTTwyzTVVdNLqxqi6ayoQvST4L7AlsnWQN8HZgzyS7AQVcAfxV6/OSJCfQTfhyG/Dyqrq99fMK4BRgCXB0VV0y1ScnSZIkSVrfRCFwiwmW3WOyjqvquWM0HzXB+ocBh43RfjJw8mT7kyRJkiRNbqLTQVclecnoxiR/CZw7vJIkSZIkScMy0Ujga4AvJnked4S+FcAmdNfzSZIkSZIWmHFDYFVdCzw2yZOAh7bmk6rqG7NSmSRJkiRpxk00EghAVZ0OnD4LtUiSJEmShmzSL4uXJEmSJC0ehkBJkiRJ6hFDoCRJkiT1iCFQkiRJknrEEChJkiRJPWIIlCRJkqQeMQRKkiRJUo8YAiVJkiSpRwyBkiRJktQjhkBJkiRJ6hFDoCRJkiT1iCFQkiRJknrEEChJkiRJPWIIlCRJkqQeMQRKkiRJUo8YAiVJkiSpRwyBkiRJktQjhkBJkiRJ6hFDoCRJkiT1iCFQkiRJknrEEChJkiRJPWIIlCRJkqQeMQRKkiRJUo8YAiVJkiSpRwyBkiRJktQjhkBJkiRJ6hFDoCRJkiT1iCFQkiRJknrEEChJkiRJPWIIlCRJkqQeMQRKkiRJUo8YAiVJkiSpR4YWApMcneS6JBcPtG2V5NQkP2w/t2ztSfLhJKuTXJhk94FtDmzr/zDJgcOqV5IkSZL6YJgjgccA+4xqOxQ4rap2AU5rjwGeBuzSbocAR0AXGoG3A48C9gDePhIcJUmSJEnTN7QQWFXfAm4Y1bwvcGy7fyyw30D7cdU5E9giybbAU4FTq+qGqroROJU7B0tJkiRJ0hTN9jWB21TV2nb/GmCbdn8ZcNXAemta23jtd5LkkCSrkqxat27dzFYtSZIkSYvEnE0MU1UF1Az2d2RVraiqFUuXLp2pbiVJkiRpUZntEHhtO82T9vO61n41sMPAetu3tvHaJUmSJEkbYLZD4EpgZIbPA4EvDbS/sM0S+mjgpnba6CnA3km2bBPC7N3aJEmSJEkbYKNhdZzks8CewNZJ1tDN8nk4cEKSg4Ergf3b6icDTwdWA78EXgRQVTckeTdwTlvvXVU1erIZSZIkSdIUDS0EVtVzx1n05DHWLeDl4/RzNHD0DJYmSZIkSb01ZxPDSJIkSZJmnyFQkiRJknrEEChJkiRJPWIIlCRJkqQeMQRKkiRJUo8YAiVJkiSpRwyBkiRJktQjhkBJkiRJ6hFDoCRJkiT1iCFQkiRJknrEEChJkiRJPWIIlCRJkqQeMQRKkiRJUo8YAiVJkiSpRwyBkiRJktQjhkBJkiRJ6hFDoCRJkiT1iCFQkiRJknrEEChJkiRJPWIIlCRJkqQeMQRKkiRJUo9sNNcFSJIkSZqa5YeeNNclaBFwJFCSJEmSesQQKEmSJEk9YgiUJEmSpB4xBEqSJElSjxgCJUmSJKlHDIGSJEmS1COGQEmSJEnqEUOgJEmSJPWIIVCSJEmSesQQKEmSJEk9YgiUJEmSpB4xBEqSJElSjxgCJUmSJKlHDIGSJEmS1CNzEgKTXJHkoiTnJ1nV2rZKcmqSH7afW7b2JPlwktVJLkyy+1zULEmSJEmLwVyOBD6pqnarqhXt8aHAaVW1C3BaewzwNGCXdjsEOGLWK5UkSZKkRWI+nQ66L3Bsu38ssN9A+3HVORPYIsm2c1CfJEmSJC14cxUCC/haknOTHNLatqmqte3+NcA27f4y4KqBbde0tvUkOSTJqiSr1q1bN6y6JUmSJGlB22iO9vv4qro6yR8Cpyb5weDCqqokNZ0Oq+pI4EiAFStWTGtbSZIkSeqLORkJrKqr28/rgC8CewDXjpzm2X5e11a/GthhYPPtW5skSZIkaZpmPQQmuWeSzUfuA3sDFwMrgQPbagcCX2r3VwIvbLOEPhq4aeC0UUmSJEnSNMzF6aDbAF9MMrL/z1TVV5OcA5yQ5GDgSmD/tv7JwNOB1cAvgRfNfsmSJEmStDjMegisqsuBh4/R/lPgyWO0F/DyWShNkiRJkha9+fQVEZIkSZKkITMESpIkSVKPGAIlSZIkqUcMgZIkSZLUI4ZASZIkSeoRQ6AkSZIk9YghUJIkSZJ6ZC6+LF6SJEladJYfetJclyBNiSOBkiRJktQjhkBJkiRJ6hFDoCRJkiT1iCFQkiRJknrEEChJkiRJPWIIlCRJkqQeMQRKkiRJUo8YAiVJkiSpR/yyeEmSJC1qfom7tD5HAiVJkiSpRwyBkiRJktQjhkBJkiRJ6hFDoCRJkiT1iCFQkiRJknrEEChJkiRJPeJXRGhem40pna84/BlD34fmJ99fkiSpjwyB0iJiqNEw+f6SJGlx8HRQSZIkSeoRRwIlSRoCR06nx9dLkmaPIVC95x8ekiRJ6hNPB5UkSZKkHnEkUBtkNkbPFpPF9Hotpuei+We23l+Ozk+Pn/v5ZzGdxeL7S5p9hkBJGiL/uNEw+f6anzwukuY7Q6AkqXf8I72fPO6S1DEESpIk6U4MzdLi5cQwkiRJktQjjgTOIic8kCRJkjTXFkwITLIP8M/AEuATVXX4HJc0b3n6hiRJkqTxLIjTQZMsAT4KPA3YFXhukl3ntipJkiRJWngWRAgE9gBWV9XlVfUb4Hhg3zmuSZIkSZIWnIUSApcBVw08XtPaJEmSJEnTsGCuCZxMkkOAQ9rDW5JcNou73xq4fhb3p7vG47XweMwWHo/ZwuLxWng8ZguPx2zhmdIxy3tnoZINc9/xFiyUEHg1sMPA4+1b2+9V1ZHAkbNZ1Igkq6pqxVzsW9Pn8Vp4PGYLj8dsYfF4LTwes4XHY7bwLOZjtlBOBz0H2CXJTkk2AQ4AVs5xTZIkSZK04CyIkcCqui3JK4BT6L4i4uiqumSOy5IkSZKkBWdBhECAqjoZOHmu6xjHnJyGqg3m8Vp4PGYLj8dsYfF4LTwes4XHY7bwLNpjlqqa6xokSZIkSbNkoVwTKEmSJEmaAYbAuyDJPkkuS7I6yaFzXY/uLMnRSa5LcvFA21ZJTk3yw/Zzy7msUXdIskOS05N8P8klSV7d2j1m81SSTZOcneSCdsze2dp3SnJW+/34uTapl+aRJEuSfC/JV9pjj9k8luSKJBclOT/Jqtbm78Z5KskWSU5M8oMklyZ5jMdr/krywPbZGrndnOQ1i/mYGQI3UJIlwEeBpwG7As9NsuvcVqUxHAPsM6rtUOC0qtoFOK091vxwG/C6qtoVeDTw8va58pjNX7cCe1XVw4HdgH2SPBp4L/DBqro/cCNw8NyVqHG8Grh04LHHbP57UlXtNjBlvb8b569/Br5aVQ8CHk73WfN4zVNVdVn7bO0G/BHwS+CLLOJjZgjccHsAq6vq8qr6DXA8sO8c16RRqupbwA2jmvcFjm33jwX2m82aNL6qWltV57X7P6f7R3MZHrN5qzq3tIcbt1sBewEntnaP2TyTZHvgGcAn2uPgMVuI/N04DyW5N/AE4CiAqvpNVf0Mj9dC8WTgR1V1JYv4mBkCN9wy4KqBx2tam+a/bapqbbt/DbDNXBajsSVZDjwCOAuP2bzWTis8H7gOOBX4EfCzqrqtreLvx/nnQ8Abgd+1x/fBYzbfFfC1JOcmOaS1+btxftoJWAd8sp1y/Ykk98TjtVAcAHy23V+0x8wQqF6rbnpcp8idZ5JsBnweeE1V3Ty4zGM2/1TV7e0Umu3pzpJ40NxWpIkkeSZwXVWdO9e1aFoeX1W7012G8vIkTxhc6O/GeWUjYHfgiKp6BPALRp1G6PGan9q10M8C/mP0ssV2zAyBG+5qYIeBx9u3Ns1/1ybZFqD9vG6O69GAJBvTBcBPV9UXWrPHbAFopzudDjwG2CLJyHfR+vtxfnkc8KwkV9BdyrAX3fVLHrN5rKqubj+vo7tWaQ/83ThfrQHWVNVZ7fGJdKHQ4zX/PQ04r6qubY8X7TEzBG64c4Bd2mxqm9ANHa+c45o0NSuBA9v9A4EvzWEtGtCuSzoKuLSqPjCwyGM2TyVZmmSLdv8ewFPoruU8HXh2W81jNo9U1ZuravuqWk73b9c3qup5eMzmrST3TLL5yH1gb+Bi/N04L1XVNcBVSR7Ymp4MfB+P10LwXO44FRQW8THzy+LvgiRPp7uuYglwdFUdNrcVabQknwX2BLYGrgXeDvz/wAnAjsCVwP5VNXryGM2BJI8Hvg1cxB3XKr2F7rpAj9k8lORhdBfLL6H7j8UTqupdSe5HN8q0FfA94PlVdevcVaqxJNkTeH1VPdNjNn+1Y/PF9nAj4DNVdViS++DvxnkpyW50Ey9tAlwOvIj2OxKP17zU/oPlJ8D9quqm1rZoP2OGQEmSJEnqEU8HlSRJkqQeMQRKkiRJUo8YAiVJkiSpRwyBkiRJktQjhkBJkiRJ6hFDoCRpgySpJO8fePz6JO+Yob6PSfLsyde8y/t5TpJLk5w+xrIHJDk5yQ+TnJfkhCTbJDkoyb8Mu7aBOrZI8tdD6vulSV44jfWXJ7l4jPZ3JfmTma1OkjQshkBJ0oa6FfjfSbae60IGJdloGqsfDLykqp40qo9NgZOAI6pql6raHfgYsHQG6lsyzU22AKYVAtOZ9N/4qvrXqjpumvWM1c/fVdXX72o/kqTZYQiUJG2o24Ajgb8ZvWD0SF6SW9rPPZOckeRLSS5PcniS5yU5O8lFSXYe6OZPkqxK8n+TPLNtvyTJPyY5J8mFSf5qoN9vJ1kJfH+Mep7b+r84yXtb298BjweOSvKPozb5P8B3q+rLIw1V9c2qGhkF2y7JV9so4fsG9nNEq/mSJO8caL8iyXuTnAc8J8lL2nO4IMnnk/xBW2+bJF9s7RckeSxwOLBzkvNH6kzyhoHX4J2tbXmSy5IcB1wM7NCOw8XtuY91nN6R5PXt/jdbjWe31/yPR68/nsHj3Z7rO9vo6UVJHtTa75nk6Nb/95LsO9X+JUkzazr/WypJ0mgfBS4cDEJT8HDgwcANwOXAJ6pqjySvBl4JvKattxzYA9gZOD3J/YEXAjdV1SOT3B34ryRfa+vvDjy0qn48uLMk2wHvBf4IuBH4WpL9qupdSfYCXl9Vq0bV+FDg3Amew27AI+hGQy9L8pGqugp4a1Xd0Eb7TkvysKq6sG3z0zaiSJL7VNXH2/330I1IfgT4MHBGVf1Z62Mz4ND2vHZr6+8N7NJemwArkzwB+ElrP7CqzkzyR8Cyqnpo226LCZ7PiI3asXg68HZgQ0/xvL6qdm+nsb4e+EvgrcA3qurFrZazk3y9qn6xgfuQJG0gRwIlSRusqm4GjgNeNY3NzqmqtVV1K/AjYCTEXUQX/EacUFW/q6of0oXFBwF7Ay9Mcj5wFnAfuuADcPboANg8EvhmVa2rqtuATwNPmEa9Yzmtqm6qql/TjTzet7Xv30b7vgc8BNh1YJvPDdx/aBu5vAh4XlsXYC/gCICqur2qbhpj33u32/eA8+hel5HX4MqqOrPdvxy4X5KPJNkHuHkKz+sL7ee5rH8spmusfvYGDm3H7pvApsCOd2EfkqQN5EigJOmu+hBdGPnkQNtttP9obNembTKw7NaB+78bePw71v93qUbtp+hGvl5ZVacMLkiyJzCTI0qXAE+cYPngc7gd2CjJTnSjXo+sqhuTHEMXdEYM1ncMsF9VXZDkIGDPadQW4B+q6t/Wa0yWD+6j1fBw4KnAS4H9gRdP0vfI87qdu/Y3wlj9BPjzqrrsLvQrSZoBjgRKku6SqroBOIHulMYRV9CdfgnwLGDjDej6OUnu1q4TvB9wGXAK8LIkG8PvZ/C85yT9nA08McnW7RTL5wJnTLLNZ4DHJnnGSEOSJyR56ATb3IsuhN2UZBvgaROsuzmwtj2P5w20nwa8rO1vSZJ7Az9v6484BXhxks3aesuS/OHoHaSbsOduVfV54G10p8vOpVOAVyYJQJJHzHE9ktRbjgRKkmbC+4FXDDz+OPClJBcAX2XDRul+Qhfg7gW8tKp+neQTdKcXntfCxDpgv4k6qaq1SQ4FTqcbjTqpqr40yTa/SjcZzYeSfAj4LXAh8OoJtrkgyfeAHwBXAf81wS7+lu501nXt50jIezVwZJKD6UbRXlZV303yX+m+muE/q+oNSR4MfLflqVuA57f1By0DPpk7Zgl980TPeRoemGTNwOM7TTgzjnfTjRpf2Gr6MfDMGapJkjQNqRp9to0kSZIkabHydFBJkiRJ6hFDoCRJkiT1iCFQkiRJknrEEChJkiRJPWIIlCRJkqQeMQRKkiRJUo8YAiVJkiSpRwyBkiRJktQj/w82oy+3NzUu+gAAAABJRU5ErkJggg==\n",
>>>>>>> 49893f1efd88573d5690756d970064fdaa6b5eec
      "text/plain": [
       "<Figure size 1080x432 with 1 Axes>"
      ]
     },
     "metadata": {
      "needs_background": "light"
     },
     "output_type": "display_data"
    }
   ],
   "source": [
    "NUM_BINS = 30 # increase this number to make the visualization more granular\n",
    "plt.rcParams[\"figure.figsize\"] = (15,6)\n",
    "plt.hist([len(line) for line in lines], bins=NUM_BINS)\n",
    "plt.title(\"Distribution of Line Lengths in Tale of Two Cities\") # give the plot a title\n",
    "plt.xlabel(\"Number of Characters in Line\") # label the X axis\n",
    "plt.ylabel(\"Count of Lines\") # label the Y axis\n",
    "plt.show()"
   ]
  },
  {
   "cell_type": "markdown",
   "metadata": {},
   "source": [
    "What if now we want to visualize how many times each word appears in the entire novel (for now, we won't worry about **stemming / lemmatization** and other preprocessing steps)?\n",
    "\n",
    "### First Method: Create a Dictionary to Store Word Count\n",
    "\n",
    "Dictionaries in Python have **keys** and **values**. The keys must be unique (no duplicate keys). They can be accessed via the **`keys()`** and **`values()`** methods of a dictionary object.\n"
   ]
  },
  {
   "cell_type": "code",
<<<<<<< HEAD
   "execution_count": 11,
   "metadata": {
    "ExecuteTime": {
     "end_time": "2021-10-22T02:32:48.910183Z",
     "start_time": "2021-10-22T02:32:48.831789Z"
    }
   },
=======
   "execution_count": 49,
   "metadata": {},
>>>>>>> 49893f1efd88573d5690756d970064fdaa6b5eec
   "outputs": [
    {
     "name": "stdout",
     "output_type": "stream",
     "text": [
      "There's an estimated 143345 words in the novel.\n",
      "There's 21683 unique words in the novel.\n"
     ]
    }
   ],
   "source": [
    "words = [] # create a list of all words\n",
    "word_count = {} # create a dictionary to store word counts\n",
    "\n",
    "for line in lines: # for each line in the novel\n",
    "    for word in line.split(\" \"): # for each word in the line\n",
    "        words.append(word) # add the word to the list of words\n",
    "        \n",
    "        if word not in word_count.keys(): # if the word has not been seen before, add it to the dictionary with initial count of 1\n",
    "            word_count[word] = 1\n",
    "        else:\n",
    "            word_count[word] += 1 # if the word has been seen before, increment its count by 1\n",
    "        \n",
    "print(f\"There's an estimated {len(words)} words in the novel.\")\n",
    "print(f\"There's {len(word_count.keys())} unique words in the novel.\")"
   ]
  },
  {
   "cell_type": "markdown",
   "metadata": {},
   "source": [
    "Let's use Python **`sets`** to check that our dictionary's keys are unique. Remember that a set is a collection of **unique elements**, so calling **`set(words)`** will return only the unique words in our text file."
   ]
  },
  {
   "cell_type": "code",
<<<<<<< HEAD
   "execution_count": 12,
   "metadata": {
    "ExecuteTime": {
     "end_time": "2021-10-22T02:32:49.346978Z",
     "start_time": "2021-10-22T02:32:49.333944Z"
    }
   },
=======
   "execution_count": 50,
   "metadata": {},
>>>>>>> 49893f1efd88573d5690756d970064fdaa6b5eec
   "outputs": [],
   "source": [
    "assert len(word_count.keys()) == len(set(words)), \"This error message will be printed if the assertion to the left is not true.\""
   ]
  },
  {
   "cell_type": "markdown",
   "metadata": {},
   "source": [
    "### Using Python's Built-In Counter\n",
    "\n",
    "Since the task of building a count using a dictionary is a common operation, Python provides a built-in object called `Counter` that we can use:"
   ]
  },
  {
   "cell_type": "code",
<<<<<<< HEAD
   "execution_count": 13,
   "metadata": {
    "ExecuteTime": {
     "end_time": "2021-10-22T02:32:50.035792Z",
     "start_time": "2021-10-22T02:32:50.030793Z"
    }
   },
=======
   "execution_count": 55,
   "metadata": {},
>>>>>>> 49893f1efd88573d5690756d970064fdaa6b5eec
   "outputs": [],
   "source": [
    "from collections import Counter\n",
    "\n",
    "def count_words(lines, delimiter=\" \"):\n",
    "    \n",
    "    words = Counter() # instantiate a Counter object called words\n",
    "    for line in lines:\n",
    "        for word in line.split(delimiter):\n",
    "            words[word] += 1 # increment count for word\n",
    "    return words"
   ]
  },
  {
   "cell_type": "code",
<<<<<<< HEAD
   "execution_count": 16,
   "metadata": {
    "ExecuteTime": {
     "end_time": "2021-10-22T02:33:21.322343Z",
     "start_time": "2021-10-22T02:33:21.267160Z"
    }
   },
=======
   "execution_count": 60,
   "metadata": {},
>>>>>>> 49893f1efd88573d5690756d970064fdaa6b5eec
   "outputs": [],
   "source": [
    "counter = count_words(lines)"
   ]
  },
  {
   "cell_type": "code",
<<<<<<< HEAD
   "execution_count": 17,
   "metadata": {
    "ExecuteTime": {
     "end_time": "2021-10-22T02:33:35.161555Z",
     "start_time": "2021-10-22T02:33:35.153556Z"
    }
   },
=======
   "execution_count": 61,
   "metadata": {},
>>>>>>> 49893f1efd88573d5690756d970064fdaa6b5eec
   "outputs": [
    {
     "data": {
      "text/plain": [
       "[('', 7027), ('the', 6634), ('and', 4318), ('of', 3623), ('to', 3145)]"
      ]
     },
<<<<<<< HEAD
     "execution_count": 17,
=======
     "execution_count": 61,
>>>>>>> 49893f1efd88573d5690756d970064fdaa6b5eec
     "metadata": {},
     "output_type": "execute_result"
    }
   ],
   "source": [
    "counter.most_common(5)"
   ]
  },
  {
   "cell_type": "markdown",
   "metadata": {},
   "source": [
    "A core principle of software engineering and programming is **DRY**: Don't Repeat Yourself. Since we are likely going to be making many histograms throughout this course, it's best that we create a reusable function."
   ]
  },
  {
   "cell_type": "code",
   "execution_count": 18,
<<<<<<< HEAD
   "metadata": {
    "ExecuteTime": {
     "end_time": "2021-10-22T02:33:48.722559Z",
     "start_time": "2021-10-22T02:33:48.718596Z"
    }
   },
=======
   "metadata": {},
>>>>>>> 49893f1efd88573d5690756d970064fdaa6b5eec
   "outputs": [],
   "source": [
    "def make_histogram(values, title=None,xlabel=None,ylabel=None, bins=30, x_size=15, y_size=6):\n",
    "    plt.rcParams[\"figure.figsize\"] = (x_size,y_size)\n",
    "    plt.hist(values, bins=bins)\n",
    "    \n",
    "    if title:\n",
    "        plt.title(title) # give the plot a title\n",
    "        \n",
    "    if xlabel:\n",
    "        plt.xlabel(xlabel) # label the X axis\n",
    "        \n",
    "    if ylabel:\n",
    "        plt.ylabel(ylabel) # label the Y axis\n",
    "        \n",
    "    plt.show() "
   ]
  },
  {
   "cell_type": "code",
<<<<<<< HEAD
   "execution_count": 15,
   "metadata": {
    "ExecuteTime": {
     "end_time": "2021-10-22T02:32:55.020784Z",
     "start_time": "2021-10-22T02:32:54.820153Z"
    }
   },
   "outputs": [
    {
     "data": {
      "image/png": "iVBORw0KGgoAAAANSUhEUgAAA4gAAAGDCAYAAABp6D4kAAAABHNCSVQICAgIfAhkiAAAAAlwSFlzAAALEgAACxIB0t1+/AAAADh0RVh0U29mdHdhcmUAbWF0cGxvdGxpYiB2ZXJzaW9uMy4yLjIsIGh0dHA6Ly9tYXRwbG90bGliLm9yZy+WH4yJAAAgAElEQVR4nO3deZxlZX3n8c8XmkVlX2TYpAFRgyaiIEExguIobqCOSzMqSEgwBhVHEwPRaJZhBNdoHHEIENBEEHEMoDCKoGAUgYaADWJLy9oBWY1sAQV+88d5KtwuqqpvNXXvrSo+79frvO65z9l+5zws/e3nnHNTVUiSJEmStNqoC5AkSZIkzQ4GREmSJEkSYECUJEmSJDUGREmSJEkSYECUJEmSJDUGREmSJEkSYECUJA1Qki8k+YsZ2tdTktyTZPX2/XtJ/mAm9t32d1aSA2Zqf9M47v9McnuSXwz72BPUcl2Sl466DknS6BgQJUmrpIWJ/0hyd5J/T/LDJH+U5D//31JVf1RVf9PnvqYMJlV1Q1WtU1UPzUDtf5nkH8ft/xVVdeJj3fc069gaeD+wY1X9lwmWL03ypp7vuyepCdruSbJgCPXumuTM1t93JrkoyYFDOO6M/mWAJGlyBkRJ0mPxmqpaF9gGOBL4M+C4mT7IMMLPiGwD3FFVt06y/Hxgj57vLwJ+OkHbD6vqwX4PuirXM8nzgXOB84CnAhsD7wReMd19SZJmLwOiJOkxq6pfVdXpwJuBA5I8CyDJCUn+Z5vfJMk3ekafvp9ktSRfAp4CnNFGwj6QZGEbKTsoyQ3AuT1tveFm+zaK9askpyXZqB1rzyTLe2scG6VMsjfw58Cb2/Eub8v/c5Sq1fWhJNcnuTXJF5Os35aN1XFAkhva7aEfnOzaJFm/bX9b29+H2v5fCpwNbNHqOGGCzc+nC4Bjfg84aoK289ux9klyZbvG30vyW+PO/8+S/Bi4N8mCJG9rNd0x1Tk0HwdOrKqjqur26lxSVb2jmX+YZFnr39OTbDHumi3oWbf3er89yb8k+USSXya5Nskr2rIj2jl+rl2nz62kTknSY2BAlCTNmKq6CFhO9wf68d7flm0KbEYX0qqq3gbcQDcauU5Vfaxnmz2A3wJePskh9wd+H9gCeBD4bB81/j/gfwFfacd79gSrvb1NLwa2A9YBxgeTFwJPB/YCPtwbxsb5O2D9tp89Ws0HVtV36Ebfbmp1vH2Cbc8Dnplko3br7i7AV4ANetpeAJyf5GnAScB76a7xmXShe82e/e0HvArYAHgacDTwNrrrtzGw1UQnkOSJwPOBUyc5R5K8BPgo8CZgc+B64OTJ1p/A7wJLgU2AjwHHJUlVfRD4PvCudp3eNY19SpKmyYAoSZppNwEbTdD+G7rgsE1V/aaqvl9VtZJ9/WVV3VtV/zHJ8i9V1RVVdS/wF8Cb0l5i8xi9BfhUVV1TVfcAhwOLxo1e/lVV/UdVXQ5cDjwqaLZa3gwcXlV3V9V1wCfpQtlKVdUNdOH599r+r27X4gc9bWsDF7bjfLOqzq6q3wCfAJ5AFyDHfLaqbmz7eAPwjao6v6oeoLt+D09SyoZ0f2a4eYpy3wIcX1WXtv0dDjw/ycJ+zhW4vqr+vj1jeiLdPyub9bmtJGmGGBAlSTNtS+DOCdo/DiwDvp3kmiSH9bGvG6ex/HpgDboRqMdqi7a/3n0vYMXA0vvW0fvoRhnH2wRYc4J9bTmNWsZuM30R3UgawL/0tF3YAtkKNVfVw3TXp/dYvddri97vLWTfMUkNv6QLj5tPUef449/T9tfvuf7n9ayq+9rsRNdUkjRABkRJ0oxJ8jy6QPAv45e1EbT3V9V2wGuA9yXZa2zxJLtc2Qjj1j3zT6EbpbwduBd4Yk9dq9Pddtnvfm+ie4FM774fBG5ZyXbj3d5qGr+vf5vGPsYC4u/xSED8fk/b+RPVnCR016f3WL3nfTM916/dRrrxRAW0wHYB8N+mqHP88Z/U9vdvdP0BPX0CPOqtrVNYWX9JkmaIAVGS9JglWS/Jq+meOfvHqloywTqvTvLUFlzuAh5qE3TBa7tVOPRbk+zYws1fA6e2WxR/Bqyd5FVJ1gA+BKzVs90twML0/CTHOCcB/yPJtknW4ZFnFvt+UyhAq+UU4Igk6ybZBngf8I9Tb7mC84Hn0D2/+IPWtgTYlu4ZybGAeArwqiR7tXN+P/AA8MNJ9nsq8OokL2zPKf41U/+54APA25P8aZKNAZI8O8nYc4ZfBg5MslOSteiu2YVVdV1V3UYXFN+aZPUkvw9sP41rsKr/fEiSpsmAKEl6LM5IcjfdrYofBD4FTPa7eDsA3wHuoRuN+nxVfa8t+yjwofb2zT+ZxvG/BJxAd3vi2sB7oHurKvDHwLE8MoLV+1bTr7bPO5JcOsF+j2/7Ph+4FrgfePc06ur17nb8a+hGVr/c9t+XqvoZcCtwc1X9e2t7GLgIWI8WAKtqKfBWupfi3E43Svuaqvr1JPu9Ejik1XMz3W2kyydat63/Q+AlbbomyZ3AMXQvw6GqzqF7jvFrbX/bA4t6dvGHwJ/S3Xb6TCYPrhP5DPCG9obTlb6ISJK06rLy9wNIkiRJkh4PHEGUJEmSJAEGREmSJElSY0CUJEmSJAEGREmSJElSY0CUJEmSJAGwYNQFDNsmm2xSCxcuHHUZkiRJkjQSl1xyye1VtelEyx53AXHhwoUsXrx41GVIkiRJ0kgkuX6yZd5iKkmSJEkCDIiSJEmSpMaAKEmSJEkCDIiSJEmSpMaAKEmSJEkCDIiSJEmSpMaAKEmSJEkCDIiSJEmSpMaAKEmSJEkCDIiSJEmSpMaAKEmSJEkCDIiSJEmSpMaAKEmSJEkCYMGoC1Bn4WHfHPgxrjvyVQM/hiRJkqS5yxFESZIkSRJgQJQkSZIkNQZESZIkSRJgQJQkSZIkNQZESZIkSRJgQJQkSZIkNQZESZIkSRJgQJQkSZIkNQZESZIkSRJgQJQkSZIkNQZESZIkSRJgQJQkSZIkNQZESZIkSRJgQJQkSZIkNQZESZIkSRJgQJQkSZIkNQZESZIkSRJgQJQkSZIkNQZESZIkSRIwwICYZOsk301yVZIrkxza2jdKcnaSq9vnhj3bHJ5kWZKlSV7e075zkiVt2WeTpLWvleQrrf3CJAsHdT6SJEmSNN8NcgTxQeD9VfVbwG7AIUl2BA4DzqmqHYBz2nfaskXAM4G9gc8nWb3t62jgYGCHNu3d2g8CfllVTwU+DRw1wPORJEmSpHltYAGxqm6uqkvb/N3AVcCWwL7AiW21E4HXtvl9gZOr6oGquhZYBuyaZHNgvaq6oKoK+OK4bcb2dSqw19jooiRJkiRpeobyDGK79fM5wIXAZlV1M3QhEnhyW21L4MaezZa3ti3b/Pj2FbapqgeBXwEbT3D8g5MsTrL4tttum5mTkiRJkqR5ZuABMck6wNeA91bVXVOtOkFbTdE+1TYrNlQdU1W7VNUum2666cpKliRJkqTHpYEGxCRr0IXDf6qq/9uab2m3jdI+b23ty4GtezbfCriptW81QfsK2yRZAKwP3DnzZyJJkiRJ898g32Ia4Djgqqr6VM+i04ED2vwBwGk97Yvam0m3pXsZzUXtNtS7k+zW9rn/uG3G9vUG4Nz2nKIkSZIkaZoWDHDfuwNvA5Ykuay1/TlwJHBKkoOAG4A3AlTVlUlOAX5C9wbUQ6rqobbdO4ETgCcAZ7UJugD6pSTL6EYOFw3wfCRJkiRpXhtYQKyqf2HiZwQB9ppkmyOAIyZoXww8a4L2+2kBU5IkSZL02AzlLaaSJEmSpNnPgChJkiRJAgyIkiRJkqTGgChJkiRJAgyIkiRJkqTGgChJkiRJAgyIkiRJkqTGgChJkiRJAgyIkiRJkqTGgChJkiRJAgyIkiRJkqTGgChJkiRJAgyIkiRJkqTGgChJkiRJAgyIkiRJkqTGgChJkiRJAgyIkiRJkqTGgChJkiRJAgyIkiRJkqTGgChJkiRJAgyIkiRJkqTGgChJkiRJAgyIkiRJkqTGgChJkiRJAgyIkiRJkqTGgChJkiRJAgyIkiRJkqTGgChJkiRJAgyIkiRJkqTGgChJkiRJAgyIkiRJkqTGgChJkiRJAgyIkiRJkqTGgChJkiRJAgyIkiRJkqTGgChJkiRJAgyIkiRJkqTGgChJkiRJAgyIkiRJkqTGgChJkiRJAgyIkiRJkqTGgChJkiRJAgyIkiRJkqTGgChJkiRJAgyIkiRJkqTGgChJkiRJAgyIkiRJkqTGgChJkiRJAgyIkiRJkqTGgChJkiRJAgyIkiRJkqTGgChJkiRJAgyIkiRJkqTGgChJkiRJAgyIkiRJkqTGgChJkiRJAgyIkiRJkqTGgChJkiRJAvoIiEkOTbJeOscluTTJy4ZRnCRJkiRpePoZQfz9qroLeBmwKXAgcORAq5IkSZIkDV0/ATHt85XAP1TV5T1tkiRJkqR5op+AeEmSb9MFxG8lWRd4eLBlSZIkSZKGbUEf6xwE7ARcU1X3JdmY7jZTSZIkSdI8MukIYpLnJnkuXTgE2K5934Y+gmWS45PcmuSKnra/TPJvSS5r0yt7lh2eZFmSpUle3tO+c5Ilbdlnk6S1r5XkK639wiQLp3vykiRJkqRHTBX0Ptk+1wZ2Bn5M9+zh7wAXAi9cyb5PAD4HfHFc+6er6hO9DUl2BBYBzwS2AL6T5GlV9RBwNHAw8CPgTGBv4Cy6kc1fVtVTkywCjgLevJKaJEmSJEmTmHQEsapeXFUvBq4Hdq6qXapqZ+A5wLKV7biqzgfu7LOOfYGTq+qBqrq27X/XJJsD61XVBVVVdGHztT3bnNjmTwX2GhtdlCRJkiRNXz8vqXlGVS0Z+1JVV/DIbaer4l1JftxuQd2wtW0J3NizzvLWtmWbH9++wjZV9SDwK2DjiQ6Y5OAki5Msvu222x5D6ZIkSZI0f/UTEH+a5NgkeybZI8nfA1et4vGOBranC5g388htrBON/NUU7VNt8+jGqmPaCOgum2666fQqliRJkqTHiX4C4tuBK4FDgfcCP2EV32JaVbdU1UNV9TDw98CubdFyYOueVbcCbmrtW03QvsI2SRYA69P/La2SJEmSpHGmDIhJVge+UVWfrqrXtenTVXX/qhysPVM45nXA2BtOTwcWtTeTbgvsAFxUVTcDdyfZrT1fuD9wWs82B7T5NwDntucUJUmSJEmrYMqfq6iqh5Lcl2T9qvrVdHac5CRgT2CTJMuBjwB7JtmJ7lbQ64B3tONcmeQUutHJB4FD2htMAd5J90bUJ9C9vfSs1n4c8KUky+hGDhdNpz5JkiRJ0opW+nuGwP3AkiRnA/eONVbVe6baqKr2m6D5uCnWPwI4YoL2xcCzJmi/H3jjVDVIkiRJkvrXT0D8ZpskSZIkSfPYSgNiVZ2YZE3gaa1paVX9ZrBlSZIkSZKGbaUBMcmedD9Ifx3dT0tsneSAqjp/sKVJkiRJkoapn1tMPwm8rKqWAiR5GnASsPMgC5MkSZIkDVc/v4O4xlg4BKiqnwFrDK4kSZIkSdIo9DOCuDjJccCX2ve3AJcMriRJkiRJ0ij0ExDfCRwCvIfuGcTzgc8PsihJkiRJ0vBNGhCT3AH8CPgh8APgC1V137AKkyRJkiQN11TPIG4LfIbuecM/B25IcnGSzyR501CqkyRJkiQNzaQjiFV1F/DtNpHkScCBwHuBdwGnDKNASZIkSdJwTHWL6RbAC9r0vNZ8CfAh4ILBlyZJkiRJGqapXlKzHLgU+DRwWFX9ejglSZIkSZJGYaqAuDvwfOB1wPuSXEc3cngBsLiqHhh8eZIkSZKkYZnqGcSxMPgpgCQLgdcAJwJbAWsPvjxJkiRJ0rBM+TuISZ7BI88h7g5sSBcavzD40iRJkiRJwzTVS2puB26m+x3E7wNHVtWyYRUmSZIkSRquqUYQt6+qXw2tEkmSJEnSSK022QLDoSRJkiQ9vkwaECVJkiRJjy8GREmSJEkS0EdATLJZkuOSnNW+75jkoMGXJkmSJEkapn5GEE8AvgVs0b7/DHjvoAqSJEmSJI1GPwFxk6o6BXgYoKoeBB4aaFWSJEmSpKHrJyDem2RjoACS7Ab4hlNJkiRJmmem+h3EMe8DTge2T/IDYFPgDQOtSpIkSZI0dCsNiFV1aZI9gKcDAZZW1W8GXpkkSZIkaahWGhCT7D+u6blJqKovDqgmSZIkSdII9HOL6fN65tcG9gIuBQyIkiRJkjSP9HOL6bt7vydZH/jSwCqSJEmSJI1EP28xHe8+YIeZLkSSJEmSNFr9PIN4Bu0nLugC5Y7AKYMsSpIkSZI0fP08g/iJnvkHgeuravmA6pEkSZIkjUg/zyCeN4xCJEmSJEmj1c8tpnfzyC2mKywCqqrWm/GqJEmSJElD188tpp8GfkH35tIAbwHWraqPDbIwSZIkSdJw9fMW05dX1eer6u6ququqjgb+26ALkyRJkiQNVz8B8aEkb0myepLVkrwFeGjQhUmSJEmShqufgPjfgTcBt7Tpja1NkiRJkjSP9PMW0+uAfQdfiiRJkiRplCYNiEk+UFUfS/J3TPAW06p6z0ArkyRJkiQN1VQjiFe1z8XDKESSJEmSNFqTBsSqOqN9nji8ciRJkiRJo7LSZxCTPA34E2Bh7/pV9ZLBlSVJkiRJGraVBkTgq8AXgGPx5y0kSZIkad7qJyA+WFVHD7wSSZIkSdJI9fM7iGck+eMkmyfZaGwaeGWSJEmSpKHqZwTxgPb5pz1tBWw38+VIkiRJkkZlpQGxqrYdRiGSJEmSpNGaNCAmef24pgJuBy6rqrsHWpUkSZIkaeimGkF8zQRtGwG/k+Sgqjp3QDVJkiRJkkZg0oBYVQdO1J5kG+AU4HcHVZQkSZIkafj6eYvpCqrqemCNAdQiSZIkSRqhaQfEJE8HHhhALZIkSZKkEZrqJTVn0L2YptdGwObAWwdZlCRJkiRp+KZ6Sc0nxn0v4A7g6qr69eBKkiRJkiSNwlQvqTlvmIVIkiRJkkZr2s8gSpIkSZLmJwOiJEmSJAmYIiAmOad9HjW8ciRJkiRJozLVS2o2T7IHsE+Sk4H0LqyqSwdamSRJkiRpqKYKiB8GDgO2Aj41blkBLxlUUZIkSZKk4ZvqLaanAqcm+Yuq+psh1iRJkiRJGoGpRhABqKq/SbIP8KLW9L2q+sZgy5IkSZIkDdtK32Ka5KPAocBP2nRoa1vZdscnuTXJFT1tGyU5O8nV7XPDnmWHJ1mWZGmSl/e075xkSVv22SRp7Wsl+UprvzDJwumcuCRJkiRpRf38zMWrgP9aVcdX1fHA3q1tZU5o6/Y6DDinqnYAzmnfSbIjsAh4Ztvm80lWb9scDRwM7NCmsX0eBPyyqp4KfBrwbauSJEmS9Bj0+zuIG/TMr9/PBlV1PnDnuOZ9gRPb/InAa3vaT66qB6rqWmAZsGuSzYH1quqCqirgi+O2GdvXqcBeY6OLkiRJkqTpW+kziMBHgX9N8l26n7p4EXD4Kh5vs6q6GaCqbk7y5Na+JfCjnvWWt7bftPnx7WPb3Nj29WCSXwEbA7ePP2iSg+lGIXnKU56yiqVLkiRJ0vzWz0tqTkryPeB5dAHxz6rqFzNcx0QjfzVF+1TbPLqx6hjgGIBddtllwnUkSZIk6fGunxFE2qjf6TNwvFuSbN5GDzcHbm3ty4Gte9bbCriptW81QXvvNsuTLKC79XX8La2SJEmSpD71+wziTDkdOKDNHwCc1tO+qL2ZdFu6l9Fc1ILp3Ul2a88X7j9um7F9vQE4tz2nKEmSJElaBX2NIK6KJCcBewKbJFkOfAQ4EjglyUHADcAbAarqyiSn0P2MxoPAIVX1UNvVO+neiPoE4Kw2ARwHfCnJMrqRw0WDOhdJkiRJejyYMiAmWQ34cVU9a7o7rqr9Jlm01yTrHwEcMUH7YuBRx6+q+2kBU5IkSZL02E15i2lVPQxcnsRXf0qSJEnSPNfPLaabA1cmuQi4d6yxqvYZWFWSJEmSpKHrJyD+1cCrkCRJkiSNXD+/g3hekm2AHarqO0meCKw++NIkSZIkScO00p+5SPKHwKnA/2lNWwL/PMiiJEmSJEnD18/vIB4C7A7cBVBVVwNPHmRRkiRJkqTh6ycgPlBVvx77kmQB4A/SS5IkSdI8009APC/JnwNPSPJfga8CZwy2LEmSJEnSsPUTEA8DbgOWAO8AzgQ+NMiiJEmSJEnD189bTB9OciJwId2tpUuryltMJUmSJGmeWWlATPIq4AvAz4EA2yZ5R1WdNejiJEmSJEnDs9KACHwSeHFVLQNIsj3wTcCAKEmSJEnzSD/PIN46Fg6ba4BbB1SPJEmSJGlEJh1BTPL6NntlkjOBU+ieQXwjcPEQapMkSZIkDdFUt5i+pmf+FmCPNn8bsOHAKpIkSZIkjcSkAbGqDhxmIZIkSZKk0ernLabbAu8GFvauX1X7DK4sSZIkSdKw9fMW038GjgPOAB4ebDmSJEmSpFHpJyDeX1WfHXglkiRJkqSR6icgfibJR4BvAw+MNVbVpQOrSpIkSZI0dP0ExN8G3ga8hEduMa32XZIkSZI0T/QTEF8HbFdVvx50MZIkSZKk0Vmtj3UuBzYYdCGSJEmSpNHqZwRxM+CnSS5mxWcQ/ZkLSZIkSZpH+gmIHxl4FZIkSZKkkVtpQKyq84ZRiCRJkiRptFYaEJPcTffWUoA1gTWAe6tqvUEWJkmSJEkarn5GENft/Z7ktcCuA6tIkiRJkjQS/bzFdAVV9c/4G4iSJEmSNO/0c4vp63u+rgbswiO3nEqSJEmS5ol+3mL6mp75B4HrgH0HUo0kSZIkaWT6eQbxwGEUIkmSJEkarUkDYpIPT7FdVdXfDKAeSZIkSdKITDWCeO8EbU8CDgI2BgyIkiRJkjSPTBoQq+qTY/NJ1gUOBQ4ETgY+Odl2kiRJkqS5acpnEJNsBLwPeAtwIvDcqvrlMAqTJEmSJA3XVM8gfhx4PXAM8NtVdc/QqpIkSZIkDd1qUyx7P7AF8CHgpiR3tenuJHcNpzxJkiRJ0rBM9QziVOFRkiRJkjTPGAIlSZIkSYABUZIkSZLUGBAlSZIkSYABUZIkSZLUGBAlSZIkSYABUZIkSZLUGBAlSZIkSYABUZIkSZLUGBAlSZIkSYABUZIkSZLUGBAlSZIkSYABUZIkSZLUGBAlSZIkSYABUZIkSZLUGBAlSZIkSYABUZIkSZLUGBAlSZIkSYABUZIkSZLUGBAlSZIkSYABUZIkSZLUGBAlSZIkSYABUZIkSZLUGBAlSZIkSYABUZIkSZLUjCQgJrkuyZIklyVZ3No2SnJ2kqvb54Y96x+eZFmSpUle3tO+c9vPsiSfTZJRnI8kSZIkzQejHEF8cVXtVFW7tO+HAedU1Q7AOe07SXYEFgHPBPYGPp9k9bbN0cDBwA5t2nuI9UuSJEnSvDKbbjHdFzixzZ8IvLan/eSqeqCqrgWWAbsm2RxYr6ouqKoCvtizjSRJkiRpmkYVEAv4dpJLkhzc2jarqpsB2ueTW/uWwI092y5vbVu2+fHtj5Lk4CSLkyy+7bbbZvA0JEmSJGn+WDCi4+5eVTcleTJwdpKfTrHuRM8V1hTtj26sOgY4BmCXXXaZcB1JkiRJerwbyQhiVd3UPm8Fvg7sCtzSbhulfd7aVl8ObN2z+VbATa19qwnaJUmSJEmrYOgBMcmTkqw7Ng+8DLgCOB04oK12AHBamz8dWJRkrSTb0r2M5qJ2G+rdSXZrby/dv2cbSZIkSdI0jeIW082Ar7dfpFgAfLmq/l+Si4FTkhwE3AC8EaCqrkxyCvAT4EHgkKp6qO3rncAJwBOAs9okSZIkSVoFQw+IVXUN8OwJ2u8A9ppkmyOAIyZoXww8a6ZrlCRJkqTHo9n0MxeSJEmSpBEyIEqSJEmSAAOiJEmSJKkxIEqSJEmSAAOiJEmSJKkxIEqSJEmSAAOiJEmSJKkxIEqSJEmSAAOiJEmSJKkxIEqSJEmSAAOiJEmSJKkxIEqSJEmSAAOiJEmSJKkxIEqSJEmSAAOiJEmSJKkxIEqSJEmSAAOiJEmSJKkxIEqSJEmSAAOiJEmSJKkxIEqSJEmSAAOiJEmSJKkxIEqSJEmSAAOiJEmSJKkxIEqSJEmSAAOiJEmSJKkxIEqSJEmSAAOiJEmSJKkxIEqSJEmSAAOiJEmSJKkxIEqSJEmSAAOiJEmSJKkxIEqSJEmSAAOiJEmSJKkxIEqSJEmSAAOiJEmSJKkxIEqSJEmSAAOiJEmSJKkxIEqSJEmSAAOiJEmSJKkxIEqSJEmSAAOiJEmSJKkxIEqSJEmSAAOiJEmSJKkxIEqSJEmSAAOiJEmSJKkxIEqSJEmSAAOiJEmSJKkxIEqSJEmSAAOiJEmSJKkxIEqSJEmSAAOiJEmSJKkxIEqSJEmSAAOiJEmSJKkxIEqSJEmSAAOiJEmSJKkxIEqSJEmSAAOiJEmSJKkxIEqSJEmSAAOiJEmSJKkxIEqSJEmSAAOiJEmSJKkxIEqSJEmSgHkQEJPsnWRpkmVJDht1PZIkSZI0V83pgJhkdeB/A68AdgT2S7LjaKuSJEmSpLlpTgdEYFdgWVVdU1W/Bk4G9h1xTZIkSZI0Jy0YdQGP0ZbAjT3flwO/O6JaZr2Fh31zKMe57shXDeU4kiRJkmbWXA+ImaCtHrVScjBwcPt6T5KlA61q1WwC3D7qImZCjhp1BUMxb/rrccQ+m1vsr7nF/pp77LO5xf6aW+ZCf20z2YK5HhCXA1v3fN8KuGn8SlV1DHDMsIpaFUkWV9Uuo65D/bG/5h77bG6xv+YW+2vusc/mFvtrbpnr/TXXn0G8GNghybZJ1gQWAaePuCZJkiRJmpPm9AhiVT2Y5F3At4DVgeOr6soRlyVJkiRJc9KcDogAVXUmcOao65gBs/oWWD2K/TX32Gdzi/01t9hfc499NrfYX3PLnO6vVD3qnS6SJEmSpMehuf4MoiRJkiRphhgQRyzJ3kmWJlmW5LBR1/N4luT4JLcmuaKnbaMkZye5un1u2LPs8NZvS5O8vKd95yRL2rLPJpno51j0GCXZOsl3k1yV5Mokh7Z2+2wWSrJ2kouSXN766/BxNmoAAAn3SURBVK9au/01iyVZPcm/JvlG+25/zWJJrmvX+rIki1ubfTZLJdkgyalJftr+X/Z8+2t2SvL09u/V2HRXkvfO2/6qKqcRTXQv1vk5sB2wJnA5sOOo63q8TsCLgOcCV/S0fQw4rM0fBhzV5nds/bUWsG3rx9XbsouA59P9TudZwCtGfW7zcQI2B57b5tcFftb6xT6bhVO7tuu0+TWAC4Hd7K/ZPQHvA74MfKN9t79m8QRcB2wyrs0+m6UTcCLwB21+TWAD+2v2T3R/fv8F3e8Izsv+cgRxtHYFllXVNVX1a+BkYN8R1/S4VVXnA3eOa96X7j/gtM/X9rSfXFUPVNW1wDJg1ySbA+tV1QXV/Vfgiz3baAZV1c1VdWmbvxu4CtgS+2xWqs497esabSrsr1kryVbAq4Bje5rtr7nHPpuFkqxH9xfTxwFU1a+r6t+xv+aCvYCfV9X1zNP+MiCO1pbAjT3fl7c2zR6bVdXN0AUS4MmtfbK+27LNj2/XACVZCDyHblTKPpul2u2KlwG3AmdXlf01u/0t8AHg4Z42+2t2K+DbSS5JcnBrs89mp+2A24B/aLdxH5vkSdhfc8Ei4KQ2Py/7y4A4WhPdc+xrZeeGyfrOPh2yJOsAXwPeW1V3TbXqBG322RBV1UNVtROwFd3fpD5ritXtrxFK8mrg1qq6pN9NJmizv4Zv96p6LvAK4JAkL5piXftstBbQPdZydFU9B7iX7hbFydhfs0CSNYF9gK+ubNUJ2uZMfxkQR2s5sHXP962Am0ZUiyZ2S7sdgPZ5a2ufrO+Wt/nx7RqAJGvQhcN/qqr/25rts1mu3Ub1PWBv7K/ZandgnyTX0T3+8JIk/4j9NatV1U3t81bg63SPsthns9NyYHm7kwLgVLrAaH/Nbq8ALq2qW9r3edlfBsTRuhjYIcm27W8kFgGnj7gmreh04IA2fwBwWk/7oiRrJdkW2AG4qN1ecHeS3dpbqfbv2UYzqF3f44CrqupTPYvss1koyaZJNmjzTwBeCvwU+2tWqqrDq2qrqlpI9/+mc6vqrdhfs1aSJyVZd2weeBlwBfbZrFRVvwBuTPL01rQX8BPsr9luPx65vRTma3+N+i05j/cJeCXd2xd/Dnxw1PU8nie6f+FvBn5D9zc8BwEbA+cAV7fPjXrW/2Drt6X0vIEK2IXuf8o/Bz4HZNTnNh8n4IV0t2X8GLisTa+0z2bnBPwO8K+tv64APtza7a9ZPgF78shbTO2vWTrRPdN2eZuuHPszhX02eydgJ2Bx++/iPwMb2l+zdwKeCNwBrN/TNi/7K61QSZIkSdLjnLeYSpIkSZIAA6IkSZIkqTEgSpIkSZIAA6IkSZIkqTEgSpIkSZIAA6IkaRUlqSSf7Pn+J0n+cob2fUKSN8zEvlZynDcmuSrJd3vafjvJZW26M8m1bf47SfZJctgQ6kqS25Ns2L5v3q73C3vWuS3Jxqu4/0mvb5IF7dgfXbXqJUlzmQFRkrSqHgBen2STURfSK8nq01j9IOCPq+rFYw1VtaSqdqqqneh+7PhP2/eXVtXpVXXkTNc8XnW/QXUh8PzW9AK635F8AUD7ce3bq+qOle1rmtcDuh9YXwq8qf2Q89C1gOyfUSRpBPyPryRpVT0IHAP8j/ELxo9QJbmnfe6Z5LwkpyT5WZIjk7wlyUVJliTZvmc3L03y/bbeq9v2qyf5eJKLk/w4yTt69vvdJF8GlkxQz35t/1ckOaq1fRh4IfCFJB/v54STvD3J53rO8eh23GuS7JHk+DYieULPNi9LckGSS5N8Nck6rf3IJD9p5/GJCQ73A1ogbJ+fYsXA+MMWpD7ezmtJkjdPdD3aep9rx/sm8OQpTnM/4DPADcBuPedxXZKjWl9dlOSpPdfhC9Poq3WSnNOux5Ik+7b2he3afR64FNi67Xvs3B71z5kkaeYtGHUBkqQ57X8DP07ysWls82zgt4A7gWuAY6tq1ySHAu8G3tvWWwjsAWwPfLcFkv2BX1XV85KsBfwgybfb+rsCz6qqa3sPlmQL4ChgZ+CXwLeTvLaq/jrJS4A/qarF0z7zzobAS4B9gDOA3YE/AC5OshOwHPgQ8NKqujfJnwHvayHzdcAzqqqSbDDBvn8IfLjn3D7Sc21eQBcgXw/sRHdNN2nHPX/89UjyeuDpwG8DmwE/AY4ff8AkTwD2At4BbEAXFi/oWeWu1lf7A38LvLq1L6T/vroReF1V3dVGn3+U5PS2n6cDB1bVHyfZGdiyqp7VapvoGkmSZpgjiJKkVVZVdwFfBN4zjc0urqqbq+oB4OfAWMBbQhc0xpxSVQ9X1dV0QfIZdLc/7p/kMrpbMDcGdmjrXzQ+HDbPA75XVbdV1YPAPwEvmka9Uzmj3Q66BLil3Z76MHBlO5fdgB3pwtFlwAHANsBdwP3AsS283TfBvi8CnpPkScAaVXUPcE0LXy+gC5AvBE6qqoeq6hbgvHa+sOL1eFHPejcB505yPq8GvltV9wFfA16XFW9RPann8/k97dPpqwD/K8mPge8AW9KFVoDrq+pHbf4aYLskf5dk73bNJEkD5giiJOmx+lu6WwL/oaftQdpfQiYJsGbPsgd65h/u+f4wK/5/qcYdp+jCxbur6lu9C5LsCdw7SX2DfI6ut/bx57UAeAg4u6r2e1RRya50o3WLgHfRjUT+p6q6L8ky4Pfpri/Aj4BX0t0iupSpz2389Rh/PSeyH7B7kuva942BF9MFufH7mGx+7PtkffV2YFNg56r6TTvW2uNrrqpfJnk28HLgEOBNdNdCkjRAjiBKkh6TqroTOIXuhS9jrqO7pRNgX2CNVdj1G5Os1p5L3I4uEH0LeGeSNQCSPK2NsE3lQmCPJJu00bD96EbahuFHdIFr7Hm9J7aa1wHWr6oz6W4b3WmS7X/Qlo/d5nkBcCjwozZyeT7w5va836Z0I4UXTbCf84FFbb3N6ULfCpKsRzci+ZSqWlhVC+mCWW+4fXPPZ++tp9Ppq/WBW1s4fDHdiOqjtNtPV6uqrwF/ATx3kmskSZpBjiBKkmbCJ+lGwcb8PXBakouAc5h8dG8qS+mC3GbAH1XV/UmOpbt189I2Mnkb8NqpdlJVNyc5HPgu3ajWmVV12irUM21VdVsbMTupPYcH3TOJd9Ndn7VbTZO9gOUHdIFwLIxdCmwFHNu+f53uVs/L6UbtPlBVv0jyjHH7+TrdCOUS4GdMHJBfD5zbbv0dcxrwsZ7a10pyId1fMPcGx+n01T8BZyRZDFwG/HSSc98S+Ic88jbTwydZT5I0g9L9BaQkSdLk2q2gu1TV7ePaTwC+UVWnjqIuSdLM8hZTSZIkSRLgCKIkSZIkqXEEUZIkSZIEGBAlSZIkSY0BUZIkSZIEGBAlSZIkSY0BUZIkSZIEGBAlSZIkSc3/B6m0XNUI9nu7AAAAAElFTkSuQmCC\n",
=======
   "execution_count": 63,
   "metadata": {},
   "outputs": [
    {
     "data": {
      "image/png": "iVBORw0KGgoAAAANSUhEUgAAA4cAAAGDCAYAAACY42WpAAAAOXRFWHRTb2Z0d2FyZQBNYXRwbG90bGliIHZlcnNpb24zLjMuNCwgaHR0cHM6Ly9tYXRwbG90bGliLm9yZy8QVMy6AAAACXBIWXMAAAsTAAALEwEAmpwYAAAp0UlEQVR4nO3debwkZX3v8c+XTQzITrhsOkBQQ0xEQAQhiqAsLqBeRbhERiRiFA1eTRTjQqJZcI0SDVwCBDAJiBgDKAYRUYyyDQTZFBkRZJBlYJA1gsDv/lHPkeZ4zpk+M9Pdcw6f9+tVr656qrrq1/VAz3znqapOVSFJkiRJenJbYdQFSJIkSZJGz3AoSZIkSTIcSpIkSZIMh5IkSZIkDIeSJEmSJAyHkiRJkiQMh5KkAUlyTJIPLaN9PT3J/UlWbMvfTvLHy2LfbX9fTzJ3We1vGsf96yR3Jrlt2MeeoJYbk7x01HVIkkbHcChJmrYWJP4nyX1JfpHk+0n+JMmv/1ypqj+pqo/2ua8pQ0lV/ayqVq+qR5dB7X+Z5F/G7X+vqjppafc9zTqeDrwH2Kqq/tcE669L8oae5Z2S1ARt9yVZaQj1bp/k7Nbfi5JckuSgIRx3mf5DgCRpcoZDSdKSelVVPQ14BnAk8D7g+GV9kGEEnxF5OnBXVd0xyfoLgBf1LL8I+NEEbRdW1SP9HnRJzmeSHYFvAd8BfgdYF3gbsNd09yVJWn4ZDiVJS6Wq7qmqM4E3AHOTPAcgyYlJ/rrNr5fkqz2jTt9NskKSL9CFpLPaZaPvTTKnjZAdnORnwLd62nqDzRZt9OreJGckWacda5ckC3prHBudTLIn8BfAG9rxftDW/3p0qtX1wSQ3JbkjyclJ1mzrxuqYm+Rn7ZLQD0x2bpKs2d6/sO3vg23/LwXOBTZqdZw4wdvHh8M/BD42QdsF7Vh7J7mmneNvJ/ndcZ//fUmuBB5IslKSN7aa7prqMzSfAE6qqo9V1Z3Vuayq9u05xluSzG/9e2aSjcads5V6tu09329K8l9JPpnk7iQ/TbJXW/c37TN+rp2nzy2mTknSUjAcSpKWiaq6BFhA95f58d7T1q0PbEAX0Kqq3gj8jG4UcvWq+njPe14M/C6wxySHPBB4M7Ah8AhwVB81/ifwt8AX2/GeO8Fmb2rTS4DNgdWB8aFkZ+BZwG7Ah3uD2Dj/AKzZ9vPiVvNBVfVNulG3n7c63jTBey8Afi/JOu1y3e2ALwJr9bTtBFyQ5JnAKcC76M7x2XSBe5We/e0PvAJYC3gmcDTwRmAjupHATSb6AEl+C9gROH2Sz0iSXYG/A/al64+bgFMn234CLwCuA9YDPg4cnyRV9QHgu8A72nl6xzT2KUmaJsOhJGlZ+jmwzgTtv6ILDc+oql9V1Xerqhazr7+sqgeq6n8mWf+Fqrq6qh4APgTsm/bAmqV0APDpqrqhqu4H3g/sN27U8q+q6n+q6gfAD4DfCJmtlv2A91fVfVV1I/ApukC2WFV1E11w/sO2/+vbufheT9sqwMV0o7Zfq6pzq+pXwCeBpwIv7NnlUVV1c9vH64CvVtUFVfUQ3fl7bJJS1qb7+8KtU5R7AHBCVV3e9vd+YMckc/r5rMBNVfVP7Z7Sk+j+W9mgz/dKkpYRw6EkaVnaGFg0QfsngPnAN5LckOTwPvZ18zTW3wSsTDfytLQ2avvr3fdKPDGs9D5d9EG60cXx1ms1jd/XxtOoZezS0hfRjaAB/FdP2yUtjD2h5qp6jO789B6r93xt1LvcAvZdk9RwN11w3HCKOscf//62v34/66/PZ1U92GYnOqeSpAEyHEqSlokkz6cLA/81fl0bOXtPVW0O7A28O8luY6sn2eXiRhY37Zl/Ot3o5J3AA8Bv9dS1It2llv3u9+d0D9np3fcjwO2Led94d7aaxu/rlmnsYywc/iGPh8Pv9rRdMFHNSUJ3fnqP1fu5b6Xn/LVLR9edqIAW1i4E/vcUdY4//mptf7fQ9Qf09AnwG09nncLi+kuStIwYDiVJSyXJGkleSXeP2b9U1VUTbPPKJL/TQss9wKM8fhnj7XT35E3XHyXZqgWbjwCnt8sSfwysmuQVSVYGPgg8ped9twNz0vOzG+OcAvzfJJslWZ3H71Hs+4mgAK2W04C/SfK0JM8A3g38y9TvfIILgOfRhcHvtbargM3o7okcC4enAa9Islv7zO8BHgK+P8l+TwdemWTndl/iR5j67wTvBd6U5M+TrAuQ5LlJxu4rPAU4KMnWSZ5Cd84urqobq2ohXUj8oyQrJnkzsMU0zsGS/vchSZomw6EkaUmdleQ+ussTPwB8Gpjsd++2BL4J3E83CvWPVXV+W/d3wAfbUzb/bBrH/wJwIt0liasCfwrd01OBtwPH8fjIVe/TS7/UXu9KcvkE+z2h7fsC4KfAL4F3TqOuXu9sx7+BbkT139r++1JVPwYWArdV1S9a22PAJcAatPBXVdcBf0T3AJw7gVfRPeTn4Un2ew1waKvnVrpLRxdMtG3b/vvArm26Icki4Fi6B9/QHrDzIeDLbX9b0N1vOeYtwJ/TXWr6e0weWifyWeB17Ummi33okCRpyWXxzwOQJEmSJM12jhxKkiRJkgyHkiRJkiTDoSRJkiQJw6EkSZIkCcOhJEmSJAlYadQFDNt6661Xc+bMGXUZkiRJkjQSl1122Z1Vtf749iddOJwzZw7z5s0bdRmSJEmSNBJJbpqo3ctKJUmSJEmGQ0mSJEmS4VCSJEmShOFQkiRJkoThUJIkSZKE4VCSJEmShOFQkiRJkoThUJIkSZKE4VCSJEmShOFQkiRJkoThUJIkSZKE4VCSJEmShOFQkiRJkgSsNOoC1Jlz+NcGfowbj3zFwI8hSZIkaWZy5FCSJEmSZDiUJEmSJBkOJUmSJEkYDiVJkiRJGA4lSZIkSRgOJUmSJEkYDiVJkiRJGA4lSZIkSRgOJUmSJEkYDiVJkiRJGA4lSZIkSRgOJUmSJEkYDiVJkiRJGA4lSZIkSRgOJUmSJEkYDiVJkiRJGA4lSZIkSRgOJUmSJEkYDiVJkiRJDDAcJtk0yflJrk1yTZLDWvs6Sc5Ncn17Xbu1J8lRSeYnuTLJNj37mtu2vz7J3J72bZNc1d5zVJIM6vNIkiRJ0mw2yJHDR4D3VNVWwA7AoUm2Ag4HzquqLYHz2jLAXsCWbToEOBq6MAkcAbwA2B44YixQtm3e0vO+PQf4eSRJkiRp1hpYOKyqW6vq8jZ/H/BDYGNgH+CkttlJwKvb/D7AydW5CFgryYbAHsC5VbWoqu4GzgX2bOvWqKqLqqqAk3v2JUmSJEmahqHcc5hkDvA84GJgg6q6ta26DdigzW8M3NzztgWtbar2BRO0T3T8Q5LMSzJv4cKFS/dhJEmSJGkWGng4TLI68GXgXVV1b++6NuJXg66hqo6tqu2qarv1119/0IeTJEmSpBlnoOEwycp0wfBfq+rfW/Pt7ZJQ2usdrf0WYNOet2/S2qZq32SCdkmSJEnSNA3yaaUBjgd+WFWf7ll1JjD2xNG5wBk97Qe2p5buANzTLj89B9g9ydrtQTS7A+e0dfcm2aEd68CefUmSJEmSpmGlAe57J+CNwFVJrmhtfwEcCZyW5GDgJmDftu5s4OXAfOBB4CCAqlqU5KPApW27j1TVojb/duBE4KnA19skSZIkSZqmgYXDqvovYLLfHdxtgu0LOHSSfZ0AnDBB+zzgOUtRpiRJkiSJIT2tVJIkSZK0fDMcSpIkSZIMh5IkSZIkw6EkSZIkCcOhJEmSJAnDoSRJkiQJw6EkSZIkCcOhJEmSJAnDoSRJkiQJw6EkSZIkCcOhJEmSJAnDoSRJkiQJw6EkSZIkCcOhJEmSJAnDoSRJkiQJw6EkSZIkCcOhJEmSJAnDoSRJkiQJw6EkSZIkCcOhJEmSJAnDoSRJkiQJw6EkSZIkCcOhJEmSJAnDoSRJkiQJw6EkSZIkCcOhJEmSJAnDoSRJkiQJw6EkSZIkCcOhJEmSJAnDoSRJkiQJw6EkSZIkCcOhJEmSJAnDoSRJkiQJw6EkSZIkCcOhJEmSJAnDoSRJkiQJw6EkSZIkCcOhJEmSJAnDoSRJkiQJw6EkSZIkCcOhJEmSJAnDoSRJkiQJw6EkSZIkCcOhJEmSJAnDoSRJkiQJw6EkSZIkCcOhJEmSJAnDoSRJkiQJw6EkSZIkCcOhJEmSJAnDoSRJkiQJw6EkSZIkCcOhJEmSJAnDoSRJkiQJw6EkSZIkCcOhJEmSJAnDoSRJkiQJw6EkSZIkiT7CYZLDkqyRzvFJLk+y+zCKkyRJkiQNRz8jh2+uqnuB3YG1gTcCRw60KkmSJEnSUPUTDtNeXw58oaqu6WmTJEmSJM0C/YTDy5J8gy4cnpPkacBjgy1LkiRJkjRMK/WxzcHA1sANVfVgknWBgwZalSRJkiRpqCYdOUyyTZJt6IIhwOZt+Rn0ESqTnJDkjiRX97T9ZZJbklzRppf3rHt/kvlJrkuyR0/7nq1tfpLDe9o3S3Jxa/9iklWm9cklSZIkSb82Vcj7VHtdFdgWuJLuXsM/AOYBOy5m3ycCnwNOHtf+91X1yd6GJFsB+wG/B2wEfDPJM9vqzwMvAxYAlyY5s6quBT7W9nVqkmPoRjiPXkxNkiRJkqQJTDpyWFUvqaqXALcC21bVdlW1LfA84JbF7biqLgAW9VnHPsCpVfVQVf0UmA9s36b5VXVDVT0MnArskyTArsDp7f0nAa/u81iSJEmSpHH6eSDNs6rqqrGFqroa+N2lOOY7klzZLjtdu7VtDNzcs82C1jZZ+7rAL6rqkXHtE0pySJJ5SeYtXLhwKUqXJEmSpNmpn3B4VZLjkuzSpn+iu8R0SRwNbEF3H+OtPH7p6kBV1bFt5HO79ddffxiHlCRJkqQZpZ+nlb4JeBtwWFu+gCW8t6+qbh+bbyHzq23xFmDTnk034fFLVydqvwtYK8lKbfSwd3tJkiRJ0jRNGQ6TrAh8vd17+PdLe7AkG1bVrW3xNcDYk0zPBP4tyafpHkizJXAJ3QNwtkyyGV342w/4P1VVSc4HXkd3H+Jc4IylrU+SJEmSnqymDIdV9WiSx5KsWVX3TGfHSU4BdgHWS7IAOALYJcnWQAE3Am9tx7kmyWnAtcAjwKFV9WjbzzuAc4AVgROq6pp2iPcBpyb5a+C/geOnU58kSZIk6XH9XFZ6P919h+cCD4w1VtWfTvWmqtp/guZJA1xV/Q3wNxO0nw2cPUH7DXRPM5UkSZIkLaV+wuG/t0mSJEmSNEstNhxW1UlJVgHGfpT+uqr61WDLkiRJkiQN02LDYZJd6H5k/ka6B8RsmmRu+5F7SZIkSdIs0M9lpZ8Cdq+q6wCSPBM4Bdh2kIVJkiRJkoZnhT62WXksGAJU1Y+BlQdXkiRJkiRp2PoZOZyX5DjgX9ryAcC8wZUkSZIkSRq2fsLh24BDgbGfrvgu8I8Dq0iSJEmSNHSThsMkdwEXA98Dvg8cU1UPDqswSZIkSdLwTHXP4WbAZ+juL3w/8LMk85J8Nsm+wyhOkiRJkjQck44cVtW9wDfaRJLVgIOAdwHvAE4bQn2SJEmSpCGY6rLSjYAXtun5rfky4IPAhYMvTZIkSZI0LFM9kGYBcDnw98DhVfXwcEqSJEmSJA3bVOFwJ2BH4DXAu5PcSDdieCEwr6oeGnx5kiRJkqRhmOqew7Eg+GmAJHOAVwEnAZsAqw6hPkmSJEnSEEz5O4dJns3j9x3uBKwFXAQcM/DKJEmSJElDM9UDae4Efk43engBcGRVzR9WYZIkSZKk4Zlq5HCLqrpnaJVIkiRJkkZmhclWGAwlSZIk6clj0nAoSZIkSXryMBxKkiRJkhYfDpNskOT4JF9vy1slOXjwpUmSJEmShqWfkcMTgXOAjdryj4F3DageSZIkSdII9BMO16uq04DHAKrqEeDRgVYlSZIkSRqqfsLhA0nWBQogyQ6ATzKVJEmSpFlkqt85HPNu4ExgiyTfA9YHXjfQqiRJkiRJQ7XYcFhVlyd5MfAsIMB1VfWrgVcmSZIkSRqaxYbDJAeOa9omCVV18oBqkiRJkiQNWT+XlT6/Z35VYDfgcsBwKEmSJEmzRD+Xlb6zdznJWsCpgypIkiRJkjR8/TytdLwHgM2WdSGSJEmSpNHp557Ds2g/Y0EXJrcCThtkUZIkSZKk4ernnsNP9sw/AtxUVQsGVI8kSZIkaQT6uefwO8MoRJIkSZI0Ov1cVnofj19W+oRVQFXVGsu8KkmSJEnSUPVzWelngFuBL9AFwgOADavqwwOsS5IkSZI0RP08rXTvqvrHqrqvqu6tqqOBfQZdmCRJkiRpePoJhw8kOSDJiklWSHIA3c9ZSJIkSZJmiX7C4f8B9gVub9PrW5skSZIkaZbo52mlN+JlpJIkSZI0q00aDpO8t6o+nuQfmOBppVX1pwOtTJIkSZI0NFONHP6wvc4bRiGSJEmSpNGZNBxW1Vnt9aThlSNJkiRJGoXF3nOY5JnAnwFzerevql0HV5YkSZIkaZgWGw6BLwHHAMcBjw62HEmSJEnSKPQTDh9pP3wvSZIkSZql+vmdw7OSvD3JhknWGZsGXpkkSZIkaWj6GTmc217/vKetgM2XfTmSJEmSpFFYbDisqs2GUYgkSZIkaXQmDYdJXjuuqYA7gSuq6r6BViVJkiRJGqqpRg5fNUHbOsAfJDm4qr41oJokSZIkSUM2aTisqoMmak/yDOA04AWDKkqSJEmSNFz9PK30CarqJmDlAdQiSZIkSRqRaYfDJM8CHhpALZIkSZKkEZnqgTRn0T2Eptc6wIbAHw2yKEmSJEnScE31QJpPjlsu4C7g+qp6eHAlSZIkSZKGbaoH0nxnmIVIkiRJkkZn2vccSpIkSZJmH8OhJEmSJGnycJjkvPb6seGVI0mSJEkahakeSLNhkhcCeyc5FUjvyqq6fKCVSZIkSZKGZqpw+GHgQ8AmwKfHrStg10EVJUmSJEkarqmeVno6cHqSD1XVR4dYkyRJkiRpyKYaOQSgqj6aZG/gRa3p21X11cGWJUmSJEkapsU+rTTJ3wGHAde26bAkf9vH+05IckeSq3va1klybpLr2+varT1JjkoyP8mVSbbpec/ctv31Seb2tG+b5Kr2nqOSBEmSJEnSEunnpyxeAbysqk6oqhOAPYFX9vG+E9u2vQ4HzquqLYHz2jLAXsCWbToEOBq6MAkcAbwA2B44YixQtm3e0vO+8ceSJEmSJPWp3985XKtnfs1+3lBVFwCLxjXvA5zU5k8CXt3TfnJ1LgLWSrIhsAdwblUtqqq7gXOBPdu6Narqoqoq4OSefUmSJEmSpmmx9xwCfwf8d5Lz6X7O4kU8PuI3XRtU1a1t/jZggza/MXBzz3YLWttU7QsmaJ9QkkPoRiR5+tOfvoSlS5IkSdLs1c8DaU5J8m3g+a3pfVV129IeuKoqSS3tfvo81rHAsQDbbbfdUI4pSZIkSTNJPyOHtNG+M5fB8W5PsmFV3douDb2jtd8CbNqz3Sat7RZgl3Ht327tm0ywvSRJkiRpCfR7z+GyciYw9sTRucAZPe0HtqeW7gDc0wLpOcDuSdZuD6LZHTinrbs3yQ7tKaUH9uxLkiRJkjRNfY0cLokkp9CN+q2XZAHdU0ePBE5LcjBwE7Bv2/xs4OXAfOBB4CCAqlqU5KPApW27j1TV2ENu3k73RNSnAl9vkyRJkiRpCUwZDpOsCFxTVc+e7o6rav9JVu02wbYFHDrJfk4ATpigfR7wnOnWJUmSJEn6TVNeVlpVjwLXJfERn5IkSZI0i/VzWenawDVJLgEeGGusqr0HVpUkSZIkaaj6CYcfGngVkiRJkqSR6ud3Dr+T5BnAllX1zSS/Baw4+NIkSZIkScOy2J+ySPIW4HTg/7WmjYH/GGBNkiRJkqQh6+d3Dg8FdgLuBaiq64HfHmRRkiRJkqTh6iccPlRVD48tJFkJqMGVJEmSJEkatn7C4XeS/AXw1CQvA74EnDXYsiRJkiRJw9RPODwcWAhcBbwVOBv44CCLkiRJkiQNVz9PK30syUnAxXSXk15XVV5WKkmSJEmzyGLDYZJXAMcAPwECbJbkrVX19UEXJ0mSJEkajsWGQ+BTwEuqaj5Aki2ArwGGQ0mSJEmaJfq55/C+sWDY3ADcN6B6JEmSJEkjMOnIYZLXttl5Sc4GTqO75/D1wKVDqE2SJEmSNCRTXVb6qp7524EXt/mFwFMHVpEkSZIkaegmDYdVddAwC5EkSZIkjU4/TyvdDHgnMKd3+6rae3BlSZIkSZKGqZ+nlf4HcDxwFvDYQKuRJEmSJI1EP+Hwl1V11MArkSRJkiSNTD/h8LNJjgC+ATw01lhVlw+sKkmSJEnSUPUTDn8feCOwK49fVlptWZIkSZI0C/QTDl8PbF5VDw+6GEmSJEnSaKzQxzZXA2sNuA5JkiRJ0gj1M3K4FvCjJJfyxHsO/SkLSZIkSZol+gmHRwy8CkmSJEnSSC02HFbVd4ZRiCRJkiRpdBYbDpPcR/d0UoBVgJWBB6pqjUEWJkmSJEkann5GDp82Np8kwD7ADoMsSpIkSZI0XP08rfTXqvMfwB6DKUeSJEmSNAr9XFb62p7FFYDtgF8OrCJJkiRJ0tD187TSV/XMPwLcSHdpqSRJkiRplujnnsODhlGIJEmSJGl0Jg2HST48xfuqqj46gHokSZIkSSMw1cjhAxO0rQYcDKwLGA4lSZIkaZaYNBxW1afG5pM8DTgMOAg4FfjUZO+TJEmSJM08U95zmGQd4N3AAcBJwDZVdfcwCpMkSZIkDc9U9xx+AngtcCzw+1V1/9CqkiRJkiQN1QpTrHsPsBHwQeDnSe5t031J7h1OeZIkSZKkYZjqnsOpgqMkSZIkaRYxAEqSJEmSDIeSJEmSJMOhJEmSJAnDoSRJkiQJw6EkSZIkCcOhJEmSJAnDoSRJkiQJw6EkSZIkCcOhJEmSJAnDoSRJkiQJw6EkSZIkCcOhJEmSJAnDoSRJkiQJw6EkSZIkCcOhJEmSJAnDoSRJkiQJw6EkSZIkCcOhJEmSJAnDoSRJkiQJw6EkSZIkCcOhJEmSJAnDoSRJkiQJw6EkSZIkCcOhJEmSJIkRhcMkNya5KskVSea1tnWSnJvk+va6dmtPkqOSzE9yZZJtevYzt21/fZK5o/gskiRJkjQbjHLk8CVVtXVVbdeWDwfOq6otgfPaMsBewJZtOgQ4GrowCRwBvADYHjhiLFBKkiRJkqZnebqsdB/gpDZ/EvDqnvaTq3MRsFaSDYE9gHOralFV3Q2cC+w55JolSZIkaVYYVTgs4BtJLktySGvboKpubfO3ARu0+Y2Bm3veu6C1Tdb+G5IckmReknkLFy5cVp9BkiRJkmaNlUZ03J2r6pYkvw2cm+RHvSurqpLUsjpYVR0LHAuw3XbbLbP9SpIkSdJsMZKRw6q6pb3eAXyF7p7B29vlorTXO9rmtwCb9rx9k9Y2WbskSZIkaZqGHg6TrJbkaWPzwO7A1cCZwNgTR+cCZ7T5M4ED21NLdwDuaZefngPsnmTt9iCa3VubJEmSJGmaRnFZ6QbAV5KMHf/fquo/k1wKnJbkYOAmYN+2/dnAy4H5wIPAQQBVtSjJR4FL23YfqapFw/sYkiRJkjR7DD0cVtUNwHMnaL8L2G2C9gIOnWRfJwAnLOsaJUmSJOnJZnn6KQtJkiRJ0ogYDiVJkiRJhkNJkiRJkuFQkiRJkoThUJIkSZKE4VCSJEmShOFQkiRJkoThUJIkSZKE4VCSJEmShOFQkiRJkoThUJIkSZKE4VCSJEmShOFQkiRJkoThUJIkSZKE4VCSJEmShOFQkiRJkoThUJIkSZKE4VCSJEmShOFQkiRJkoThUJIkSZKE4VCSJEmShOFQkiRJkoThUJIkSZKE4VCSJEmShOFQkiRJkoThUJIkSZKE4VCSJEmShOFQkiRJkoThUJIkSZKE4VCSJEmShOFQkiRJkoThUJIkSZKE4VCSJEmShOFQkiRJkoThUJIkSZKE4VCSJEmShOFQkiRJkoThUJIkSZKE4VCSJEmShOFQkiRJkoThUJIkSZKE4VCSJEmShOFQkiRJkoThUJIkSZKE4VCSJEmShOFQkiRJkoThUJIkSZKE4VCSJEmShOFQkiRJkoThUJIkSZKE4VCSJEmShOFQkiRJkoThUJIkSZKE4VCSJEmShOFQkiRJkoThUJIkSZKE4VCSJEmShOFQkiRJkoThUJIkSZKE4VCSJEmShOFQkiRJkoThUJIkSZLELAiHSfZMcl2S+UkOH3U9kiRJkjQTzehwmGRF4PPAXsBWwP5JthptVZIkSZI088zocAhsD8yvqhuq6mHgVGCfEdckSZIkSTPOSqMuYCltDNzcs7wAeMGIalnuzTn8awM/xo1HvmLgx5AkSZK07M30cNiXJIcAh7TF+5NcN8p6JrEecOeoi1ha+dioKxiaWdFfTyL218xjn80s9tfMYn/NLPbXzDMT+uwZEzXO9HB4C7Bpz/Imre0JqupY4NhhFbUkksyrqu1GXYf6Y3/NLPbXzGOfzSz218xif80s9tfMM5P7bKbfc3gpsGWSzZKsAuwHnDnimiRJkiRpxpnRI4dV9UiSdwDnACsCJ1TVNSMuS5IkSZJmnBkdDgGq6mzg7FHXsQws15e96jfYXzOL/TXz2Gczi/01s9hfM4v9NfPM2D5LVY26BkmSJEnSiM30ew4lSZIkScuA4XDEkuyZ5Lok85McPup6nqySnJDkjiRX97Stk+TcJNe317Vbe5Ic1frsyiTb9Lxnbtv++iRzR/FZngySbJrk/CTXJrkmyWGt3T5bTiVZNcklSX7Q+uyvWvtmSS5uffPF9nAxkjylLc9v6+f07Ov9rf26JHuM6CM9KSRZMcl/J/lqW7a/llNJbkxyVZIrksxrbX4nLseSrJXk9CQ/SvLDJDvaZ8unJM9q/2+NTfcmedes7K+qchrRRPcQnZ8AmwOrAD8Athp1XU/GCXgRsA1wdU/bx4HD2/zhwMfa/MuBrwMBdgAubu3rADe017Xb/Nqj/myzcQI2BLZp808DfgxsZZ8tv1M796u3+ZWBi1tfnAbs19qPAd7W5t8OHNPm9wO+2Oa3at+VTwE2a9+hK476883WCXg38G/AV9uy/bWcTsCNwHrj2vxOXI4n4CTgj9v8KsBa9tnyP9H9/f02ut8JnHX95cjhaG0PzK+qG6rqYeBUYJ8R1/SkVFUXAIvGNe9D98VNe311T/vJ1bkIWCvJhsAewLlVtaiq7gbOBfYcePFPQlV1a1Vd3ubvA34IbIx9ttxq5/7+trhymwrYFTi9tY/vs7G+PB3YLUla+6lV9VBV/RSYT/ddqmUsySbAK4Dj2nKwv2YavxOXU0nWpPuH6eMBqurhqvoF9tlMsBvwk6q6iVnYX4bD0doYuLlneUFr0/Jhg6q6tc3fBmzQ5ifrN/tzBNrla8+jG4myz5Zj7RLFK4A76P5A/Anwi6p6pG3Se/5/3Tdt/T3Authnw/QZ4L3AY215Xeyv5VkB30hyWZJDWpvficuvzYCFwD+3S7ePS7Ia9tlMsB9wSpufdf1lOJT6UN21AD7adzmTZHXgy8C7qure3nX22fKnqh6tqq2BTehGj5492oo0mSSvBO6oqstGXYv6tnNVbQPsBRya5EW9K/1OXO6sRHc7y9FV9TzgAbrLEn/NPlv+tPus9wa+NH7dbOkvw+Fo3QJs2rO8SWvT8uH2dgkA7fWO1j5Zv9mfQ5RkZbpg+K9V9e+t2T6bAdqlU+cDO9JdajP2m7u95//XfdPWrwnchX02LDsBeye5ke6Wh12Bz2J/Lbeq6pb2egfwFbp/gPE7cfm1AFhQVRe35dPpwqJ9tnzbC7i8qm5vy7OuvwyHo3UpsGV7+tsqdMPUZ464Jj3uTGDsKVJzgTN62g9sT6LaAbinXVJwDrB7krXb06p2b21axtq9TMcDP6yqT/esss+WU0nWT7JWm38q8DK6e0XPB17XNhvfZ2N9+TrgW+1fZc8E9kv3dMzNgC2BS4byIZ5Equr9VbVJVc2h+7PpW1V1APbXcinJakmeNjZP9112NX4nLreq6jbg5iTPak27Addiny3v9ufxS0phNvbXKJ6C4/T4RPc0ox/T3XvzgVHX82Sd6P5HvxX4Fd2/5h1Md7/MecD1wDeBddq2AT7f+uwqYLue/byZ7oEL84GDRv25ZusE7Ex36caVwBVterl9tvxOwB8A/9367Grgw619c7qwMJ/uMp2ntPZV2/L8tn7znn19oPXldcBeo/5ss30CduHxp5XaX8vh1PrlB226ZuzvE34nLt8TsDUwr30v/gfd0yvts+V0AlajuyJizZ62WddfaUVKkiRJkp7EvKxUkiRJkmQ4lCRJkiQZDiVJkiRJGA4lSZIkSRgOJUmSJEkYDiVJSyhJJflUz/KfJfnLZbTvE5O8bvFbLvVxXp/kh0nO72n7/SRXtGlRkp+2+W8m2TvJ4UOoK0nubL+DRZIN2/neuWebhUnWXcL9T3p+k6zU9n3kklUvSZqpDIeSpCX1EPDaJOuNupBeSVaaxuYHA2+pqpeMNVTVVVW1dVVtTfdDxn/ell9aVWdW1cBDU3W/M3URsGNreiHd70S+EKD9cPZdVXXX4vY1zfMB8DK63999fZJM873LRAvH/h1FkobML15J0pJ6BDgW+L/jV4wfmUpyf3vdJcl3kpyR5IYkRyY5IMklSa5KskXPbl6aZF6SHyd5ZXv/ikk+keTSJFcmeWvPfr+b5Ezg2gnq2b/t/+okH2ttHwZ2Bo5P8ol+PnCSNyX5XM9nPDrJRe2z7JLkhDYSeWLPe3ZPcmGSy5N8Kcnqrf3IJNe2z/HJCQ73fVoYbK9/zxPD4vdaiPpE+1xXJXnDROejbfe5JNcl+Sbw21N8zP2BzwI/6zkeSW5M8vF2nEuS/E7PeThmGn21epLz2vm4Ksk+rX1Oq+9k4Gpg07bvsc/2G/+dSZKWren+a6IkSb0+D1yZ5OPTeM9zgd8FFgE3AMdV1fZJDgPeCbyrbTcH2B7YAji/hZEDgXuq6vlJnkIXkL7Rtt8GeE5V/bT3YEk2Aj4GbAvcDXwjyaur6iNJdgX+rKrmTfeDN2vTBai96UYZdwL+GLg0ydbAAuCDwEur6oEk7wPeneTzwGuAZ1dVJVlrgn1/DziizW/f5g9ryy+kC4+vBbamO6frteNeMP58JHkt8CxgK2ADugB9wvgDJlkVeCnwVmAtuqD4/Z5N7qmq309yIPAZ4JWtfQ7999XNwGuq6t426nxRC7EAWwJzq+qiJNsCG1fVc1ptE50jSdIy5MihJGmJVdW9wMnAn07jbZdW1a1V9RDwE2As3F1FFzLGnFZVj1XV9XQh8tnA7sCBSa4ALgbWpQsUAJeMD4bN84FvV9XCqnoE+FfgRdOodypntUtArwJub5ekPgZc0z7LDnSB7Hut5rnAM4B7gF/SjVq+Fnhwgn1fCjwvyWrAylV1P3BDC14vpAuPOwOnVNWjVXU78J32eeGJ5+NFPdv9HPjWJJ/nlcD5VfU/wJeBVydZsWf9KT2vO/a0T6evAvxtkiuBbwIb0wVWgJuq6qI2fwOweZJ/SLIncO8kNUuSlhFHDiVJS+szwOXAP/e0PUL7B8h0946t0rPuoZ75x3qWH+OJfy7VuOMUXbB4Z1Wd07siyS7AA0tS/FLqrX3851oJeBQ4t6r2H//GJNsDuwGvA94B7Nq7vqoeTHI98Ga68wvdfYgvp7ss9LrF1LYk52N/YOckN7bldVtd546V1VviJPNjy5P11ZuA9YFtq+pX7Virjq+5qu5O8lxgD+BPgH3pzoUkaUAcOZQkLZWqWgScRvdwlzE30l3GCd0llysvwa5fn2SFdh/i5nRh6BzgbUlWBkjyzDayNpVLgBcnWa+Ngu1PN8I2DBcBO/Xcn7daq3l1YM2qOpvuns3nTvL+79NdZnthW76Q7tLSi9qI5XeBN7T7+9anGyG8ZIL9XNCz3YbAS8ZvkGQN4A+Bp1fVnKqaAxxKd77GvKHn9cKe9un01ZrAHS0YvoRuJPU3tEtOV6iqL9NdmrvNJOdIkrSMOHIoSVoWPkU3+jXmn4AzkvwA+E+WbBTrZ3RBZw3gT6rql0mOo7tc8/IkARYCr55qJ1V1a7qfnzifbjTra1V1xhLUM21VtbCNlJ3S7ruDLujcR3d+Vm01vXuSXXyPLgyOBbHLgU2A49ryV+gu7/wB3Wjde6vqtiTPHrefr9CNAF5Ld14v5De9BvhWu9x3zBnAx3tqX7tdDvoQTwyN0+mrfwXOSnIVMA/40SSffWPgn/P4U0vfP8l2kqRlJN0/PEqSJE2uXf65XVXdOa79ROCrVXX6KOqSJC07XlYqSZIkSXLkUJIkSZLkyKEkSZIkCcOhJEmSJAnDoSRJkiQJw6EkSZIkCcOhJEmSJAnDoSRJkiQJ+P9jNDOq+m63MQAAAABJRU5ErkJggg==\n",
>>>>>>> 49893f1efd88573d5690756d970064fdaa6b5eec
      "text/plain": [
       "<Figure size 1080x432 with 1 Axes>"
      ]
     },
     "metadata": {
      "needs_background": "light"
     },
     "output_type": "display_data"
    }
   ],
   "source": [
    "make_histogram(word_count.values(), \n",
    "               title=\"Distribution of Word Count\",\n",
    "               xlabel=\"Number of Times Word Appears\",\n",
    "               ylabel=\"Number of Unique Words\")"
   ]
  },
  {
   "cell_type": "markdown",
   "metadata": {},
   "source": [
    "### In-Class Question\n",
    "- Why does this distribution look the way it does? \n",
    "- What additional steps could be taken to make the results more meaningful?"
   ]
  },
  {
   "cell_type": "code",
<<<<<<< HEAD
   "execution_count": 19,
   "metadata": {
    "ExecuteTime": {
     "end_time": "2021-10-22T02:34:50.316027Z",
     "start_time": "2021-10-22T02:34:49.389983Z"
    }
   },
=======
   "execution_count": 64,
   "metadata": {},
>>>>>>> 49893f1efd88573d5690756d970064fdaa6b5eec
   "outputs": [],
   "source": [
    "import pandas as pd # output the results to a dataframe\n",
    "word_count_df = pd.DataFrame(columns=[\"word\", \"frequency\"]) # create a dataframe with two columns, word and frequency\n"
   ]
  },
  {
   "cell_type": "code",
   "execution_count": 67,
   "metadata": {},
   "outputs": [],
   "source": [
    "word_count_df[\"word\"] = list(word_count.keys())\n",
    "word_count_df[\"frequency\"] = list(word_count.values())\n",
    "word_count_df.to_csv(\"dickens_word_count.csv\") # saves to an outputs folder - if you don't have one, Python will throw an error"
   ]
  },
  {
   "cell_type": "markdown",
   "metadata": {},
   "source": [
    "## Zipf's Law\n",
    "\n",
    "### General Definition\n",
    "\n",
    "Zipf's Law states that for `N` words, the `k`th most frequent word will appear with a normalized frequency equal to\n",
    "\n",
    "<figure>\n",
    "  <img src=\"images/zipf.svg\" alt=\"my alt text\"/>\n",
    "</figure>\n",
    "\n",
    "The parameter $s$ is an exponent that defines the behavior of the distribution. Traditionally, in natural language, $s = 1$.\n",
    "\n",
    "<figure>\n",
    "  <img src=\"images/zip_languages.png\" alt=\"my alt text\"/>\n",
    "  <figcaption><i>Stefan Evert, http://zipfr.r-forge.r-project.org/materials/LREC2018/tutorial_lrec2018.handout.pdf</i></figcaption>\n",
    "</figure>\n",
    "\n",
    "\n",
    "### Approximation in NLP\n",
    "\n",
    "If $t_1$ is the most common word in a collection of text, and $t_2$ is the next most common word, then the frequency of the $i$th most common word is proportional to $\\frac{1}{i}$. The approximation we'll use specifically for natural languages is\n",
    "\n",
    "$$\n",
    "f(t_i) = \\frac{0.1}{i^\\alpha}\n",
    "$$\n",
    "\n",
    "$\\alpha = 1$.\n",
    "\n",
    "To represent the frequency of a word in a body of text.\n",
    "\n",
    "In human language, there are **a few high-frequency words and many low-frequency words**. What does this mean in terms of machine learning / data modelling?\n",
    "\n",
    "* In many cases, the high frequency words do not carry much value in terms of predictive power or signal. These are frequently **stopwords** that must be removed / otherwise feature-engineered."
   ]
  },
  {
   "cell_type": "markdown",
   "metadata": {},
   "source": [
    "### Zipf Distributions\n",
    "\n",
    "There is a distribution known as the **Zipf Distribution**, and it even has its own [implementation in Numpy](https://numpy.org/doc/stable/reference/random/generated/numpy.random.zipf.html). In this following example, we generate a random sample of 1000 numbers and plot them:"
   ]
  },
  {
   "cell_type": "code",
<<<<<<< HEAD
   "execution_count": 20,
   "metadata": {
    "ExecuteTime": {
     "end_time": "2021-10-22T02:41:32.718387Z",
     "start_time": "2021-10-22T02:41:32.485999Z"
    }
   },
   "outputs": [
    {
     "data": {
      "image/png": "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\n",
=======
   "execution_count": 21,
   "metadata": {},
   "outputs": [
    {
     "data": {
      "image/png": "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\n",
>>>>>>> 49893f1efd88573d5690756d970064fdaa6b5eec
      "text/plain": [
       "<Figure size 1080x432 with 1 Axes>"
      ]
     },
     "metadata": {
      "needs_background": "light"
     },
     "output_type": "display_data"
    }
   ],
   "source": [
    "import numpy as np\n",
    "from matplotlib import pyplot as plt\n",
    "a = 2\n",
    "\n",
    "counts = np.random.zipf(a, 1000)\n",
    "count, bins, ignored = plt.hist(counts[counts<100], 100, density=True)"
   ]
  },
  {
   "cell_type": "markdown",
   "metadata": {},
   "source": [
    "# Regular Expressions"
   ]
  },
  {
   "cell_type": "code",
<<<<<<< HEAD
   "execution_count": 21,
   "metadata": {
    "ExecuteTime": {
     "end_time": "2021-10-22T03:00:32.656997Z",
     "start_time": "2021-10-22T03:00:32.631539Z"
    }
   },
=======
   "execution_count": 70,
   "metadata": {},
>>>>>>> 49893f1efd88573d5690756d970064fdaa6b5eec
   "outputs": [
    {
     "data": {
      "text/html": [
       "<div>\n",
       "<style scoped>\n",
       "    .dataframe tbody tr th:only-of-type {\n",
       "        vertical-align: middle;\n",
       "    }\n",
       "\n",
       "    .dataframe tbody tr th {\n",
       "        vertical-align: top;\n",
       "    }\n",
       "\n",
       "    .dataframe thead th {\n",
       "        text-align: right;\n",
       "    }\n",
       "</style>\n",
       "<table border=\"1\" class=\"dataframe\">\n",
       "  <thead>\n",
       "    <tr style=\"text-align: right;\">\n",
       "      <th></th>\n",
       "      <th>word</th>\n",
       "      <th>frequency</th>\n",
       "    </tr>\n",
       "  </thead>\n",
       "  <tbody>\n",
       "    <tr>\n",
       "      <th>0</th>\n",
       "      <td></td>\n",
       "      <td>7027</td>\n",
       "    </tr>\n",
       "    <tr>\n",
       "      <th>3</th>\n",
       "      <td>the</td>\n",
       "      <td>6634</td>\n",
       "    </tr>\n",
       "    <tr>\n",
       "      <th>71</th>\n",
       "      <td>and</td>\n",
       "      <td>4318</td>\n",
       "    </tr>\n",
       "    <tr>\n",
       "      <th>5</th>\n",
       "      <td>of</td>\n",
       "      <td>3623</td>\n",
       "    </tr>\n",
       "    <tr>\n",
       "      <th>35</th>\n",
       "      <td>to</td>\n",
       "      <td>3145</td>\n",
       "    </tr>\n",
<<<<<<< HEAD
=======
       "    <tr>\n",
       "      <th>66</th>\n",
       "      <td>a</td>\n",
       "      <td>2561</td>\n",
       "    </tr>\n",
       "    <tr>\n",
       "      <th>40</th>\n",
       "      <td>in</td>\n",
       "      <td>2212</td>\n",
       "    </tr>\n",
       "    <tr>\n",
       "      <th>226</th>\n",
       "      <td>his</td>\n",
       "      <td>1754</td>\n",
       "    </tr>\n",
       "    <tr>\n",
       "      <th>48</th>\n",
       "      <td>that</td>\n",
       "      <td>1568</td>\n",
       "    </tr>\n",
       "    <tr>\n",
       "      <th>8</th>\n",
       "      <td>was</td>\n",
       "      <td>1558</td>\n",
       "    </tr>\n",
>>>>>>> 49893f1efd88573d5690756d970064fdaa6b5eec
       "  </tbody>\n",
       "</table>\n",
       "</div>"
      ],
      "text/plain": [
<<<<<<< HEAD
       "   word  frequency\n",
       "0             7027\n",
       "3   the       6634\n",
       "71  and       4318\n",
       "5    of       3623\n",
       "35   to       3145"
      ]
     },
     "execution_count": 21,
=======
       "     word  frequency\n",
       "0               7027\n",
       "3     the       6634\n",
       "71    and       4318\n",
       "5      of       3623\n",
       "35     to       3145\n",
       "66      a       2561\n",
       "40     in       2212\n",
       "226   his       1754\n",
       "48   that       1568\n",
       "8     was       1558"
      ]
     },
     "execution_count": 70,
>>>>>>> 49893f1efd88573d5690756d970064fdaa6b5eec
     "metadata": {},
     "output_type": "execute_result"
    }
   ],
   "source": [
    "# get the top stopwords\n",
    "word_count_df.sort_values(by=[\"frequency\"], ascending=False).head(10)"
   ]
  },
  {
   "cell_type": "code",
<<<<<<< HEAD
   "execution_count": 22,
   "metadata": {
    "ExecuteTime": {
     "end_time": "2021-10-22T03:04:05.996429Z",
     "start_time": "2021-10-22T03:04:05.975949Z"
    }
   },
=======
   "execution_count": 23,
   "metadata": {},
>>>>>>> 49893f1efd88573d5690756d970064fdaa6b5eec
   "outputs": [],
   "source": [
    "import re\n",
    "\n",
    "SAMPLE_TWEET = '''\n",
    "#wolfram Alpha SUCKS! Even for researchers the information provided is less than you can get from \n",
    "#google or #wikipedia, totally useless! Avoid Wolfram at all costs, #ScrewWolframProducts\"\n",
    "'''\n",
    "import pandas as pd\n",
    "# create a dataframe version of Dickens' novel\n",
    "dickens_text_df = pd.DataFrame( open(\"tale-of-two-cities.txt\", \"r\"), columns=[\"line\"])\n",
    "dickens_text_df[\"line\"] = dickens_text_df[\"line\"].str.replace(\"\\n\", \"\")"
   ]
  },
  {
   "cell_type": "markdown",
   "metadata": {},
   "source": [
    "### Match the first time a capital letter appears in the tweet"
   ]
  },
  {
   "cell_type": "code",
<<<<<<< HEAD
   "execution_count": 23,
   "metadata": {
    "ExecuteTime": {
     "end_time": "2021-10-22T03:04:08.298346Z",
     "start_time": "2021-10-22T03:04:08.295336Z"
    }
   },
=======
   "execution_count": 72,
   "metadata": {},
   "outputs": [
    {
     "data": {
      "text/plain": [
       "'\\n#wolfram Alpha SUCKS! Even for researchers the information provided is less than you can get from \\n#google or #wikipedia, totally useless! Avoid Wolfram at all costs, #ScrewWolframProducts\"\\n'"
      ]
     },
     "execution_count": 72,
     "metadata": {},
     "output_type": "execute_result"
    }
   ],
   "source": [
    "SAMPLE_TWEET"
   ]
  },
  {
   "cell_type": "code",
   "execution_count": 71,
   "metadata": {},
>>>>>>> 49893f1efd88573d5690756d970064fdaa6b5eec
   "outputs": [],
   "source": [
    "import re"
   ]
  },
  {
   "cell_type": "code",
<<<<<<< HEAD
   "execution_count": 24,
   "metadata": {
    "ExecuteTime": {
     "end_time": "2021-10-22T03:04:36.799858Z",
     "start_time": "2021-10-22T03:04:36.795857Z"
    }
   },
=======
   "execution_count": 83,
   "metadata": {},
>>>>>>> 49893f1efd88573d5690756d970064fdaa6b5eec
   "outputs": [
    {
     "data": {
      "text/plain": [
<<<<<<< HEAD
       "'A'"
      ]
     },
     "execution_count": 24,
=======
       "True"
      ]
     },
     "execution_count": 83,
>>>>>>> 49893f1efd88573d5690756d970064fdaa6b5eec
     "metadata": {},
     "output_type": "execute_result"
    }
   ],
   "source": [
    "\"wolf\" in SAMPLE_TWEET"
   ]
  },
  {
   "cell_type": "markdown",
   "metadata": {},
   "source": [
    "### Match all capital letters that appears in the tweet"
   ]
  },
  {
   "cell_type": "code",
<<<<<<< HEAD
   "execution_count": 25,
   "metadata": {
    "ExecuteTime": {
     "end_time": "2021-10-22T03:21:00.751196Z",
     "start_time": "2021-10-22T03:21:00.745174Z"
    }
   },
=======
   "execution_count": 89,
   "metadata": {},
>>>>>>> 49893f1efd88573d5690756d970064fdaa6b5eec
   "outputs": [
    {
     "data": {
      "text/plain": [
       "['A', 'SUCKS', 'E', 'A', 'W', 'S', 'W', 'P']"
      ]
     },
<<<<<<< HEAD
     "execution_count": 25,
=======
     "execution_count": 89,
>>>>>>> 49893f1efd88573d5690756d970064fdaa6b5eec
     "metadata": {},
     "output_type": "execute_result"
    }
   ],
   "source": [
    "# re\n",
    "re.findall(\"[A-Z]+\", SAMPLE_TWEET)"
   ]
  },
  {
   "cell_type": "code",
<<<<<<< HEAD
   "execution_count": 26,
   "metadata": {
    "ExecuteTime": {
     "end_time": "2021-10-22T03:21:01.186940Z",
     "start_time": "2021-10-22T03:21:01.183924Z"
    }
   },
=======
   "execution_count": 27,
   "metadata": {},
>>>>>>> 49893f1efd88573d5690756d970064fdaa6b5eec
   "outputs": [],
   "source": [
    "normal_string = \"hello\"\n",
    "\n",
    "name = \"Yu Chen\"\n",
    "fstring = f\"Hi my name is {name}\"\n",
    "\n",
    "bytestring = b'abc'\n"
   ]
  },
  {
   "cell_type": "code",
<<<<<<< HEAD
   "execution_count": 27,
   "metadata": {
    "ExecuteTime": {
     "end_time": "2021-10-22T03:21:01.614527Z",
     "start_time": "2021-10-22T03:21:01.610559Z"
    }
   },
=======
   "execution_count": 90,
   "metadata": {},
>>>>>>> 49893f1efd88573d5690756d970064fdaa6b5eec
   "outputs": [
    {
     "data": {
      "text/plain": [
       "<re.Match object; span=(2, 3), match='w'>"
      ]
     },
<<<<<<< HEAD
     "execution_count": 27,
=======
     "execution_count": 90,
>>>>>>> 49893f1efd88573d5690756d970064fdaa6b5eec
     "metadata": {},
     "output_type": "execute_result"
    }
   ],
   "source": [
    "re.search(r'[a-z]', SAMPLE_TWEET)"
   ]
  },
  {
   "cell_type": "code",
<<<<<<< HEAD
   "execution_count": 28,
   "metadata": {
    "ExecuteTime": {
     "end_time": "2021-10-22T03:23:27.486409Z",
     "start_time": "2021-10-22T03:23:27.240891Z"
    }
   },
=======
   "execution_count": 102,
   "metadata": {},
   "outputs": [
    {
     "data": {
      "text/plain": [
       "(12870, 1)"
      ]
     },
     "execution_count": 102,
     "metadata": {},
     "output_type": "execute_result"
    }
   ],
   "source": [
    "dickens_text_df.shape"
   ]
  },
  {
   "cell_type": "code",
   "execution_count": 104,
   "metadata": {},
>>>>>>> 49893f1efd88573d5690756d970064fdaa6b5eec
   "outputs": [
    {
     "data": {
      "text/html": [
       "<div>\n",
       "<style scoped>\n",
       "    .dataframe tbody tr th:only-of-type {\n",
       "        vertical-align: middle;\n",
       "    }\n",
       "\n",
       "    .dataframe tbody tr th {\n",
       "        vertical-align: top;\n",
       "    }\n",
       "\n",
       "    .dataframe thead th {\n",
       "        text-align: right;\n",
       "    }\n",
       "</style>\n",
       "<table border=\"1\" class=\"dataframe\">\n",
       "  <thead>\n",
       "    <tr style=\"text-align: right;\">\n",
       "      <th></th>\n",
       "      <th></th>\n",
       "      <th>0</th>\n",
       "    </tr>\n",
       "    <tr>\n",
       "      <th></th>\n",
       "      <th>match</th>\n",
       "      <th></th>\n",
       "    </tr>\n",
       "  </thead>\n",
       "  <tbody>\n",
       "    <tr>\n",
<<<<<<< HEAD
       "      <th rowspan=\"4\" valign=\"top\">0</th>\n",
       "      <th>0</th>\n",
       "      <td>bes</td>\n",
       "    </tr>\n",
       "    <tr>\n",
       "      <th>1</th>\n",
       "      <td>time</td>\n",
       "    </tr>\n",
       "    <tr>\n",
       "      <th>2</th>\n",
       "      <td>wors</td>\n",
       "    </tr>\n",
       "    <tr>\n",
       "      <th>3</th>\n",
       "      <td>time</td>\n",
       "    </tr>\n",
       "    <tr>\n",
       "      <th>1</th>\n",
       "      <th>0</th>\n",
       "      <td>wisdo</td>\n",
=======
       "      <th>90</th>\n",
       "      <th>0</th>\n",
       "      <td>MAI</td>\n",
       "    </tr>\n",
       "    <tr>\n",
       "      <th>247</th>\n",
       "      <th>0</th>\n",
       "      <td>RECALLE</td>\n",
       "    </tr>\n",
       "    <tr>\n",
       "      <th>248</th>\n",
       "      <th>0</th>\n",
       "      <td>LIF</td>\n",
       "    </tr>\n",
       "    <tr>\n",
       "      <th rowspan=\"2\" valign=\"top\">292</th>\n",
       "      <th>0</th>\n",
       "      <td>NIGH</td>\n",
       "    </tr>\n",
       "    <tr>\n",
       "      <th>1</th>\n",
       "      <td>SHADOW</td>\n",
>>>>>>> 49893f1efd88573d5690756d970064fdaa6b5eec
       "    </tr>\n",
       "    <tr>\n",
       "      <th>...</th>\n",
       "      <th>...</th>\n",
       "      <td>...</td>\n",
       "    </tr>\n",
       "    <tr>\n",
<<<<<<< HEAD
       "      <th rowspan=\"5\" valign=\"top\">12867</th>\n",
       "      <th>2</th>\n",
       "      <td>tha</td>\n",
       "    </tr>\n",
       "    <tr>\n",
       "      <th>3</th>\n",
       "      <td>tha</td>\n",
       "    </tr>\n",
       "    <tr>\n",
       "      <th>4</th>\n",
       "      <td>hav</td>\n",
       "    </tr>\n",
       "    <tr>\n",
       "      <th>5</th>\n",
       "      <td>eve</td>\n",
       "    </tr>\n",
       "    <tr>\n",
       "      <th>6</th>\n",
       "      <td>know</td>\n",
       "    </tr>\n",
       "  </tbody>\n",
       "</table>\n",
       "<p>73627 rows × 1 columns</p>\n",
       "</div>"
      ],
      "text/plain": [
       "                 0\n",
       "      match       \n",
       "0     0        bes\n",
       "      1       time\n",
       "      2       wors\n",
       "      3       time\n",
       "1     0      wisdo\n",
       "...            ...\n",
       "12867 2        tha\n",
       "      3        tha\n",
       "      4        hav\n",
       "      5        eve\n",
       "      6       know\n",
       "\n",
       "[73627 rows x 1 columns]"
      ]
     },
     "execution_count": 28,
=======
       "      <th rowspan=\"2\" valign=\"top\">12662</th>\n",
       "      <th>0</th>\n",
       "      <td>FOOTSTEP</td>\n",
       "    </tr>\n",
       "    <tr>\n",
       "      <th>1</th>\n",
       "      <td>EVE</td>\n",
       "    </tr>\n",
       "    <tr>\n",
       "      <th rowspan=\"3\" valign=\"top\">12664</th>\n",
       "      <th>0</th>\n",
       "      <td>ALON</td>\n",
       "    </tr>\n",
       "    <tr>\n",
       "      <th>1</th>\n",
       "      <td>PARI</td>\n",
       "    </tr>\n",
       "    <tr>\n",
       "      <th>2</th>\n",
       "      <td>STREET</td>\n",
       "    </tr>\n",
       "  </tbody>\n",
       "</table>\n",
       "<p>178 rows × 1 columns</p>\n",
       "</div>"
      ],
      "text/plain": [
       "                    0\n",
       "      match          \n",
       "90    0           MAI\n",
       "247   0       RECALLE\n",
       "248   0           LIF\n",
       "292   0          NIGH\n",
       "      1        SHADOW\n",
       "...               ...\n",
       "12662 0      FOOTSTEP\n",
       "      1           EVE\n",
       "12664 0          ALON\n",
       "      1          PARI\n",
       "      2        STREET\n",
       "\n",
       "[178 rows x 1 columns]"
      ]
     },
     "execution_count": 104,
>>>>>>> 49893f1efd88573d5690756d970064fdaa6b5eec
     "metadata": {},
     "output_type": "execute_result"
    }
   ],
   "source": [
    "# pandas\n",
    "\n",
    "#match all words with a-z or A-Z with length 3+ and then ends with another \n",
    "# a-z character. But returns only the first part (the capture group) -\n",
    "# it will chop off the last character\n",
    "dickens_text_df[\"line\"].str.extractall(r'([A-Za-z]{3,})[A-Z]')"
   ]
  },
  {
   "cell_type": "markdown",
   "metadata": {},
   "source": [
    "### Match all words that are at least 3 characters long"
   ]
  },
  {
   "cell_type": "code",
<<<<<<< HEAD
   "execution_count": 29,
   "metadata": {
    "ExecuteTime": {
     "end_time": "2021-10-22T03:30:26.905097Z",
     "start_time": "2021-10-22T03:30:26.900106Z"
    }
   },
   "outputs": [
    {
     "data": {
      "text/plain": [
       "['wolfram', 'Alpha', 'SUCKS', 'Even', 'for']"
      ]
     },
     "execution_count": 29,
     "metadata": {},
     "output_type": "execute_result"
    }
   ],
=======
   "execution_count": 107,
   "metadata": {},
   "outputs": [],
>>>>>>> 49893f1efd88573d5690756d970064fdaa6b5eec
   "source": [
    "# re\n",
    "results = re.findall(\"[a-zA-Z]{3,}\", SAMPLE_TWEET)[:10] # show only the first 5"
   ]
  },
  {
   "cell_type": "code",
<<<<<<< HEAD
   "execution_count": 30,
   "metadata": {
    "ExecuteTime": {
     "end_time": "2021-10-22T03:30:27.161989Z",
     "start_time": "2021-10-22T03:30:27.154945Z"
    }
   },
=======
   "execution_count": 108,
   "metadata": {},
   "outputs": [
    {
     "data": {
      "text/plain": [
       "['wolfram',\n",
       " 'Alpha',\n",
       " 'SUCKS',\n",
       " 'Even',\n",
       " 'for',\n",
       " 'researchers',\n",
       " 'the',\n",
       " 'information',\n",
       " 'provided',\n",
       " 'less']"
      ]
     },
     "execution_count": 108,
     "metadata": {},
     "output_type": "execute_result"
    }
   ],
   "source": [
    "results"
   ]
  },
  {
   "cell_type": "code",
   "execution_count": 110,
   "metadata": {},
>>>>>>> 49893f1efd88573d5690756d970064fdaa6b5eec
   "outputs": [
    {
     "data": {
      "text/plain": [
<<<<<<< HEAD
       "'wolfram Alpha SUCKS Even for researchers the information provided less than you can get from google wikipedia totally useless Avoid Wolfram all costs ScrewWolframProducts'"
      ]
     },
     "execution_count": 30,
=======
       "'wolfram Alpha SUCKS Even for researchers the information provided less'"
      ]
     },
     "execution_count": 110,
>>>>>>> 49893f1efd88573d5690756d970064fdaa6b5eec
     "metadata": {},
     "output_type": "execute_result"
    }
   ],
   "source": [
    "\" \".join(results)"
   ]
  },
  {
   "cell_type": "code",
   "execution_count": 31,
   "metadata": {
    "ExecuteTime": {
     "end_time": "2021-10-22T03:30:27.365081Z",
     "start_time": "2021-10-22T03:30:27.332097Z"
    }
   },
   "outputs": [
    {
     "data": {
      "text/html": [
       "<div>\n",
       "<style scoped>\n",
       "    .dataframe tbody tr th:only-of-type {\n",
       "        vertical-align: middle;\n",
       "    }\n",
       "\n",
       "    .dataframe tbody tr th {\n",
       "        vertical-align: top;\n",
       "    }\n",
       "\n",
       "    .dataframe thead th {\n",
       "        text-align: right;\n",
       "    }\n",
       "</style>\n",
       "<table border=\"1\" class=\"dataframe\">\n",
       "  <thead>\n",
       "    <tr style=\"text-align: right;\">\n",
       "      <th></th>\n",
       "      <th>line</th>\n",
       "      <th>results</th>\n",
       "    </tr>\n",
       "  </thead>\n",
       "  <tbody>\n",
       "    <tr>\n",
       "      <th>0</th>\n",
       "      <td>IT WAS the best of times, it was the worst o...</td>\n",
       "      <td>WAS</td>\n",
       "    </tr>\n",
       "    <tr>\n",
       "      <th>1</th>\n",
       "      <td>age of wisdom, it was the age of foolishness, ...</td>\n",
       "      <td>age</td>\n",
       "    </tr>\n",
       "    <tr>\n",
       "      <th>2</th>\n",
       "      <td>belief, it was the epoch of incredulity, it wa...</td>\n",
       "      <td>belief</td>\n",
       "    </tr>\n",
       "    <tr>\n",
       "      <th>3</th>\n",
       "      <td>it was the season of Darkness, it was the spri...</td>\n",
       "      <td>was</td>\n",
       "    </tr>\n",
       "    <tr>\n",
       "      <th>4</th>\n",
       "      <td>winter of despair, we had everything before us...</td>\n",
       "      <td>winter</td>\n",
       "    </tr>\n",
       "    <tr>\n",
       "      <th>...</th>\n",
       "      <td>...</td>\n",
       "      <td>...</td>\n",
       "    </tr>\n",
       "    <tr>\n",
       "      <th>12865</th>\n",
       "      <td>hear him tell the child my story, with a tende...</td>\n",
       "      <td>hear</td>\n",
       "    </tr>\n",
       "    <tr>\n",
       "      <th>12866</th>\n",
       "      <td>\"It is a far, far better thing that I do, th...</td>\n",
       "      <td>far</td>\n",
       "    </tr>\n",
       "    <tr>\n",
       "      <th>12867</th>\n",
       "      <td>it is a far, far better rest that I go to than...</td>\n",
       "      <td>far</td>\n",
       "    </tr>\n",
       "    <tr>\n",
       "      <th>12868</th>\n",
       "      <td></td>\n",
       "      <td>NaN</td>\n",
       "    </tr>\n",
       "    <tr>\n",
       "      <th>12869</th>\n",
       "      <td>-THE END-</td>\n",
       "      <td>THE</td>\n",
       "    </tr>\n",
       "  </tbody>\n",
       "</table>\n",
       "<p>12870 rows × 2 columns</p>\n",
       "</div>"
      ],
      "text/plain": [
       "                                                    line results\n",
       "0        IT WAS the best of times, it was the worst o...     WAS\n",
       "1      age of wisdom, it was the age of foolishness, ...     age\n",
       "2      belief, it was the epoch of incredulity, it wa...  belief\n",
       "3      it was the season of Darkness, it was the spri...     was\n",
       "4      winter of despair, we had everything before us...  winter\n",
       "...                                                  ...     ...\n",
       "12865  hear him tell the child my story, with a tende...    hear\n",
       "12866    \"It is a far, far better thing that I do, th...     far\n",
       "12867  it is a far, far better rest that I go to than...     far\n",
       "12868                                                        NaN\n",
       "12869                                          -THE END-     THE\n",
       "\n",
       "[12870 rows x 2 columns]"
      ]
     },
     "execution_count": 31,
     "metadata": {},
     "output_type": "execute_result"
    }
   ],
   "source": [
    "\" \".join(re.findall(\"[a-zA-Z]{3,}\", SAMPLE_TWEET))"
   ]
  },
  {
   "cell_type": "code",
   "execution_count": 113,
   "metadata": {},
   "outputs": [
    {
     "data": {
      "text/html": [
       "<div>\n",
       "<style scoped>\n",
       "    .dataframe tbody tr th:only-of-type {\n",
       "        vertical-align: middle;\n",
       "    }\n",
       "\n",
       "    .dataframe tbody tr th {\n",
       "        vertical-align: top;\n",
       "    }\n",
       "\n",
       "    .dataframe thead th {\n",
       "        text-align: right;\n",
       "    }\n",
       "</style>\n",
       "<table border=\"1\" class=\"dataframe\">\n",
       "  <thead>\n",
       "    <tr style=\"text-align: right;\">\n",
       "      <th></th>\n",
       "      <th>line</th>\n",
       "      <th>results</th>\n",
       "    </tr>\n",
       "  </thead>\n",
       "  <tbody>\n",
       "    <tr>\n",
       "      <th>0</th>\n",
       "      <td>IT WAS the best of times, it was the worst o...</td>\n",
       "      <td>WAS</td>\n",
       "    </tr>\n",
       "    <tr>\n",
       "      <th>1</th>\n",
       "      <td>age of wisdom, it was the age of foolishness, ...</td>\n",
       "      <td>age</td>\n",
       "    </tr>\n",
       "    <tr>\n",
       "      <th>2</th>\n",
       "      <td>belief, it was the epoch of incredulity, it wa...</td>\n",
       "      <td>belief</td>\n",
       "    </tr>\n",
       "    <tr>\n",
       "      <th>3</th>\n",
       "      <td>it was the season of Darkness, it was the spri...</td>\n",
       "      <td>was</td>\n",
       "    </tr>\n",
       "    <tr>\n",
       "      <th>4</th>\n",
       "      <td>winter of despair, we had everything before us...</td>\n",
       "      <td>winter</td>\n",
       "    </tr>\n",
       "    <tr>\n",
       "      <th>...</th>\n",
       "      <td>...</td>\n",
       "      <td>...</td>\n",
       "    </tr>\n",
       "    <tr>\n",
       "      <th>12865</th>\n",
       "      <td>hear him tell the child my story, with a tende...</td>\n",
       "      <td>hear</td>\n",
       "    </tr>\n",
       "    <tr>\n",
       "      <th>12866</th>\n",
       "      <td>\"It is a far, far better thing that I do, th...</td>\n",
       "      <td>far</td>\n",
       "    </tr>\n",
       "    <tr>\n",
       "      <th>12867</th>\n",
       "      <td>it is a far, far better rest that I go to than...</td>\n",
       "      <td>far</td>\n",
       "    </tr>\n",
       "    <tr>\n",
       "      <th>12868</th>\n",
       "      <td></td>\n",
       "      <td>NaN</td>\n",
       "    </tr>\n",
       "    <tr>\n",
       "      <th>12869</th>\n",
       "      <td>-THE END-</td>\n",
       "      <td>THE</td>\n",
       "    </tr>\n",
       "  </tbody>\n",
       "</table>\n",
       "<p>12870 rows × 2 columns</p>\n",
       "</div>"
      ],
      "text/plain": [
       "                                                    line results\n",
       "0        IT WAS the best of times, it was the worst o...     WAS\n",
       "1      age of wisdom, it was the age of foolishness, ...     age\n",
       "2      belief, it was the epoch of incredulity, it wa...  belief\n",
       "3      it was the season of Darkness, it was the spri...     was\n",
       "4      winter of despair, we had everything before us...  winter\n",
       "...                                                  ...     ...\n",
       "12865  hear him tell the child my story, with a tende...    hear\n",
       "12866    \"It is a far, far better thing that I do, th...     far\n",
       "12867  it is a far, far better rest that I go to than...     far\n",
       "12868                                                        NaN\n",
       "12869                                          -THE END-     THE\n",
       "\n",
       "[12870 rows x 2 columns]"
      ]
     },
     "execution_count": 113,
     "metadata": {},
     "output_type": "execute_result"
    }
   ],
   "source": [
    "# pandas\n",
    "dickens_text_df[\"results\"] = dickens_text_df[\"line\"].str.extract(r'([a-zA-Z]{3,})')\n",
    "dickens_text_df"
   ]
  },
  {
   "cell_type": "code",
   "execution_count": 32,
   "metadata": {
    "ExecuteTime": {
     "end_time": "2021-10-22T03:30:27.594755Z",
     "start_time": "2021-10-22T03:30:27.526747Z"
    }
   },
   "outputs": [
    {
     "data": {
      "text/html": [
       "<div>\n",
       "<style scoped>\n",
       "    .dataframe tbody tr th:only-of-type {\n",
       "        vertical-align: middle;\n",
       "    }\n",
       "\n",
       "    .dataframe tbody tr th {\n",
       "        vertical-align: top;\n",
       "    }\n",
       "\n",
       "    .dataframe thead th {\n",
       "        text-align: right;\n",
       "    }\n",
       "</style>\n",
       "<table border=\"1\" class=\"dataframe\">\n",
       "  <thead>\n",
       "    <tr style=\"text-align: right;\">\n",
       "      <th></th>\n",
       "      <th>line</th>\n",
       "      <th>results</th>\n",
       "    </tr>\n",
       "  </thead>\n",
       "  <tbody>\n",
       "    <tr>\n",
       "      <th>0</th>\n",
       "      <td>IT WAS the best of times, it was the worst o...</td>\n",
       "      <td>WAS</td>\n",
       "    </tr>\n",
       "    <tr>\n",
       "      <th>1</th>\n",
       "      <td>age of wisdom, it was the age of foolishness, ...</td>\n",
       "      <td>age</td>\n",
       "    </tr>\n",
       "    <tr>\n",
       "      <th>2</th>\n",
       "      <td>belief, it was the epoch of incredulity, it wa...</td>\n",
       "      <td>belief</td>\n",
       "    </tr>\n",
       "    <tr>\n",
       "      <th>3</th>\n",
       "      <td>it was the season of Darkness, it was the spri...</td>\n",
       "      <td>was</td>\n",
       "    </tr>\n",
       "    <tr>\n",
       "      <th>4</th>\n",
       "      <td>winter of despair, we had everything before us...</td>\n",
       "      <td>winter</td>\n",
       "    </tr>\n",
       "    <tr>\n",
       "      <th>...</th>\n",
       "      <td>...</td>\n",
       "      <td>...</td>\n",
       "    </tr>\n",
       "    <tr>\n",
       "      <th>12865</th>\n",
       "      <td>hear him tell the child my story, with a tende...</td>\n",
       "      <td>hear</td>\n",
       "    </tr>\n",
       "    <tr>\n",
       "      <th>12866</th>\n",
       "      <td>\"It is a far, far better thing that I do, th...</td>\n",
       "      <td>far</td>\n",
       "    </tr>\n",
       "    <tr>\n",
       "      <th>12867</th>\n",
       "      <td>it is a far, far better rest that I go to than...</td>\n",
       "      <td>far</td>\n",
       "    </tr>\n",
       "    <tr>\n",
       "      <th>12868</th>\n",
       "      <td></td>\n",
       "      <td>NaN</td>\n",
       "    </tr>\n",
       "    <tr>\n",
       "      <th>12869</th>\n",
       "      <td>-THE END-</td>\n",
       "      <td>THE</td>\n",
       "    </tr>\n",
       "  </tbody>\n",
       "</table>\n",
       "<p>12870 rows × 2 columns</p>\n",
       "</div>"
      ],
      "text/plain": [
       "                                                    line results\n",
       "0        IT WAS the best of times, it was the worst o...     WAS\n",
       "1      age of wisdom, it was the age of foolishness, ...     age\n",
       "2      belief, it was the epoch of incredulity, it wa...  belief\n",
       "3      it was the season of Darkness, it was the spri...     was\n",
       "4      winter of despair, we had everything before us...  winter\n",
       "...                                                  ...     ...\n",
       "12865  hear him tell the child my story, with a tende...    hear\n",
       "12866    \"It is a far, far better thing that I do, th...     far\n",
       "12867  it is a far, far better rest that I go to than...     far\n",
       "12868                                                        NaN\n",
       "12869                                          -THE END-     THE\n",
       "\n",
       "[12870 rows x 2 columns]"
      ]
     },
     "execution_count": 32,
     "metadata": {},
     "output_type": "execute_result"
    }
   ],
   "source": [
    "dickens_text_df[\"results\"] = dickens_text_df[\"line\"].str.extract(r'([a-zA-Z]{3,})')\n",
    "dickens_text_df"
   ]
  },
  {
   "cell_type": "markdown",
   "metadata": {},
   "source": [
    "### Word Boundaries\n",
    "\n",
    "Consider the sentence:\n",
    "\n",
    "> *A thorough examination of the movie shows Thor was a thorn in the side of the villains, both then and now. thor.*\n",
    "\n",
    "What happens if you try to parse out all `Thor` references? What happens if you want to remove `A` or `a`, or `the` to clean up the text?"
   ]
  },
  {
   "cell_type": "code",
<<<<<<< HEAD
   "execution_count": 34,
   "metadata": {
    "ExecuteTime": {
     "end_time": "2021-10-22T03:35:17.293113Z",
     "start_time": "2021-10-22T03:35:17.288149Z"
    }
   },
=======
   "execution_count": 116,
   "metadata": {},
>>>>>>> 49893f1efd88573d5690756d970064fdaa6b5eec
   "outputs": [],
   "source": [
    "text = \"A thorough examination of the movie shows Thor was a thorn in the side of the villains, both then and now. thor.\""
   ]
  },
  {
   "cell_type": "code",
<<<<<<< HEAD
   "execution_count": 37,
   "metadata": {
    "ExecuteTime": {
     "end_time": "2021-10-22T03:35:56.899798Z",
     "start_time": "2021-10-22T03:35:56.895399Z"
    }
   },
   "outputs": [
    {
     "data": {
      "text/plain": [
       "['thor']"
      ]
     },
     "execution_count": 37,
     "metadata": {},
     "output_type": "execute_result"
    }
   ],
   "source": [
    "re.findall(r'\\bthor\\b', text)"
   ]
  },
  {
   "cell_type": "code",
   "execution_count": 40,
   "metadata": {
    "ExecuteTime": {
     "end_time": "2021-10-22T03:40:02.665100Z",
     "start_time": "2021-10-22T03:40:02.658516Z"
    }
   },
=======
   "execution_count": 127,
   "metadata": {},
>>>>>>> 49893f1efd88573d5690756d970064fdaa6b5eec
   "outputs": [
    {
     "data": {
      "text/plain": [
       "['Thor', 'thor']"
      ]
     },
<<<<<<< HEAD
     "execution_count": 40,
=======
     "execution_count": 127,
>>>>>>> 49893f1efd88573d5690756d970064fdaa6b5eec
     "metadata": {},
     "output_type": "execute_result"
    }
   ],
<<<<<<< HEAD
   "source": [
    "re.findall(r'\\b[tT]hor\\b', text)"
   ]
  },
  {
   "cell_type": "code",
   "execution_count": 38,
   "metadata": {
    "ExecuteTime": {
     "end_time": "2021-10-22T03:37:10.268456Z",
     "start_time": "2021-10-22T03:37:10.264481Z"
    }
   },
   "outputs": [],
=======
>>>>>>> 49893f1efd88573d5690756d970064fdaa6b5eec
   "source": [
    "re.findall(r'\\b[tT\\-]hor\\b', text)"
   ]
  },
  {
   "cell_type": "code",
<<<<<<< HEAD
   "execution_count": 39,
   "metadata": {
    "ExecuteTime": {
     "end_time": "2021-10-22T03:37:10.726902Z",
     "start_time": "2021-10-22T03:37:10.720903Z"
    }
   },
   "outputs": [
    {
     "data": {
      "text/plain": [
       "['son', 'kid', 'sons']"
      ]
     },
     "execution_count": 39,
     "metadata": {},
     "output_type": "execute_result"
    }
   ],
=======
   "execution_count": 120,
   "metadata": {},
   "outputs": [],
>>>>>>> 49893f1efd88573d5690756d970064fdaa6b5eec
   "source": [
    "sample_text = \"My son is a kid, I wish had had more sons.\""
   ]
  },
  {
   "cell_type": "code",
   "execution_count": 121,
   "metadata": {},
   "outputs": [
    {
     "data": {
      "text/plain": [
       "['son', 'kid', 'sons']"
      ]
     },
     "execution_count": 121,
     "metadata": {},
     "output_type": "execute_result"
    }
   ],
   "source": [
    "re.findall(r'(kid|sons|son|kids)', sample_text)"
   ]
  },
  {
   "cell_type": "code",
   "execution_count": null,
   "metadata": {},
   "outputs": [],
   "source": [
    "#34&Hello#34&"
   ]
  },
  {
   "cell_type": "code",
   "execution_count": null,
   "metadata": {},
   "outputs": [],
   "source": [
    "text = \"A thorough examination of the movie shows Thor was a thorn in the side of the villains, both then and now. thor.\"\n",
    "re.findall(r'\\b(thor|Thor)\\b', text) # notice the use of the r string prefix!"
   ]
  },
  {
   "cell_type": "code",
   "execution_count": null,
   "metadata": {},
   "outputs": [],
   "source": [
    "# pandas\n",
    "dickens_text_df[\"results\"] = dickens_text_df[\"line\"].str.findall(r'\\bthe\\b')\n",
    "dickens_text_df.head(5)"
   ]
  },
  {
   "cell_type": "markdown",
   "metadata": {},
   "source": [
    "### Removing Stopwords Using Regex"
   ]
  },
  {
   "cell_type": "code",
   "execution_count": null,
   "metadata": {},
   "outputs": [],
   "source": [
    "# re\n",
    "text = re.sub('(the|The)', '', text, flags=re.IGNORECASE)\n",
    "text"
   ]
  },
  {
   "cell_type": "code",
   "execution_count": null,
   "metadata": {},
   "outputs": [],
   "source": [
    "# pandas\n",
    "\n",
    "dickens_text_df[\"results\"] = dickens_text_df[\"line\"].str.replace(r'\\bthe\\b', '', case=False)\n",
    "dickens_text_df.head()"
   ]
  },
  {
   "cell_type": "markdown",
   "metadata": {},
   "source": [
    "### Regex Exercises\n",
    "\n",
    "Write the Python code needed in order to answer each of the following questions.\n",
    "\n",
    "1. One of the main characters in **A Tale of Two Cities** is `Sydney Carton`. How many times is the word `Carton` used?\n",
    "2. How many times does the word `the` appear in the novel?\n",
    "3. How many words of 3 or more characters in length appear in all caps in the novel **A Tale of Two Cities**?\n",
    "4. How would you find replace the stopword `the` using regex from `Tale of Two Cities`\n",
    "5. What percentage of lines in Dickens' text contain adverbs? For now, you can classify an adverb as a word that ends in `ly`.\n",
    "6. One many times does Charles Dickens use the pattern `WORD, WORD, and WORD` in this novel (for example `red, bluff, and free`)?\n",
    "\n",
    "7. Open https://regexr.com/. Write a regular expression that parses the phone numbers from the following text:  \n",
    "> *My phone number is 860-941-5955. But you can also call me at my international number, +011-47-324-941-8292*\n",
    "\n",
    "8. Write a regular expression that parses out **all hashtags** used in a tweet:\n",
    "> *people saying #GoT is boring after watching 3 episodes lmao yall are so used to mediocrity and fast paced stories without any depth and complexity in it’s characters so y’all can’t appreciate it’s the #1 show in America, but GoT outsold for a reason #GameOfThrones #LevelUpSon*"
   ]
  },
  {
   "cell_type": "markdown",
   "metadata": {},
   "source": [
    "# Encoding Schemes\n",
    "\n",
    "This is not a computer science class, but in your practical work, you will frequently have to deal with text that is encoded in a variety of styles. Understanding the difference between them is key.\n",
    "\n",
    "### Implications for Data Science\n",
    "\n",
    "Reasons I've encountered in my own work with NLP why it is beneficial to understand text encoding schemes:\n",
    "* If you are not using the right encoding, you cannot perform adequate feature engineering\n",
    "* Some data-scientists have simply \"thrown away\" samples of tweets, social media comments that seem \"mal-formed\" but are actually simply just using a different encoding scheme\n",
    "\n",
    "\n",
    "## World Languages, in Context\n",
    "\n",
    "<figure>\n",
    "  <img src=\"images/most_popular_languages.png\" alt=\"my alt text\"/>\n",
    "</figure>\n",
    "\n",
    "## Bits and Bytes\n",
    "\n",
    "- Computers, at its lowest level, store everything in the form of bits (either a 0 or a 1). The amount of information that can be represented in a computer is determined by the number of bits.\n",
    "\n",
    "<figure>\n",
    "  <img src=\"images/hierarchy.png\" alt=\"my alt text\"/>\n",
    "</figure>\n",
    "\n",
    "For instance, a using only 4 bits, you can store **$2^4$ = 16** different values.\n",
    "<figure>\n",
    "  <img src=\"images/binary.png\" alt=\"my alt text\"/>\n",
    "    <figcaption><i>How <b>$101010$</b> is converted to decimal (human-readable numbers): each of the green numbers is summed up to equal 42.</i></figcaption>\n",
    "</figure>\n",
    "\n",
    "It is not physically efficient for a computer to try to read one bit at a time, so typically data is stored in **8-bit** groups called **bytes**.\n",
    "\n",
    "### Exercises\n",
    "\n",
    "1. How many bits (0s and 1s) does it take to represent **4 different characters**?\n",
    "2. How many bits (0s and 1s does it take to represent **128 different characters**?\n",
    "\n",
    "## ASCII\n",
    "\n",
    "The oldest, yet still relevant encoding style to be aware of is **ASCII**, where computers represent text (**every character on a keyboard**) initially as a number between 0 and 127 (question: how many bits does it take to do this?)\n",
    "\n",
    "<figure>\n",
    "  <img src=\"images/ascii.svg\" alt=\"my alt text\"/>\n",
    "    <figcaption><i>ASCII table converting numbers to characters.<b>(Wikipedia)</b></i></figcaption>\n",
    "</figure>\n",
    "\n",
    "*If the smallest amount of data a computer can realistically read in is a byte (**8-bits**), why is ASCII only **7-bits**?* The last bit was a **parity bit** is used for **error checking** - to ensure that the data wasn't corrected or unintentionally altered.\n",
    "\n",
    "### Encoding/Decoding Words\n",
    "\n",
    "How would you write the word `Data` using ASCII encoding?\n",
    "\n",
    "#### Steps:\n",
    "\n",
    "1. Look up the \"codepoint\" for the first character (`D`).\n",
    "\n",
    "When you look up the character map value for `D`, its corresponding codepoint is `68`. Note that this is a different codepoint than lowercase `d`.\n",
    "\n",
    "2. Write out that number in binary.\n",
    "\n",
    "<figure>\n",
    "  <img src=\"images/empty_binary_workbook.png\" alt=\"my alt text\"/>\n",
    "</figure>\n",
    "\n",
    "<figure>\n",
    "  <img src=\"images/full_binary_workbook.png\" alt=\"my alt text\"/>\n",
    "</figure>\n",
    "\n",
    "The ASCII binary encoding for `D` is `1000100`.\n",
    "\n",
    "3. Repeat for `a`, `t`, and `a`.\n",
    "\n",
    "Use [this website to check your answer](https://www.rapidtables.com/convert/number/ascii-to-binary.html)."
   ]
  },
  {
   "cell_type": "code",
   "execution_count": null,
   "metadata": {},
   "outputs": [],
   "source": [
    "# to find out your computer's default encoding system\n",
    "sys.getdefaultencoding()"
   ]
  },
  {
   "cell_type": "markdown",
   "metadata": {},
   "source": [
    "#### Exercises\n",
    "1. Convert the word `cat` to binary ASCII encoding.\n",
    "2. What word is represented by the following binary encoding? `01100001 01110010 01110100`"
   ]
  },
  {
   "cell_type": "markdown",
   "metadata": {},
   "source": [
    "\n",
    "### Python Code\n",
    "\n",
    "Do not worry about understanding what is happening inside the `get_binary_for_char` and `get_binary` functions. Just know that they take in a string and produce the 0s and 1s that the string is encoded in:"
   ]
  },
  {
   "cell_type": "code",
   "execution_count": 1,
   "metadata": {},
   "outputs": [],
   "source": [
    "import re\n",
    "from typing import List\n",
    "\n",
    "def get_binary_for_char(char: str, encoding=\"utf-8\") -> str:\n",
    "    \"\"\"\n",
    "    Encodes a character using the desired encoding into its corresponding hex, then converts the\n",
    "    hex code into binary, formatted with tab spaces between byte marks.\n",
    "    \"\"\"\n",
    "\n",
    "    hex_code = char.encode(encoding).hex()\n",
    "    code_point = hex(ord(char))[2:].upper()\n",
    "\n",
    "    binary: str = f\"{int(hex_code, 16):08b}\"\n",
    "\n",
    "    byte_list: List[str] = re.findall('[01]{8}', binary)\n",
    "    formatted_binary: str = \"\\t\".join(byte_list)  # for variable length encoding, tab space between byte marks.\n",
    "    print(f\"{char} (U+{code_point.zfill(4)}, hex:{hex_code}) - {encoding}: {formatted_binary}\")\n",
    "    return formatted_binary\n",
    "\n",
    "\n",
    "def get_binary(text: str, encoding=\"utf-8\"):\n",
    "    return \" \".join([get_binary_for_char(char, encoding) for char in text])\n",
    "\n"
   ]
  },
  {
   "cell_type": "code",
   "execution_count": 130,
   "metadata": {},
   "outputs": [
    {
     "name": "stdout",
     "output_type": "stream",
     "text": [
      "D (U+0044, hex:44) - utf-8: 01000100\n",
      "a (U+0061, hex:61) - utf-8: 01100001\n",
      "t (U+0074, hex:74) - utf-8: 01110100\n",
      "a (U+0061, hex:61) - utf-8: 01100001\n"
     ]
    },
    {
     "data": {
      "text/plain": [
       "'01000100 01100001 01110100 01100001'"
      ]
     },
     "execution_count": 130,
     "metadata": {},
     "output_type": "execute_result"
    }
   ],
   "source": [
    "# ASCII encoding of \"Data\"\n",
    "\n",
    "get_binary(\"Data\")"
   ]
  },
  {
   "cell_type": "markdown",
   "metadata": {},
   "source": [
    "### Extended ASCII\n",
    "\n",
    "The dominant language in earlier eras of computing was English. People began to realize that ASCII was relatively limited, and even other European languages could not be properly supported. At the same time, transmission technology evolved to a standard of reliability such that the parity bit used for checking for errors was no longer needed. \n",
    "\n",
    "As a result, people began using the last (eighth) bit to extend the number of characters represented by ASCII from 128 characters to 256 characters.\n",
    "\n",
    "#### Latin-1\n",
    "\n",
    "Character map [available here](https://www.htmlhelp.com/reference/charset/latin1.gif).\n",
    "\n",
    "Characters such as `Ç` (pronounced `ch` in Turkish, for instance), is represented by the number `199`. The Spanish word `año` (year) includes a character `ñ` that would be represented by the code point `241`.\n",
    "\n",
    "#### Excel on Macs\n",
    "\n",
    "Macs commonly use [Mac OS Roman encoding](https://en.wikipedia.org/wiki/Mac_OS_Roman). "
   ]
  },
  {
   "cell_type": "code",
   "execution_count": 131,
   "metadata": {},
   "outputs": [
    {
     "name": "stdout",
     "output_type": "stream",
     "text": [
      "D (U+0044, hex:44) - latin1: 01000100\n",
      "a (U+0061, hex:61) - latin1: 01100001\n",
      "t (U+0074, hex:74) - latin1: 01110100\n",
      "a (U+0061, hex:61) - latin1: 01100001\n"
     ]
    },
    {
     "data": {
      "text/plain": [
       "'01000100 01100001 01110100 01100001'"
      ]
     },
     "execution_count": 131,
     "metadata": {},
     "output_type": "execute_result"
    }
   ],
   "source": [
    "# latin1 encoding of \"cat\"\n",
    "get_binary(\"Data\", encoding=\"latin1\")\n"
   ]
  },
  {
   "cell_type": "code",
   "execution_count": 144,
   "metadata": {},
   "outputs": [
    {
     "name": "stdout",
     "output_type": "stream",
     "text": [
      "😍 (U+1F60D, hex:f09f988d) - utf8: 11110000\t10011111\t10011000\t10001101\n"
     ]
    },
    {
     "data": {
      "text/plain": [
       "'11110000\\t10011111\\t10011000\\t10001101'"
      ]
     },
     "execution_count": 144,
     "metadata": {},
     "output_type": "execute_result"
    }
   ],
   "source": [
    "# encoding Cuántas\n",
    "\n",
    "get_binary(\"😍\", encoding=\"utf8\")\n"
   ]
  },
  {
   "cell_type": "markdown",
   "metadata": {},
   "source": [
    "In Python, to convert from bytes to strings, you use the `encode()` and `decode()` functions. \n",
    "\n",
    "### Turning Strings into Bytes"
   ]
  },
  {
   "cell_type": "code",
   "execution_count": 134,
   "metadata": {},
   "outputs": [
    {
     "name": "stdout",
     "output_type": "stream",
     "text": [
      "Using latin1 encoding: b'm\\xe1s'\n"
     ]
    },
    {
     "ename": "UnicodeEncodeError",
     "evalue": "'ascii' codec can't encode character '\\xe1' in position 1: ordinal not in range(128)",
     "output_type": "error",
     "traceback": [
      "\u001b[0;31m---------------------------------------------------------------------------\u001b[0m",
      "\u001b[0;31mUnicodeEncodeError\u001b[0m                        Traceback (most recent call last)",
      "\u001b[0;32m<ipython-input-134-f27879f083c0>\u001b[0m in \u001b[0;36m<module>\u001b[0;34m\u001b[0m\n\u001b[1;32m      1\u001b[0m \u001b[0;31m# Using Python's encode/decode:\u001b[0m\u001b[0;34m\u001b[0m\u001b[0;34m\u001b[0m\u001b[0;34m\u001b[0m\u001b[0m\n\u001b[1;32m      2\u001b[0m \u001b[0mprint\u001b[0m\u001b[0;34m(\u001b[0m\u001b[0;34m\"Using latin1 encoding:\"\u001b[0m\u001b[0;34m,\u001b[0m \u001b[0;34m\"más\"\u001b[0m\u001b[0;34m.\u001b[0m\u001b[0mencode\u001b[0m\u001b[0;34m(\u001b[0m\u001b[0mencoding\u001b[0m\u001b[0;34m=\u001b[0m\u001b[0;34m\"latin1\"\u001b[0m\u001b[0;34m)\u001b[0m\u001b[0;34m)\u001b[0m\u001b[0;34m\u001b[0m\u001b[0;34m\u001b[0m\u001b[0m\n\u001b[0;32m----> 3\u001b[0;31m \u001b[0mprint\u001b[0m\u001b[0;34m(\u001b[0m\u001b[0;34m\"Using ASCII encoding:\"\u001b[0m\u001b[0;34m,\u001b[0m \u001b[0;34m\"más\"\u001b[0m\u001b[0;34m.\u001b[0m\u001b[0mencode\u001b[0m\u001b[0;34m(\u001b[0m\u001b[0mencoding\u001b[0m\u001b[0;34m=\u001b[0m\u001b[0;34m\"ascii\"\u001b[0m\u001b[0;34m)\u001b[0m\u001b[0;34m)\u001b[0m\u001b[0;34m\u001b[0m\u001b[0;34m\u001b[0m\u001b[0m\n\u001b[0m",
      "\u001b[0;31mUnicodeEncodeError\u001b[0m: 'ascii' codec can't encode character '\\xe1' in position 1: ordinal not in range(128)"
     ]
    }
   ],
   "source": [
    "# Using Python's encode/decode:\n",
    "print(\"Using latin1 encoding:\", \"más\".encode(encoding=\"latin1\"))\n",
    "print(\"Using ASCII encoding:\", \"más\".encode(encoding=\"ascii\"))"
   ]
  },
  {
   "cell_type": "markdown",
   "metadata": {},
   "source": [
    "### Turning Bytes into Strings"
   ]
  },
  {
   "cell_type": "code",
   "execution_count": null,
   "metadata": {},
   "outputs": [],
   "source": [
    "file = open(\"test.txt\", mode=\"rb\")\n",
    "bytes_from_file = file.read()\n",
    "print(type(bytes_from_file))\n",
    "string_from_file = bytes_from_file.decode()\n",
    "print(type(string_from_file))"
   ]
  },
  {
   "cell_type": "markdown",
   "metadata": {},
   "source": [
    "#### Exercises\n",
    "\n",
    "1. Encode the word `más` in ASCII.\n",
    "2. Encode the word `más` in `latin1`.\n",
    "3. Decode the binary stream `01100011 01100001 01110100`. Assume that it is using `latin1` encoding."
   ]
  },
  {
   "cell_type": "markdown",
   "metadata": {},
   "source": [
    "## Unicode\n",
    "\n",
    "128 characters is not enough to represent the characters in other Languages, like **Greek, Turkish, Cyrillic**, etc., or newer social media phenomenons like **emojis**. Unicode stores text as either 8, 16, or 32 bits (1, 2, or 4 bytes). This means there's significantly more characters that can be encoded (approximately 1 billion characters).\n",
    "\n",
    "As a point of reference, there's a total of **50,000** characters in the Chinese language (but only around **15-20,000** that are used commonly).\n",
    "\n",
    "If you don't specify the right encoding to read in text, you'll end up with something like this:\n",
    "<figure>\n",
    "  <img src=\"images/mojibake.png\" alt=\"my alt text\"/>\n",
    "    <figcaption><i>Malformed characters because of incorrect encoding.<b>(Wikipedia)</b></i></figcaption>\n",
    "</figure>\n",
    "\n",
    "### UTF-8\n",
    "\n",
    "The default encoding scheme of the internet today is `UTF-8`.\n",
    "\n",
    "<figure>\n",
    "  <img src=\"images/encoding_shares.svg\" alt=\"my alt text\"/>\n",
    "    <figcaption><i>Share of web pages with different encodings.<b>(Wikipedia)</b></i></figcaption>\n",
    "</figure>\n",
    "\n",
    "There is another encoding schema very similar to `UTF-8` called `UTF-16`. You'll typically find it being used on Windows systems and within Java applications.\n"
   ]
  },
  {
   "cell_type": "markdown",
   "metadata": {},
   "source": [
    "#### Getting the Codepoint of a Character"
   ]
  },
  {
   "cell_type": "code",
<<<<<<< HEAD
   "execution_count": 42,
   "metadata": {
    "ExecuteTime": {
     "end_time": "2021-10-22T04:28:25.029373Z",
     "start_time": "2021-10-22T04:28:25.012376Z"
    }
   },
=======
   "execution_count": 7,
   "metadata": {},
>>>>>>> 49893f1efd88573d5690756d970064fdaa6b5eec
   "outputs": [
    {
     "data": {
      "text/plain": [
<<<<<<< HEAD
       "49324"
      ]
     },
     "execution_count": 42,
=======
       "128525"
      ]
     },
     "execution_count": 7,
>>>>>>> 49893f1efd88573d5690756d970064fdaa6b5eec
     "metadata": {},
     "output_type": "execute_result"
    }
   ],
   "source": [
<<<<<<< HEAD
    "ord(\"사\")"
=======
    "ord(\"😍\")"
>>>>>>> 49893f1efd88573d5690756d970064fdaa6b5eec
   ]
  },
  {
   "cell_type": "markdown",
   "metadata": {},
   "source": [
    "#### Getting the Character from a Codepoint"
   ]
  },
  {
   "cell_type": "code",
   "execution_count": null,
   "metadata": {},
   "outputs": [],
   "source": [
    "chr(97) + chr(109)"
   ]
  },
  {
   "cell_type": "markdown",
   "metadata": {},
   "source": [
    "\n",
    "### Variable Length Encoding /Digitalization and Internationalization\n",
    "\n",
    "UTF-8 is the default encoding schema of the internet. Whenever you save files to disk, or read files in, your first choice should be to try using UTF-8. UTF-8 is an example of **variable-length encoding**. This means sometimes a character will take 8 bits to encode (represent), sometimes 16 bits, sometimes 24 bits, and sometimes 32 bits.\n",
    "\n",
    "UTF-8 uses **continuation bytes** for any character it needs to represent beyond 1 byte. These bytes always start with `10`.\n",
    "\n",
    "<figure>\n",
    "  <img src=\"images/continuation.png\" alt=\"my alt text\"/>\n",
    "    <figcaption><i>UTF-8 Continuation Bytes</i></figcaption>\n",
    "</figure>\n",
    "\n",
    "On the other hand, another encoding scheme is `UTF-32`- it always takes **32 bits**. \n",
    "\n",
    "#### Data Science Implications\n",
    "UTF-8 should be your default encoding of choice when working with Big Data. Because the # of bits it takes to encode a character changes, it can be more \"storage-efficient\" on disk, and more \"memory-efficient\" when representing this text in memory. \n",
    "\n",
    "Many machine-learning algorithms (like **batch and mini-batch gradient descent**) will perform updates using batches of samples  (if not the entire dataaset). If you choose the wrong encoding, you will not be able to fit as many samples into your batch for training as you'd like - this means your model may require significantly more training time and perform worse."
   ]
  },
  {
   "cell_type": "code",
   "execution_count": null,
   "metadata": {},
   "outputs": [],
   "source": [
    "000011111011000001101"
   ]
  },
  {
   "cell_type": "code",
   "execution_count": 9,
   "metadata": {},
   "outputs": [
    {
     "name": "stdout",
     "output_type": "stream",
     "text": [
      "😍 (U+1F60D, hex:f09f988d) - utf8: 11110000\t10011111\t10011000\t10001101\n"
     ]
    },
    {
     "data": {
      "text/plain": [
       "'11110000\\t10011111\\t10011000\\t10001101'"
      ]
     },
     "execution_count": 9,
     "metadata": {},
     "output_type": "execute_result"
    }
   ],
   "source": [
    "get_binary(\"😍\", encoding=\"utf8\")"
   ]
  },
  {
   "cell_type": "code",
   "execution_count": 2,
   "metadata": {
    "scrolled": true
   },
   "outputs": [
    {
     "name": "stdout",
     "output_type": "stream",
     "text": [
      "I (U+0049, hex:49) - utf8: 01001001\n",
      "  (U+0020, hex:20) - utf8: 00100000\n",
      "😍 (U+1F60D, hex:f09f988d) - utf8: 11110000\t10011111\t10011000\t10001101\n",
      "  (U+0020, hex:20) - utf8: 00100000\n",
      "D (U+0044, hex:44) - utf8: 01000100\n",
      "S (U+0053, hex:53) - utf8: 01010011\n",
      "O (U+004F, hex:4f) - utf8: 01001111\n",
      "  (U+0020, hex:20) - utf8: 00100000\n",
      "5 (U+0035, hex:35) - utf8: 00110101\n",
      "9 (U+0039, hex:39) - utf8: 00111001\n",
      "9 (U+0039, hex:39) - utf8: 00111001\n"
     ]
    },
    {
     "data": {
      "text/plain": [
       "'01001001 00100000 11110000\\t10011111\\t10011000\\t10001101 00100000 01000100 01010011 01001111 00100000 00110101 00111001 00111001'"
      ]
     },
     "execution_count": 2,
     "metadata": {},
     "output_type": "execute_result"
    }
   ],
   "source": [
    "#get_binary(\"I 😍 DSO 599\", encoding=\"ascii\")\n",
    "# get_binary(\"I 😍 DSO 599\", encoding=\"latin1\")\n",
    "get_binary(\"I 😍 DSO 599\", encoding=\"utf8\")"
   ]
  },
  {
   "cell_type": "code",
   "execution_count": 8,
   "metadata": {},
   "outputs": [
    {
     "data": {
      "text/plain": [
       "128525"
      ]
     },
     "execution_count": 8,
     "metadata": {},
     "output_type": "execute_result"
    }
   ],
   "source": [
    "ord(\"😍\")"
   ]
  },
  {
   "cell_type": "code",
   "execution_count": 3,
   "metadata": {},
   "outputs": [
    {
     "name": "stdout",
     "output_type": "stream",
     "text": [
      "😍 (U+1F60D, hex:f09f988d) - utf8: 11110000\t10011111\t10011000\t10001101\n"
     ]
    },
    {
     "data": {
      "text/plain": [
       "'11110000\\t10011111\\t10011000\\t10001101'"
      ]
     },
     "execution_count": 3,
     "metadata": {},
     "output_type": "execute_result"
    }
   ],
   "source": []
  },
  {
   "cell_type": "markdown",
   "metadata": {},
   "source": [
    "# Homework 1 (Due Thursday, October 28th, 2021 at 6:29pm PST)\n",
    "\n",
    "\n",
    "**Rubric**\n",
    "\n",
    "\n",
    "Every day late is -10%.\n",
    "\n",
    "You are a business analyst working for a major US toy retailer:\n",
    "\n",
    "A **Product Marketing Manager** in the marketing department wants to find out the most frequently used words in positive reviews (five stars) and negative reviews (one star) in order to determine what occasion the toys are purchased for (Christmas, birthdays, and anniversaries.). She would like your opinion on **which age groups**(what ages) recipients of toys seem to have the highest reviews.\n",
    "\n",
    "* There are **malformed characters in the review** text. For instance, notice the `&#34;` - these are examples of incorrectly decoded [HTML encodings](https://krypted.com/utilities/html-encoding-reference/).\n",
    "```\n",
    "\"amazing quality first of all, these cards are amazing proxies (but don't try to use em in &#34;official duels&#34; unless a judge is okay with it, if you have the real thing to show) and look amazing in your binder!\"\n",
    "```\n",
    "Please clean up all instances of these incorrect decodings. \n",
    "\n",
    "Perform the same word count analysis using the reviews received from Amazon to answer your marketing manager's question. They are stored in two files, (`poor_amazon_toy_reviews.txt`) and (`good-amazon-toy-reviews.txt`). **Provide a few sentences with your findings and business recommendations.** Make any assumptions you'd like to- this is a fictitious company after all. I just want you to get into the habit of \"finishing\" your analysis: to avoid delivering technical numbers to a non-technical manager.\n",
    "\n",
    "Some considerations in your analysis:\n",
    "\n",
    "* Use **regular expressions to parse out all references to recipients and gift occassions**, and account for the possibility that people may spell words \"son\" / \"children\" / \"4 year old\" as both singular and plural, upper or lower-cased.\n",
    "\n",
    "* Explain what some of **pitfalls/limitations** are of using only a word count analysis to make these inferences. What additional research/steps would you need to do to verify your conclusions?\n",
    "\n",
    "**Submit everything as a new notebook and Slack direct message to me (Yu Chen) and the TA the HW as an attachment.**\n",
    "\n",
    "**NOTE**: Name the notebook `lastname_firstname_HW1.ipynb`."
   ]
  },
  {
   "cell_type": "markdown",
   "metadata": {},
   "source": [
    "## Next Week\n",
    "\n",
    "* `scikit-learn`, `nltk`, and `scipy` libraries for NLP (make sure to install each of these libraries\n",
    "* Bayes Rule, Naive Bayes, probability theory for text classification\n",
    "* Similiarity/distance measures\n",
    "* N-Grams\n",
    "* Tokenization, lemmatization, stemming\n",
    "* Basic word vectorization techniques: Count, TF-IDF, One-Hot encoding\n",
    "* Dimensionality Reduction"
   ]
  },
  {
   "cell_type": "markdown",
   "metadata": {},
   "source": [
    "### Check for Understanding\n",
    "\n",
    "1. Which of the encodings below will be able to encode this text: `사업`\n",
    "2. **True or False**: the word `dog` will have the same binary representation regardless of whether it is `ASCII`, `latin1`, or `utf8`. Explain - why.\n",
    "3. According to the Zipf Law approximation, approximately what frequency (express it has a percent) would the 3rd most popular word in a generic piece of text appear?\n",
    "4. **True or False**: what is considered a stopword changes depending on the business context and dataset you are working with. If true, provide an example. If false, explain why it is false.\n",
    "5. Explain to someone who does not understanding regular expressions what the following pattern is matching for: `b[a-z]+ly`."
   ]
  },
  {
   "cell_type": "code",
   "execution_count": null,
   "metadata": {},
   "outputs": [],
   "source": []
  }
 ],
 "metadata": {
  "kernelspec": {
   "display_name": "Python 3",
   "language": "python",
   "name": "python3"
  },
  "language_info": {
   "codemirror_mode": {
    "name": "ipython",
    "version": 3
   },
   "file_extension": ".py",
   "mimetype": "text/x-python",
   "name": "python",
   "nbconvert_exporter": "python",
   "pygments_lexer": "ipython3",
   "version": "3.8.8"
  },
  "toc": {
   "base_numbering": 1,
   "nav_menu": {},
   "number_sections": true,
   "sideBar": true,
   "skip_h1_title": false,
   "title_cell": "Table of Contents",
   "title_sidebar": "Contents",
   "toc_cell": true,
   "toc_position": {
    "height": "calc(100% - 180px)",
    "left": "10px",
    "top": "150px",
    "width": "256px"
   },
   "toc_section_display": true,
   "toc_window_display": true
  },
  "varInspector": {
   "cols": {
    "lenName": 16,
    "lenType": 16,
    "lenVar": 40
   },
   "kernels_config": {
    "python": {
     "delete_cmd_postfix": "",
     "delete_cmd_prefix": "del ",
     "library": "var_list.py",
     "varRefreshCmd": "print(var_dic_list())"
    },
    "r": {
     "delete_cmd_postfix": ") ",
     "delete_cmd_prefix": "rm(",
     "library": "var_list.r",
     "varRefreshCmd": "cat(var_dic_list()) "
    }
   },
   "types_to_exclude": [
    "module",
    "function",
    "builtin_function_or_method",
    "instance",
    "_Feature"
   ],
   "window_display": false
  }
 },
 "nbformat": 4,
 "nbformat_minor": 2
}
