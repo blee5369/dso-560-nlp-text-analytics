{
 "cells": [
  {
   "cell_type": "markdown",
   "id": "hidden-league",
   "metadata": {},
   "source": [
    "## Lets Load and Inspect the data"
   ]
  },
  {
   "cell_type": "code",
   "execution_count": 1,
   "id": "universal-saudi",
   "metadata": {
    "ExecuteTime": {
     "end_time": "2021-10-28T10:16:44.815521Z",
     "start_time": "2021-10-28T10:16:43.632268Z"
    }
   },
   "outputs": [
    {
     "name": "stdout",
     "output_type": "stream",
     "text": [
      "['Excellent!!!\\n', '\"Great quality wooden track (better than some others we have tried). Perfect match to the various vintages of Thomas track that we already have. There is enough track here to have fun and get creative incorporating your key pieces with track splits, loops and bends.\"\\n', 'my daughter loved it and i liked the price and it came to me rather than shopping with a ton of people around me. Amazon is the Best way to shop!\\n', 'Great item. Pictures pop thru and add detail as &#34;painted.&#34;  Pictures dry and it can be repainted.\\n', 'I was pleased with the product.\\n']\n",
      "\n",
      "[\"Do not buy these! They break very fast I spun then for 15 minutes and the end flew off don't waste your money. They are made from cheap plastic and have cracks in them. Buy the poi balls they work a lot better if you only have limited funds.\\n\", \"Showed up not how it's shown . Was someone's old toy. with paint on it.\\n\", 'You need expansion packs 3-5 if you want access to the player aids for the Factions expansion. The base game of Alien Frontiers just plays so much smoother than adding Factions with the expansion packs. All this will do is pigeonhole you into a certain path to victory.\\n', '\"This was to be a gift for my husband for our new pool. Did not receive the color I ordered but most of all after only one month of use (not continuously) the mesh pulled away from the material and the inflatable side. Completely shredded and no longer of use. It was stored properly and was not kept outside or in the pool. Poorly made, better off going to W**-M*** and getting something on clearance.\"\\n', \"Received a pineapple rather than the advertised s'more\\n\"]\n"
     ]
    }
   ],
   "source": [
    "import re\n",
    "from collections import Counter\n",
    "import pandas asB pd\n",
    "import seaborn as sns\n",
    "\n",
    "bads = open('poor_amazon_toy_reviews.txt', 'r', encoding=\"utf8\").readlines()\n",
    "goods = open('good_amazon_toy_reviews.txt', 'r', encoding=\"utf8\").readlines()\n",
    "\n",
    "print(goods[:5], bads[:5], sep ='\\n\\n')"
   ]
  },
  {
   "cell_type": "markdown",
   "id": "south-kitchen",
   "metadata": {},
   "source": [
    "## Cleaning Malformed Characters"
   ]
  },
  {
   "cell_type": "markdown",
   "id": "ecological-invitation",
   "metadata": {},
   "source": [
    "### Find all Unique non Alpha-numeric or whitespace characters"
   ]
  },
  {
   "cell_type": "code",
   "execution_count": 2,
   "id": "comparative-chrome",
   "metadata": {
    "ExecuteTime": {
     "end_time": "2021-10-28T10:16:44.823496Z",
     "start_time": "2021-10-28T10:16:44.817500Z"
    }
   },
   "outputs": [],
   "source": [
    "def find_unique_characters(regex, lines):\n",
    "    \"\"\"\n",
    "    Finds unique characters from a list of strings, almost certainly inefficiently \n",
    "    \n",
    "    \"\"\"\n",
    "    #Match anything that is non alpha-numeric or whitespace, creates list of lists of matching characters\n",
    "    potential_malforms = [re.findall(regex, review) for review in lines]\n",
    "\n",
    "    #lets whittle down this list of lists to a unqiue list, btw this took me way longer than it needed to\n",
    "    unique_malforms = set([char for review in potential_malforms for char in review])\n",
    "    \n",
    "    print(F\"Number of unique potential Malformed Characters: {len(unique_malforms)}, \\n\\nCandidates: {unique_malforms}\")\n",
    "    return unique_malforms"
   ]
  },
  {
   "cell_type": "markdown",
   "id": "intended-whale",
   "metadata": {},
   "source": [
    "#### Regex I wrote "
   ]
  },
  {
   "cell_type": "code",
   "execution_count": 3,
   "id": "failing-macro",
   "metadata": {
    "ExecuteTime": {
     "end_time": "2021-10-28T10:16:45.230564Z",
     "start_time": "2021-10-28T10:16:44.825011Z"
    },
    "scrolled": true
   },
   "outputs": [
    {
     "name": "stdout",
     "output_type": "stream",
     "text": [
      "Number of unique potential Malformed Characters: 335, \n",
      "\n",
      "Candidates: {'年', '😙', 'サ', '😊', '在', '还', 'ㅑ', 'ラ', '😪', '⚾', '$', '马', '🐘', 'レ', '●', '✌', '的', '运', '回', '，', '►', '💝', '😳', '🐗', '▽', '为', 'メ', '∇', '收', 'シ', '喜', '&', '😱', '}', '“', '本', '^', '方', 'カ', '{', '谢', '😯', '感', '🙌', '☺', '😥', '细', '😶', '͜', '😨', '\\u3000', '%', '¯', 'ฅ', '.', ']', '🎪', '😭', '«', '👻', '😕', '就', '—', '。', 'ヽ', '生', '-', '•', '‹', '👧', '买', '👀', '👨', '🏻', '🏼', '›', '💯', '💁', 'ď', '☹', \"'\", '然', '\\u200d', 'Í', '@', '💗', '😰', '≧', 'х', '️', 'É', '♡', '>', 'ン', '๑', '😏', '😜', '原', '是', '我', '!', '/', '⌒', '£', '😗', '–', '中', '设', '(', '当', '\\x1b', '🐻', '👍', 'ʖ', '✴', '国', 'ω', '👩', '™', '😮', '👎', '\"', '´', '💜', '☆', '💔', 'キ', '니', '💕', '逊', '・', '💛', '😡', '¼', '😟', '😠', '🌴', '⁃', 'ム', '😾', '亚', '’', '💙', '🐞', '💖', '»', '从', '😲', '👌', '按', '👽', '🍂', '¦', '🏽', 'ー', 'é', '🍴', '░', '😞', '🍔', '☀', '🏃', 'Ñ', '`', '😉', '🎃', 'ヾ', '和', '*', '🙂', '😫', '￣', '<', '¿', 'í', '😃', '♪', '\\\\', '😘', '🐧', '厂', '🙅', 'ó', 'Е', '😷', '…', '°', '😍', '美', 'À', '产', '~', '一', '📱', '◄', '💘', '😂', '”', '🐬', '😄', '😻', 'タ', '😈', '⁄', '准', ',', '英', '͡', '子', '[', '～', '！', '常', '☝', '≦', '🎶', '😅', '¾', '孩', '❗', '¡', '工', '‘', '∩', '🚮', '💓', 'İ', ';', '🔫', '😢', 'ｖ', '🎉', '🐍', '✨', '魔', '🏾', '？', '💞', '\\x1a', '″', '?', '（', '¨', '😬', ')', '😛', '来', '=', '+', 'セ', '🐩', '사', '⭐', '😔', '给', '💪', '∀', '）', '标', '😎', '😁', '\\u200b', '😋', 'ö', '😴', '🏿', 'è', '到', '#', 'ú', '\\n', '😆', '💀', '🐌', '了', '😝', '🍟', '🐷', '😚', '日', '😐', '🐇', '다', '✋', '仔', '감', '＿', '½', '🐣', '💚', '®', '👏', '🍦', '🐜', '🐝', '🐶', '✔', '😤', '😖', '×', '🚗', '看', '≡', 'à', 'ド', '🐮', '个', '🌵', '|', '😀', '非', '＾', '😇', 'ツ', '里', 'ʻ', '♥', '因', '합', '_', ':', '❤', 'ñ', '🙏', 'ã', 'ﾉ', '😩', '月', 'ç', '💥', '语', '\\xa0', '★', '😒', '欢'}\n",
      "Wall time: 395 ms\n"
     ]
    }
   ],
   "source": [
    "#Lets start by attempting to identify any malformed characters, as well as anything not useful for a word count analysis \n",
    "#using some (probably bad) regex i wrote\n",
    "\n",
    "%time unique_malforms = find_unique_characters(r\"[^A-Za-z0-9 ]\", goods+bads)"
   ]
  },
  {
   "cell_type": "markdown",
   "id": "biological-assignment",
   "metadata": {},
   "source": [
    "#### Regex I stole"
   ]
  },
  {
   "cell_type": "code",
   "execution_count": 4,
   "id": "cellular-adolescent",
   "metadata": {
    "ExecuteTime": {
     "end_time": "2021-10-28T10:16:46.295059Z",
     "start_time": "2021-10-28T10:16:45.231529Z"
    }
   },
   "outputs": [
    {
     "name": "stdout",
     "output_type": "stream",
     "text": [
      "Number of unique potential Malformed Characters: 228, \n",
      "\n",
      "Candidates: {'☹', '♪', '😙', '⭐', \"'\", '😔', '😊', '\\u200d', '\\\\', '💪', '😘', '∀', '🐧', '🙅', '@', '💗', '）', '😎', '😁', '\\u200b', '😋', '😰', '≧', '😷', '…', '😪', '️', '°', '⚾', '😴', '😍', '$', '♡', '>', '🏿', '🐘', '😏', '😜', '~', '●', '✌', '#', '📱', '◄', '\\n', '😆', '💀', '🐌', '!', '/', '，', '►', '💝', '😳', '😂', '😝', '💘', '”', '🍟', '⌒', '£', '🐷', '😗', '–', '😚', '🐗', '🐬', '(', '😄', '\\x1b', '😻', '▽', '🐻', '👍', '😈', '∇', '😐', '🐇', '✋', '⁄', '✴', ',', '👩', '͡', '＿', '™', '&', '😮', '🐣', '💚', '[', '®', '～', '👏', '🍦', '😱', '！', '}', '🐝', '🐜', '“', '👎', '🐶', '☝', '^', '✔', '😤', '😖', '\"', '×', '🚗', '´', '💜', '☆', '≦', '≡', '💔', '💕', '・', '{', '💛', '😡', '🎶', '🐮', '😯', '😟', '😅', '🙌', '😠', '🌴', '⁃', '🌵', '😾', '|', '😀', '☺', '😥', '＾', '’', '💙', '͜', '😇', '🐞', '\\u3000', '❗', '💖', '😨', '»', '😶', '¡', '%', '👌', '♥', '¯', '😲', '‘', '∩', '🚮', '💓', '👽', ';', '🔫', '😢', '🍂', '¦', '🎉', ':', '❤', '.', '🙏', ']', '🏽', '🎪', '✨', '🐍', '🏾', '«', '👻', '😭', '🍴', ' ', '😕', '🐩', '？', '💞', '░', '—', '😞', '🍔', '\\x1a', '。', '☀', '-', '•', '″', '😩', '?', '‹', '💥', '👧', '（', '🏃', '`', '😉', '👀', '🎃', '👨', '¨', '*', '🏻', '🏼', '😬', '\\xa0', ')', '😛', '🙂', '=', '😫', '›', '+', '★', '<', '¿', '💯', '😒', '￣', '💁', '😃'}\n",
      "Wall time: 1.06 s\n"
     ]
    }
   ],
   "source": [
    "# After writing my own, was curious what stack overflow had to say about it, mostly functionally equivalent\n",
    "# my regex caught more unique characters and I like my results better, so I will use mine, also mine is faster :) \n",
    "# stolen from: stackoverflow.com/questions/3885964/regex-to-replace-invalid-characters\n",
    "\n",
    "%time stolen_unique_malforms = find_unique_characters(r\"[\\W ]\", goods+bads)"
   ]
  },
  {
   "cell_type": "code",
   "execution_count": 5,
   "id": "metric-model",
   "metadata": {
    "ExecuteTime": {
     "end_time": "2021-10-28T10:16:46.303022Z",
     "start_time": "2021-10-28T10:16:46.296023Z"
    }
   },
   "outputs": [
    {
     "name": "stdout",
     "output_type": "stream",
     "text": [
      "[' ']\n"
     ]
    }
   ],
   "source": [
    "#lets check whats in stolen characters thats not in mine, good mine is a superset except for whitespace, which i wan\n",
    "combined_malforms = []\n",
    "for character in stolen_unique_malforms:\n",
    "            if character not in unique_malforms: \n",
    "                combined_malforms.append(character)\n",
    "print(combined_malforms)"
   ]
  },
  {
   "cell_type": "markdown",
   "id": "accepting-nerve",
   "metadata": {},
   "source": [
    "### Lets read a couple of reviews that are potential candidates\n",
    "\n",
    "We can see that most of these matches are just normal use of punctuation, however we can remove all of these since it is irrelevant to our word count analysis anyways, and will remove HTML encoding errors (&#34), as well as emojis, non-english characters(本, è) and other bad characters (🏼, ░).\n",
    "\n",
    "ASSUMPTION: We are assuming the marketing manager only cares about enlgish reviews because they only manage english speaking regions"
   ]
  },
  {
   "cell_type": "code",
   "execution_count": 6,
   "id": "needed-terry",
   "metadata": {
    "ExecuteTime": {
     "end_time": "2021-10-28T10:16:46.316092Z",
     "start_time": "2021-10-28T10:16:46.304023Z"
    }
   },
   "outputs": [
    {
     "name": "stdout",
     "output_type": "stream",
     "text": [
      "Excellent!!!\n",
      "\n",
      "\"Great quality wooden track (better than some others we have tried). Perfect match to the various vintages of Thomas track that we already have. There is enough track here to have fun and get creative incorporating your key pieces with track splits, loops and bends.\"\n",
      "\n",
      "my daughter loved it and i liked the price and it came to me rather than shopping with a ton of people around me. Amazon is the Best way to shop!\n",
      "\n",
      "Great item. Pictures pop thru and add detail as &#34;painted.&#34;  Pictures dry and it can be repainted.\n",
      "\n",
      "I was pleased with the product.\n",
      "\n"
     ]
    }
   ],
   "source": [
    "#first 5 good reviews\n",
    "for review in goods[:5]: \n",
    "    if set([char in review for char in unique_malforms]):\n",
    "        print(review)"
   ]
  },
  {
   "cell_type": "code",
   "execution_count": 7,
   "id": "atmospheric-property",
   "metadata": {
    "ExecuteTime": {
     "end_time": "2021-10-28T10:16:46.324074Z",
     "start_time": "2021-10-28T10:16:46.318073Z"
    }
   },
   "outputs": [
    {
     "name": "stdout",
     "output_type": "stream",
     "text": [
      "Do not buy these! They break very fast I spun then for 15 minutes and the end flew off don't waste your money. They are made from cheap plastic and have cracks in them. Buy the poi balls they work a lot better if you only have limited funds.\n",
      "\n",
      "Showed up not how it's shown . Was someone's old toy. with paint on it.\n",
      "\n",
      "You need expansion packs 3-5 if you want access to the player aids for the Factions expansion. The base game of Alien Frontiers just plays so much smoother than adding Factions with the expansion packs. All this will do is pigeonhole you into a certain path to victory.\n",
      "\n",
      "\"This was to be a gift for my husband for our new pool. Did not receive the color I ordered but most of all after only one month of use (not continuously) the mesh pulled away from the material and the inflatable side. Completely shredded and no longer of use. It was stored properly and was not kept outside or in the pool. Poorly made, better off going to W**-M*** and getting something on clearance.\"\n",
      "\n",
      "Received a pineapple rather than the advertised s'more\n",
      "\n"
     ]
    }
   ],
   "source": [
    "#first 5 bad reviews\n",
    "for review in bads[:5]: \n",
    "    if set([char in review for char in unique_malforms]):\n",
    "        print(review)"
   ]
  },
  {
   "cell_type": "markdown",
   "id": "local-treatment",
   "metadata": {},
   "source": [
    "### Removing all malformed characters"
   ]
  },
  {
   "cell_type": "code",
   "execution_count": 8,
   "id": "raised-search",
   "metadata": {
    "ExecuteTime": {
     "end_time": "2021-10-28T10:16:46.715073Z",
     "start_time": "2021-10-28T10:16:46.326073Z"
    }
   },
   "outputs": [
    {
     "name": "stdout",
     "output_type": "stream",
     "text": [
      "List comp works?: True\n"
     ]
    }
   ],
   "source": [
    "#SANITY CHECK: make sure the list comprehension works like i think it does\n",
    "trad_loop_bad = []\n",
    "for review in bads: \n",
    "    trad_loop_bad.append(re.sub(r\"[^A-Za-z0-9 ]\",'',review))\n",
    "    \n",
    "#well keep these\n",
    "bad_cleaned_reviews = [re.sub(r\"[^A-Za-z0-9 ]\",'',review) for review in bads]\n",
    "good_cleaned_reviews = [re.sub(r\"[^A-Za-z0-9 ]\",'',review) for review in goods]\n",
    "\n",
    "print(F\"List comp works?: {trad_loop_bad == bad_cleaned_reviews}\")\n",
    "#get rid of extra garbage\n",
    "del trad_loop_bad"
   ]
  },
  {
   "cell_type": "markdown",
   "id": "velvet-collective",
   "metadata": {},
   "source": [
    "## Analysis"
   ]
  },
  {
   "cell_type": "markdown",
   "id": "disciplinary-xerox",
   "metadata": {
    "ExecuteTime": {
     "end_time": "2021-10-28T07:46:39.109685Z",
     "start_time": "2021-10-28T07:46:39.105685Z"
    }
   },
   "source": [
    "### Occasion Analysis"
   ]
  },
  {
   "cell_type": "code",
   "execution_count": 9,
   "id": "loaded-sunrise",
   "metadata": {
    "ExecuteTime": {
     "end_time": "2021-10-28T10:16:46.726071Z",
     "start_time": "2021-10-28T10:16:46.717073Z"
    }
   },
   "outputs": [],
   "source": [
    "#make sure to pass ignorecase flag \n",
    "def get_words(reviews, reg):\n",
    "#    good_words = []\n",
    "    occasions = [] \n",
    "    for review in reviews:\n",
    "        occasions.extend(re.findall(reg, review, flags=re.IGNORECASE))\n",
    "#        for word in re.findall(r\"(\\b[^\\s]+\\b)\", review): \n",
    "#            good_words.append(word)\n",
    "\n",
    "    occasions = [occ.lower() for occ in occasions]\n",
    "    return occasions"
   ]
  },
  {
   "cell_type": "code",
   "execution_count": 10,
   "id": "processed-effort",
   "metadata": {
    "ExecuteTime": {
     "end_time": "2021-10-28T10:16:48.523313Z",
     "start_time": "2021-10-28T10:16:46.728163Z"
    }
   },
   "outputs": [
    {
     "data": {
      "text/html": [
       "<div>\n",
       "<style scoped>\n",
       "    .dataframe tbody tr th:only-of-type {\n",
       "        vertical-align: middle;\n",
       "    }\n",
       "\n",
       "    .dataframe tbody tr th {\n",
       "        vertical-align: top;\n",
       "    }\n",
       "\n",
       "    .dataframe thead th {\n",
       "        text-align: right;\n",
       "    }\n",
       "</style>\n",
       "<table border=\"1\" class=\"dataframe\">\n",
       "  <thead>\n",
       "    <tr style=\"text-align: right;\">\n",
       "      <th></th>\n",
       "      <th>Good_Mentions</th>\n",
       "    </tr>\n",
       "  </thead>\n",
       "  <tbody>\n",
       "    <tr>\n",
       "      <th>birthday</th>\n",
       "      <td>3932</td>\n",
       "    </tr>\n",
       "    <tr>\n",
       "      <th>halloween</th>\n",
       "      <td>413</td>\n",
       "    </tr>\n",
       "    <tr>\n",
       "      <th>christmas</th>\n",
       "      <td>1201</td>\n",
       "    </tr>\n",
       "    <tr>\n",
       "      <th>xmas</th>\n",
       "      <td>98</td>\n",
       "    </tr>\n",
       "    <tr>\n",
       "      <th>birthdays</th>\n",
       "      <td>59</td>\n",
       "    </tr>\n",
       "    <tr>\n",
       "      <th>easter</th>\n",
       "      <td>96</td>\n",
       "    </tr>\n",
       "    <tr>\n",
       "      <th>valentine</th>\n",
       "      <td>23</td>\n",
       "    </tr>\n",
       "    <tr>\n",
       "      <th>anniversary</th>\n",
       "      <td>52</td>\n",
       "    </tr>\n",
       "    <tr>\n",
       "      <th>hanukkah</th>\n",
       "      <td>2</td>\n",
       "    </tr>\n",
       "    <tr>\n",
       "      <th>thanksgiving</th>\n",
       "      <td>11</td>\n",
       "    </tr>\n",
       "  </tbody>\n",
       "</table>\n",
       "</div>"
      ],
      "text/plain": [
       "              Good_Mentions\n",
       "birthday               3932\n",
       "halloween               413\n",
       "christmas              1201\n",
       "xmas                     98\n",
       "birthdays                59\n",
       "easter                   96\n",
       "valentine                23\n",
       "anniversary              52\n",
       "hanukkah                  2\n",
       "thanksgiving             11"
      ]
     },
     "execution_count": 10,
     "metadata": {},
     "output_type": "execute_result"
    }
   ],
   "source": [
    "#I got tired of nested list comprehensions, lets find number of occurences of words,\n",
    "#less stop words I noticed that came up frequently, leaving all words in a list in case we want them later\n",
    "occasions = get_words(good_cleaned_reviews,  r\"(Thanksgiving|Christmas|xmas|hanukkah|anniversary|anniversaries\\\n",
    "    |birthdays?|kwanzaa|halloween|easter|valentine|Ramadan)\")\n",
    "\n",
    "occasions_df = pd.DataFrame(data= dict(Counter(occasions)).values(),\\\n",
    "                            index = dict(Counter(occasions)).keys(), columns = ['Good_Mentions'])\n",
    "occasions_df"
   ]
  },
  {
   "cell_type": "code",
   "execution_count": 11,
   "id": "formed-singles",
   "metadata": {
    "ExecuteTime": {
     "end_time": "2021-10-28T10:16:48.807285Z",
     "start_time": "2021-10-28T10:16:48.524312Z"
    }
   },
   "outputs": [
    {
     "data": {
      "text/html": [
       "<div>\n",
       "<style scoped>\n",
       "    .dataframe tbody tr th:only-of-type {\n",
       "        vertical-align: middle;\n",
       "    }\n",
       "\n",
       "    .dataframe tbody tr th {\n",
       "        vertical-align: top;\n",
       "    }\n",
       "\n",
       "    .dataframe thead th {\n",
       "        text-align: right;\n",
       "    }\n",
       "</style>\n",
       "<table border=\"1\" class=\"dataframe\">\n",
       "  <thead>\n",
       "    <tr style=\"text-align: right;\">\n",
       "      <th></th>\n",
       "      <th>Good_Mentions</th>\n",
       "      <th>Bad_Mentions</th>\n",
       "    </tr>\n",
       "  </thead>\n",
       "  <tbody>\n",
       "    <tr>\n",
       "      <th>birthday</th>\n",
       "      <td>3932</td>\n",
       "      <td>444.0</td>\n",
       "    </tr>\n",
       "    <tr>\n",
       "      <th>halloween</th>\n",
       "      <td>413</td>\n",
       "      <td>21.0</td>\n",
       "    </tr>\n",
       "    <tr>\n",
       "      <th>christmas</th>\n",
       "      <td>1201</td>\n",
       "      <td>74.0</td>\n",
       "    </tr>\n",
       "    <tr>\n",
       "      <th>xmas</th>\n",
       "      <td>98</td>\n",
       "      <td>2.0</td>\n",
       "    </tr>\n",
       "    <tr>\n",
       "      <th>birthdays</th>\n",
       "      <td>59</td>\n",
       "      <td>1.0</td>\n",
       "    </tr>\n",
       "    <tr>\n",
       "      <th>easter</th>\n",
       "      <td>96</td>\n",
       "      <td>4.0</td>\n",
       "    </tr>\n",
       "    <tr>\n",
       "      <th>valentine</th>\n",
       "      <td>23</td>\n",
       "      <td>NaN</td>\n",
       "    </tr>\n",
       "    <tr>\n",
       "      <th>anniversary</th>\n",
       "      <td>52</td>\n",
       "      <td>3.0</td>\n",
       "    </tr>\n",
       "    <tr>\n",
       "      <th>hanukkah</th>\n",
       "      <td>2</td>\n",
       "      <td>NaN</td>\n",
       "    </tr>\n",
       "    <tr>\n",
       "      <th>thanksgiving</th>\n",
       "      <td>11</td>\n",
       "      <td>NaN</td>\n",
       "    </tr>\n",
       "  </tbody>\n",
       "</table>\n",
       "</div>"
      ],
      "text/plain": [
       "              Good_Mentions  Bad_Mentions\n",
       "birthday               3932         444.0\n",
       "halloween               413          21.0\n",
       "christmas              1201          74.0\n",
       "xmas                     98           2.0\n",
       "birthdays                59           1.0\n",
       "easter                   96           4.0\n",
       "valentine                23           NaN\n",
       "anniversary              52           3.0\n",
       "hanukkah                  2           NaN\n",
       "thanksgiving             11           NaN"
      ]
     },
     "execution_count": 11,
     "metadata": {},
     "output_type": "execute_result"
    }
   ],
   "source": [
    "#I got tired of nested list comprehensions, lets find number of occurences of words,\n",
    "#less stop words I noticed that came up frequently, leaving all words in a list in case we want them later\n",
    "\n",
    "occasions_bad = get_words(bad_cleaned_reviews, reg =  r\"(Thanksgiving|Christmas|xmas|hanukkah|anniversary|anniversaries\\\n",
    "    |birthdays?|kwanzaa|halloween|easter|valentine|Ramadan)\")\n",
    "\n",
    "occasion_bad_df = pd.DataFrame(data= dict(Counter(occasions_bad)).values(),\\\n",
    "                               index = dict(Counter(occasions_bad)).keys(), columns = ['Bad_Mentions'])\n",
    "occasions_df = occasions_df.join(occasion_bad_df)\n",
    "\n",
    "occasions_df"
   ]
  },
  {
   "cell_type": "code",
   "execution_count": 12,
   "id": "spanish-collins",
   "metadata": {
    "ExecuteTime": {
     "end_time": "2021-10-28T10:16:48.818262Z",
     "start_time": "2021-10-28T10:16:48.808301Z"
    }
   },
   "outputs": [
    {
     "data": {
      "text/html": [
       "<div>\n",
       "<style scoped>\n",
       "    .dataframe tbody tr th:only-of-type {\n",
       "        vertical-align: middle;\n",
       "    }\n",
       "\n",
       "    .dataframe tbody tr th {\n",
       "        vertical-align: top;\n",
       "    }\n",
       "\n",
       "    .dataframe thead th {\n",
       "        text-align: right;\n",
       "    }\n",
       "</style>\n",
       "<table border=\"1\" class=\"dataframe\">\n",
       "  <thead>\n",
       "    <tr style=\"text-align: right;\">\n",
       "      <th></th>\n",
       "      <th>Good_Mentions</th>\n",
       "      <th>Bad_Mentions</th>\n",
       "      <th>Good_Mentions_pct</th>\n",
       "      <th>Bad_Mentions_pct</th>\n",
       "    </tr>\n",
       "  </thead>\n",
       "  <tbody>\n",
       "    <tr>\n",
       "      <th>birthday</th>\n",
       "      <td>3932</td>\n",
       "      <td>444.0</td>\n",
       "      <td>3.846718</td>\n",
       "      <td>3.496063</td>\n",
       "    </tr>\n",
       "    <tr>\n",
       "      <th>christmas</th>\n",
       "      <td>1201</td>\n",
       "      <td>74.0</td>\n",
       "      <td>1.174951</td>\n",
       "      <td>0.582677</td>\n",
       "    </tr>\n",
       "    <tr>\n",
       "      <th>halloween</th>\n",
       "      <td>413</td>\n",
       "      <td>21.0</td>\n",
       "      <td>0.404042</td>\n",
       "      <td>0.165354</td>\n",
       "    </tr>\n",
       "    <tr>\n",
       "      <th>easter</th>\n",
       "      <td>96</td>\n",
       "      <td>4.0</td>\n",
       "      <td>0.093918</td>\n",
       "      <td>0.031496</td>\n",
       "    </tr>\n",
       "    <tr>\n",
       "      <th>anniversary</th>\n",
       "      <td>52</td>\n",
       "      <td>3.0</td>\n",
       "      <td>0.050872</td>\n",
       "      <td>0.023622</td>\n",
       "    </tr>\n",
       "    <tr>\n",
       "      <th>xmas</th>\n",
       "      <td>98</td>\n",
       "      <td>2.0</td>\n",
       "      <td>0.095874</td>\n",
       "      <td>0.015748</td>\n",
       "    </tr>\n",
       "    <tr>\n",
       "      <th>birthdays</th>\n",
       "      <td>59</td>\n",
       "      <td>1.0</td>\n",
       "      <td>0.057720</td>\n",
       "      <td>0.007874</td>\n",
       "    </tr>\n",
       "    <tr>\n",
       "      <th>valentine</th>\n",
       "      <td>23</td>\n",
       "      <td>NaN</td>\n",
       "      <td>0.022501</td>\n",
       "      <td>NaN</td>\n",
       "    </tr>\n",
       "    <tr>\n",
       "      <th>hanukkah</th>\n",
       "      <td>2</td>\n",
       "      <td>NaN</td>\n",
       "      <td>0.001957</td>\n",
       "      <td>NaN</td>\n",
       "    </tr>\n",
       "    <tr>\n",
       "      <th>thanksgiving</th>\n",
       "      <td>11</td>\n",
       "      <td>NaN</td>\n",
       "      <td>0.010761</td>\n",
       "      <td>NaN</td>\n",
       "    </tr>\n",
       "  </tbody>\n",
       "</table>\n",
       "</div>"
      ],
      "text/plain": [
       "              Good_Mentions  Bad_Mentions  Good_Mentions_pct  Bad_Mentions_pct\n",
       "birthday               3932         444.0           3.846718          3.496063\n",
       "christmas              1201          74.0           1.174951          0.582677\n",
       "halloween               413          21.0           0.404042          0.165354\n",
       "easter                   96           4.0           0.093918          0.031496\n",
       "anniversary              52           3.0           0.050872          0.023622\n",
       "xmas                     98           2.0           0.095874          0.015748\n",
       "birthdays                59           1.0           0.057720          0.007874\n",
       "valentine                23           NaN           0.022501               NaN\n",
       "hanukkah                  2           NaN           0.001957               NaN\n",
       "thanksgiving             11           NaN           0.010761               NaN"
      ]
     },
     "execution_count": 12,
     "metadata": {},
     "output_type": "execute_result"
    }
   ],
   "source": [
    "#Normalize mentions by number of reviews\n",
    "occasions_df['Good_Mentions_pct']= (occasions_df.Good_Mentions / len(good_cleaned_reviews))*100\n",
    "occasions_df['Bad_Mentions_pct']= (occasions_df.Bad_Mentions / len(bad_cleaned_reviews))*100\n",
    "occasions_df.sort_values('Bad_Mentions_pct', inplace= True, ascending = False)\n",
    "occasions_df"
   ]
  },
  {
   "cell_type": "code",
   "execution_count": 13,
   "id": "colored-death",
   "metadata": {
    "ExecuteTime": {
     "end_time": "2021-10-28T10:16:48.954434Z",
     "start_time": "2021-10-28T10:16:48.819847Z"
    }
   },
   "outputs": [
    {
     "data": {
      "image/png": "[encoded data removed]",
      "text/plain": [
       "<Figure size 720x360 with 1 Axes>"
      ]
     },
     "metadata": {
      "needs_background": "light"
     },
     "output_type": "display_data"
    }
   ],
   "source": [
    "import matplotlib.pyplot as plt\n",
    "plot_df = occasions_df[['Good_Mentions_pct','Bad_Mentions_pct']]\n",
    "f = plt.figure()\n",
    "f.set_figwidth(10)\n",
    "f.set_figheight(5)\n",
    "f = plt.plot(plot_df)\n",
    "\n",
    "#orange is negative review %"
   ]
  },
  {
   "cell_type": "markdown",
   "id": "thermal-bernard",
   "metadata": {},
   "source": [
    "### Age Analysis "
   ]
  },
  {
   "cell_type": "code",
   "execution_count": 14,
   "id": "native-photograph",
   "metadata": {
    "ExecuteTime": {
     "end_time": "2021-10-28T10:16:48.960388Z",
     "start_time": "2021-10-28T10:16:48.955385Z"
    }
   },
   "outputs": [],
   "source": [
    "def process_age_df(ages):\n",
    "    ages_df = pd.DataFrame(data= dict(Counter(ages)).values(),\\\n",
    "                            index = dict(Counter(ages)).keys(), columns = ['age_mentions'])\n",
    "    ages_df.reset_index(inplace=True)\n",
    "    ages_df.rename(columns={'index':'match'},inplace=True)\n",
    "\n",
    "    ages_df[\"age_guess\"]= ages_df['match'].map({'kids':10, 'kid':10, 'children':10, 'boys':10,'boy':10, 'girls':10, 'girl':10,\\\n",
    "    'grandchildren':10, 'grandkids':10,'grandkid':10, 'baby':3,'babies':3}, na_action = 'ignore')\n",
    "    ages_df[\"age_guess_reg\"] = ages_df[\"match\"].str.extract(r\"([0-9]+)\")\n",
    "    ages_df = ages_df.fillna(0)\n",
    "\n",
    "    ages_df['final_age_guess'] = ages_df.age_guess.astype(float) + ages_df.age_guess_reg.astype(float)\n",
    "\n",
    "    #get rid of 99 + ages\n",
    "    ages_df = ages_df[ages_df['final_age_guess'] < 99]\n",
    "\n",
    "    ages_df.drop(columns= (['match','age_mentions','age_guess','age_guess_reg']),inplace=True)\n",
    "    \n",
    "    return(ages_df)"
   ]
  },
  {
   "cell_type": "code",
   "execution_count": 15,
   "id": "fantastic-tobago",
   "metadata": {
    "ExecuteTime": {
     "end_time": "2021-10-28T10:16:50.458936Z",
     "start_time": "2021-10-28T10:16:48.961386Z"
    }
   },
   "outputs": [],
   "source": [
    "ages = get_words(good_cleaned_reviews,  r\"([0-9]+ years? olds?|kids?|children|boys?|girls?|\\\n",
    "grandchildren|grandkids?|baby|babies|[0-9]+ years?)\")\n",
    "\n",
    "ages_df = process_age_df(ages)\n",
    "\n",
    "ages_df['review_sentiment'] = 1"
   ]
  },
  {
   "cell_type": "code",
   "execution_count": 16,
   "id": "educational-tracker",
   "metadata": {
    "ExecuteTime": {
     "end_time": "2021-10-28T10:16:50.703773Z",
     "start_time": "2021-10-28T10:16:50.459765Z"
    }
   },
   "outputs": [],
   "source": [
    "ages_bad = get_words(bad_cleaned_reviews,  r\"([0-9]+ years? olds?|kids?|children|boys?|girls?|\\\n",
    "grandchildren|grandkids?|baby|babies|[0-9]+ years?)\")\n",
    "\n",
    "ages_bad = process_age_df(ages_bad)\n",
    "\n",
    "ages_bad['review_sentiment'] = 0"
   ]
  },
  {
   "cell_type": "code",
   "execution_count": 17,
   "id": "loved-wings",
   "metadata": {
    "ExecuteTime": {
     "end_time": "2021-10-28T10:16:50.718285Z",
     "start_time": "2021-10-28T10:16:50.704772Z"
    }
   },
   "outputs": [
    {
     "data": {
      "text/html": [
       "<div>\n",
       "<style scoped>\n",
       "    .dataframe tbody tr th:only-of-type {\n",
       "        vertical-align: middle;\n",
       "    }\n",
       "\n",
       "    .dataframe tbody tr th {\n",
       "        vertical-align: top;\n",
       "    }\n",
       "\n",
       "    .dataframe thead th {\n",
       "        text-align: right;\n",
       "    }\n",
       "</style>\n",
       "<table border=\"1\" class=\"dataframe\">\n",
       "  <thead>\n",
       "    <tr style=\"text-align: right;\">\n",
       "      <th></th>\n",
       "      <th>review_sentiment</th>\n",
       "    </tr>\n",
       "    <tr>\n",
       "      <th>age_groups</th>\n",
       "      <th></th>\n",
       "    </tr>\n",
       "  </thead>\n",
       "  <tbody>\n",
       "    <tr>\n",
       "      <th>(0, 5]</th>\n",
       "      <td>0.555556</td>\n",
       "    </tr>\n",
       "    <tr>\n",
       "      <th>(5, 12]</th>\n",
       "      <td>0.558442</td>\n",
       "    </tr>\n",
       "    <tr>\n",
       "      <th>(12, 15]</th>\n",
       "      <td>0.700000</td>\n",
       "    </tr>\n",
       "    <tr>\n",
       "      <th>(15, 25]</th>\n",
       "      <td>0.810811</td>\n",
       "    </tr>\n",
       "    <tr>\n",
       "      <th>(25, 50]</th>\n",
       "      <td>0.838235</td>\n",
       "    </tr>\n",
       "    <tr>\n",
       "      <th>(50, 100]</th>\n",
       "      <td>0.967213</td>\n",
       "    </tr>\n",
       "  </tbody>\n",
       "</table>\n",
       "</div>"
      ],
      "text/plain": [
       "            review_sentiment\n",
       "age_groups                  \n",
       "(0, 5]              0.555556\n",
       "(5, 12]             0.558442\n",
       "(12, 15]            0.700000\n",
       "(15, 25]            0.810811\n",
       "(25, 50]            0.838235\n",
       "(50, 100]           0.967213"
      ]
     },
     "execution_count": 17,
     "metadata": {},
     "output_type": "execute_result"
    }
   ],
   "source": [
    "final_age_df = pd.concat([ages_bad,ages_df])\n",
    "groups = [0, 5, 12, 15, 25, 50, 100]\n",
    "final_age_df['age_groups'] = pd.cut(final_age_df['final_age_guess'], groups)\n",
    "final_age_df.groupby('age_groups').agg({'review_sentiment':'mean'})"
   ]
  },
  {
   "cell_type": "code",
   "execution_count": 18,
   "id": "proud-enzyme",
   "metadata": {
    "ExecuteTime": {
     "end_time": "2021-10-28T10:16:51.334837Z",
     "start_time": "2021-10-28T10:16:50.719285Z"
    }
   },
   "outputs": [
    {
     "data": {
      "text/plain": [
       "<matplotlib.axes._subplots.AxesSubplot at 0x250715bf400>"
      ]
     },
     "execution_count": 18,
     "metadata": {},
     "output_type": "execute_result"
    },
    {
     "data": {
      "image/png": "[encoded data removed]",
      "text/plain": [
       "<Figure size 432x288 with 1 Axes>"
      ]
     },
     "metadata": {
      "needs_background": "light"
     },
     "output_type": "display_data"
    }
   ],
   "source": [
    "final_age_df.groupby('age_groups').agg({'review_sentiment':'mean'}).plot()"
   ]
  },
  {
   "cell_type": "markdown",
   "id": "wired-atlas",
   "metadata": {},
   "source": [
    "## Results"
   ]
  },
  {
   "cell_type": "markdown",
   "id": "statistical-crown",
   "metadata": {},
   "source": [
    "### Occasions"
   ]
  },
  {
   "cell_type": "markdown",
   "id": "cooked-melbourne",
   "metadata": {},
   "source": [
    "- It is very clear from the results that Birthdays make up the lions share of positive mentions in the reviews at 3942, or 3.8% of all positive reviews\n",
    "- Typically negative occasions mention all holidays as a ratio of total reviews, we can infer that those who are buying the goods for occasion are more pleased with it, this may be because of the euphoric nature of the occasion\n",
    "\n",
    "These top three holidays make up almost 97% of occasion mentions.(Birthdays, Christmas, Halloween)*\n",
    "\n",
    "Reccomendations: \n",
    "- Include in eithier the product name or description the following words to improve search engine optimization: (Birthdays, Christmas, Halloween, holidays, occasions) This will attract more people who purchase it for an occaison who may be more likely to be satisfied. \n",
    "\n"
   ]
  },
  {
   "cell_type": "markdown",
   "id": "protected-design",
   "metadata": {},
   "source": [
    "### Age Groups"
   ]
  },
  {
   "cell_type": "markdown",
   "id": "monthly-reunion",
   "metadata": {},
   "source": [
    "Assumptions: \n",
    "- Each of the following categories got put into the respective age group: 'kid':10, 'children':10, 'boys':10 'girls':10 'grandchildren':10'baby':3\n",
    "- Th\n",
    "\n",
    "It is very clear that as age increases so does the average sentiment (measured by the percent of positive reviews in a given bucket)\n",
    "\n",
    "Reccomendations: \n",
    "- include older reccomended age to drive older customers\n",
    "- include keywords that seniors commonly search \n"
   ]
  },
  {
   "cell_type": "markdown",
   "id": "reverse-banana",
   "metadata": {},
   "source": [
    "### Limitations of word counts"
   ]
  },
  {
   "cell_type": "markdown",
   "id": "recovered-infrastructure",
   "metadata": {},
   "source": [
    "We are just scratching the surface of the reviews, we are almost certainly missing holidays (there are hundreds), and age groups, furthermore, we make large assumptions about the context of the words, which we know essentially nothing about. The surrounding words could completely change the inferred meaning of the words we are looking for. Ages are particularly hard to guess at using wordcounts, as you saw, we had to make large assumptions. \n",
    "\n",
    "Because of this we make large assumptions when we use wordcounts, both about the comprehensiveness and depth of the analysis.\n",
    "\n",
    "Next steps would include much more thorough EDA of the text to ensure we are grabbing as many relevant words/phrases with the regex as possible, could also includemore advanced NLP such as sentiment analysis to ensure people are not confused and accidentally leaving a negative review, but marking 5 stars and vice versa."
   ]
  }
 ],
 "metadata": {
  "kernelspec": {
   "display_name": "Python 3",
   "language": "python",
   "name": "python3"
  },
  "language_info": {
   "codemirror_mode": {
    "name": "ipython",
    "version": 3
   },
   "file_extension": ".py",
   "mimetype": "text/x-python",
   "name": "python",
   "nbconvert_exporter": "python",
   "pygments_lexer": "ipython3",
   "version": "3.8.8"
  },
  "toc": {
   "base_numbering": 1,
   "nav_menu": {},
   "number_sections": true,
   "sideBar": true,
   "skip_h1_title": false,
   "title_cell": "Table of Contents",
   "title_sidebar": "Contents",
   "toc_cell": false,
   "toc_position": {},
   "toc_section_display": true,
   "toc_window_display": false
  },
  "varInspector": {
   "cols": {
    "lenName": 16,
    "lenType": 16,
    "lenVar": 40
   },
   "kernels_config": {
    "python": {
     "delete_cmd_postfix": "",
     "delete_cmd_prefix": "del ",
     "library": "var_list.py",
     "varRefreshCmd": "print(var_dic_list())"
    },
    "r": {
     "delete_cmd_postfix": ") ",
     "delete_cmd_prefix": "rm(",
     "library": "var_list.r",
     "varRefreshCmd": "cat(var_dic_list()) "
    }
   },
   "types_to_exclude": [
    "module",
    "function",
    "builtin_function_or_method",
    "instance",
    "_Feature"
   ],
   "window_display": false
  }
 },
 "nbformat": 4,
 "nbformat_minor": 5
}
